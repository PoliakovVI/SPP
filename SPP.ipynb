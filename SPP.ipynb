{
  "nbformat": 4,
  "nbformat_minor": 0,
  "metadata": {
    "colab": {
      "provenance": []
    },
    "kernelspec": {
      "name": "python3",
      "display_name": "Python 3"
    },
    "language_info": {
      "name": "python"
    },
    "widgets": {
      "application/vnd.jupyter.widget-state+json": {
        "a93ea9d497644331aa061ecbeec7f0b5": {
          "model_module": "catboost-widget",
          "model_name": "CatboostWidgetModel",
          "model_module_version": "^1.0.0",
          "state": {
            "_dom_classes": [],
            "_model_module": "catboost-widget",
            "_model_module_version": "^1.0.0",
            "_model_name": "CatboostWidgetModel",
            "_view_count": null,
            "_view_module": "catboost-widget",
            "_view_module_version": "^1.0.0",
            "_view_name": "CatboostWidgetView",
            "data": {
              "catboost_info": {
                "path": "catboost_info",
                "name": "catboost_info",
                "content": {
                  "passed_iterations": 199,
                  "total_iterations": 200,
                  "data": {
                    "iterations": [
                      {
                        "learn": [
                          0.6827380775
                        ],
                        "iteration": 0,
                        "passed_time": 0.01794286581,
                        "remaining_time": 3.570630295,
                        "test": [
                          0.6968178094
                        ]
                      },
                      {
                        "learn": [
                          0.6716327345
                        ],
                        "iteration": 1,
                        "passed_time": 0.03225281726,
                        "remaining_time": 3.193028909,
                        "test": [
                          0.6926247331
                        ]
                      },
                      {
                        "learn": [
                          0.6674724702
                        ],
                        "iteration": 2,
                        "passed_time": 0.04558773348,
                        "remaining_time": 2.993594498,
                        "test": [
                          0.6880614911
                        ]
                      },
                      {
                        "learn": [
                          0.6578474047
                        ],
                        "iteration": 3,
                        "passed_time": 0.06447993568,
                        "remaining_time": 3.159516848,
                        "test": [
                          0.691303796
                        ]
                      },
                      {
                        "learn": [
                          0.6531188025
                        ],
                        "iteration": 4,
                        "passed_time": 0.07815210082,
                        "remaining_time": 3.047931932,
                        "test": [
                          0.6896570365
                        ]
                      },
                      {
                        "learn": [
                          0.6435672726
                        ],
                        "iteration": 5,
                        "passed_time": 0.09242697112,
                        "remaining_time": 2.988472066,
                        "test": [
                          0.6858892114
                        ]
                      },
                      {
                        "learn": [
                          0.6342142308
                        ],
                        "iteration": 6,
                        "passed_time": 0.1061152233,
                        "remaining_time": 2.925748299,
                        "test": [
                          0.690805213
                        ]
                      },
                      {
                        "learn": [
                          0.6268131691
                        ],
                        "iteration": 7,
                        "passed_time": 0.1256024828,
                        "remaining_time": 3.014459587,
                        "test": [
                          0.696993555
                        ]
                      },
                      {
                        "learn": [
                          0.6184303539
                        ],
                        "iteration": 8,
                        "passed_time": 0.1390495108,
                        "remaining_time": 2.950939618,
                        "test": [
                          0.6990729542
                        ]
                      },
                      {
                        "learn": [
                          0.608172441
                        ],
                        "iteration": 9,
                        "passed_time": 0.1519014996,
                        "remaining_time": 2.886128493,
                        "test": [
                          0.6968976455
                        ]
                      },
                      {
                        "learn": [
                          0.6034459104
                        ],
                        "iteration": 10,
                        "passed_time": 0.1666172233,
                        "remaining_time": 2.862786837,
                        "test": [
                          0.6960896049
                        ]
                      },
                      {
                        "learn": [
                          0.5970633922
                        ],
                        "iteration": 11,
                        "passed_time": 0.1868774731,
                        "remaining_time": 2.927747078,
                        "test": [
                          0.6967479513
                        ]
                      },
                      {
                        "learn": [
                          0.5937103841
                        ],
                        "iteration": 12,
                        "passed_time": 0.2234095133,
                        "remaining_time": 3.213659923,
                        "test": [
                          0.6946868594
                        ]
                      },
                      {
                        "learn": [
                          0.5866658181
                        ],
                        "iteration": 13,
                        "passed_time": 0.2479913106,
                        "remaining_time": 3.294741698,
                        "test": [
                          0.6982918409
                        ]
                      },
                      {
                        "learn": [
                          0.5815109771
                        ],
                        "iteration": 14,
                        "passed_time": 0.2715333059,
                        "remaining_time": 3.348910773,
                        "test": [
                          0.6987259228
                        ]
                      },
                      {
                        "learn": [
                          0.5747300923
                        ],
                        "iteration": 15,
                        "passed_time": 0.2915566691,
                        "remaining_time": 3.352901695,
                        "test": [
                          0.6990158317
                        ]
                      },
                      {
                        "learn": [
                          0.5656439548
                        ],
                        "iteration": 16,
                        "passed_time": 0.3123255992,
                        "remaining_time": 3.362093215,
                        "test": [
                          0.7035029238
                        ]
                      },
                      {
                        "learn": [
                          0.5625834795
                        ],
                        "iteration": 17,
                        "passed_time": 0.326017178,
                        "remaining_time": 3.296395911,
                        "test": [
                          0.7043967027
                        ]
                      },
                      {
                        "learn": [
                          0.5578319859
                        ],
                        "iteration": 18,
                        "passed_time": 0.3482858074,
                        "remaining_time": 3.317880587,
                        "test": [
                          0.709627086
                        ]
                      },
                      {
                        "learn": [
                          0.5506200642
                        ],
                        "iteration": 19,
                        "passed_time": 0.3814985515,
                        "remaining_time": 3.433486964,
                        "test": [
                          0.7078079447
                        ]
                      },
                      {
                        "learn": [
                          0.5432018858
                        ],
                        "iteration": 20,
                        "passed_time": 0.3993812209,
                        "remaining_time": 3.404249455,
                        "test": [
                          0.710545956
                        ]
                      },
                      {
                        "learn": [
                          0.5369290673
                        ],
                        "iteration": 21,
                        "passed_time": 0.4143113286,
                        "remaining_time": 3.352155295,
                        "test": [
                          0.7139555127
                        ]
                      },
                      {
                        "learn": [
                          0.5267936278
                        ],
                        "iteration": 22,
                        "passed_time": 0.4310311308,
                        "remaining_time": 3.317065659,
                        "test": [
                          0.7167784792
                        ]
                      },
                      {
                        "learn": [
                          0.5230506714
                        ],
                        "iteration": 23,
                        "passed_time": 0.449980365,
                        "remaining_time": 3.29985601,
                        "test": [
                          0.7187013171
                        ]
                      },
                      {
                        "learn": [
                          0.5179350095
                        ],
                        "iteration": 24,
                        "passed_time": 0.4771438666,
                        "remaining_time": 3.340007066,
                        "test": [
                          0.717958198
                        ]
                      },
                      {
                        "learn": [
                          0.513541981
                        ],
                        "iteration": 25,
                        "passed_time": 0.4956850373,
                        "remaining_time": 3.317276788,
                        "test": [
                          0.7182707308
                        ]
                      },
                      {
                        "learn": [
                          0.5096529618
                        ],
                        "iteration": 26,
                        "passed_time": 0.5246461189,
                        "remaining_time": 3.361621429,
                        "test": [
                          0.7193553538
                        ]
                      },
                      {
                        "learn": [
                          0.5053410738
                        ],
                        "iteration": 27,
                        "passed_time": 0.5441459111,
                        "remaining_time": 3.342610597,
                        "test": [
                          0.7186633649
                        ]
                      },
                      {
                        "learn": [
                          0.4991817541
                        ],
                        "iteration": 28,
                        "passed_time": 0.5587229446,
                        "remaining_time": 3.294538742,
                        "test": [
                          0.7212742389
                        ]
                      },
                      {
                        "learn": [
                          0.4964138966
                        ],
                        "iteration": 29,
                        "passed_time": 0.5714621104,
                        "remaining_time": 3.238285292,
                        "test": [
                          0.7230840501
                        ]
                      },
                      {
                        "learn": [
                          0.4910286615
                        ],
                        "iteration": 30,
                        "passed_time": 0.5846402922,
                        "remaining_time": 3.187232561,
                        "test": [
                          0.7266219852
                        ]
                      },
                      {
                        "learn": [
                          0.4869051226
                        ],
                        "iteration": 31,
                        "passed_time": 0.6028342063,
                        "remaining_time": 3.164879583,
                        "test": [
                          0.7284221426
                        ]
                      },
                      {
                        "learn": [
                          0.4809706221
                        ],
                        "iteration": 32,
                        "passed_time": 0.6166374115,
                        "remaining_time": 3.120559022,
                        "test": [
                          0.7277455424
                        ]
                      },
                      {
                        "learn": [
                          0.4749706738
                        ],
                        "iteration": 33,
                        "passed_time": 0.6304294199,
                        "remaining_time": 3.077978932,
                        "test": [
                          0.7298531618
                        ]
                      },
                      {
                        "learn": [
                          0.4680516559
                        ],
                        "iteration": 34,
                        "passed_time": 0.6512152651,
                        "remaining_time": 3.070014821,
                        "test": [
                          0.7318825455
                        ]
                      },
                      {
                        "learn": [
                          0.4638994106
                        ],
                        "iteration": 35,
                        "passed_time": 0.6649507824,
                        "remaining_time": 3.029220231,
                        "test": [
                          0.7310374453
                        ]
                      },
                      {
                        "learn": [
                          0.4595262717
                        ],
                        "iteration": 36,
                        "passed_time": 0.6791858508,
                        "remaining_time": 2.992089019,
                        "test": [
                          0.7331255248
                        ]
                      },
                      {
                        "learn": [
                          0.4573555374
                        ],
                        "iteration": 37,
                        "passed_time": 0.6973832802,
                        "remaining_time": 2.973055037,
                        "test": [
                          0.7332717968
                        ]
                      },
                      {
                        "learn": [
                          0.4528386378
                        ],
                        "iteration": 38,
                        "passed_time": 0.7103828165,
                        "remaining_time": 2.932605986,
                        "test": [
                          0.737651086
                        ]
                      },
                      {
                        "learn": [
                          0.4504107622
                        ],
                        "iteration": 39,
                        "passed_time": 0.7270766098,
                        "remaining_time": 2.908306439,
                        "test": [
                          0.7380686262
                        ]
                      },
                      {
                        "learn": [
                          0.446740287
                        ],
                        "iteration": 40,
                        "passed_time": 0.7510677854,
                        "remaining_time": 2.912677509,
                        "test": [
                          0.740177958
                        ]
                      },
                      {
                        "learn": [
                          0.4408693269
                        ],
                        "iteration": 41,
                        "passed_time": 0.7739198805,
                        "remaining_time": 2.911412884,
                        "test": [
                          0.7398667303
                        ]
                      },
                      {
                        "learn": [
                          0.4363771254
                        ],
                        "iteration": 42,
                        "passed_time": 0.8011308345,
                        "remaining_time": 2.925059093,
                        "test": [
                          0.744445677
                        ]
                      },
                      {
                        "learn": [
                          0.4313905939
                        ],
                        "iteration": 43,
                        "passed_time": 0.8129535151,
                        "remaining_time": 2.882289735,
                        "test": [
                          0.7441740591
                        ]
                      },
                      {
                        "learn": [
                          0.4262781752
                        ],
                        "iteration": 44,
                        "passed_time": 0.8265048034,
                        "remaining_time": 2.846849878,
                        "test": [
                          0.7457812934
                        ]
                      },
                      {
                        "learn": [
                          0.4227048133
                        ],
                        "iteration": 45,
                        "passed_time": 0.8407429344,
                        "remaining_time": 2.814661128,
                        "test": [
                          0.7503788239
                        ]
                      },
                      {
                        "learn": [
                          0.4202648603
                        ],
                        "iteration": 46,
                        "passed_time": 0.8616946735,
                        "remaining_time": 2.805091171,
                        "test": [
                          0.7499346377
                        ]
                      },
                      {
                        "learn": [
                          0.4171238248
                        ],
                        "iteration": 47,
                        "passed_time": 0.8771533179,
                        "remaining_time": 2.777652173,
                        "test": [
                          0.7467117929
                        ]
                      },
                      {
                        "learn": [
                          0.4118281988
                        ],
                        "iteration": 48,
                        "passed_time": 0.8923948215,
                        "remaining_time": 2.750033021,
                        "test": [
                          0.7495693223
                        ]
                      },
                      {
                        "learn": [
                          0.4074763236
                        ],
                        "iteration": 49,
                        "passed_time": 0.9082307066,
                        "remaining_time": 2.72469212,
                        "test": [
                          0.7526846211
                        ]
                      },
                      {
                        "learn": [
                          0.4041847085
                        ],
                        "iteration": 50,
                        "passed_time": 0.9301044189,
                        "remaining_time": 2.71736389,
                        "test": [
                          0.7548849696
                        ]
                      },
                      {
                        "learn": [
                          0.4001250563
                        ],
                        "iteration": 51,
                        "passed_time": 0.9412908067,
                        "remaining_time": 2.67905845,
                        "test": [
                          0.7535881842
                        ]
                      },
                      {
                        "learn": [
                          0.3964744548
                        ],
                        "iteration": 52,
                        "passed_time": 0.9500750744,
                        "remaining_time": 2.635113886,
                        "test": [
                          0.7537090742
                        ]
                      },
                      {
                        "learn": [
                          0.3922934387
                        ],
                        "iteration": 53,
                        "passed_time": 0.9580308293,
                        "remaining_time": 2.590231501,
                        "test": [
                          0.7538953785
                        ]
                      },
                      {
                        "learn": [
                          0.388388512
                        ],
                        "iteration": 54,
                        "passed_time": 0.9654006902,
                        "remaining_time": 2.545147274,
                        "test": [
                          0.7522040624
                        ]
                      },
                      {
                        "learn": [
                          0.383502988
                        ],
                        "iteration": 55,
                        "passed_time": 0.9733342693,
                        "remaining_time": 2.50285955,
                        "test": [
                          0.7504964298
                        ]
                      },
                      {
                        "learn": [
                          0.382192133
                        ],
                        "iteration": 56,
                        "passed_time": 0.9803854344,
                        "remaining_time": 2.459563458,
                        "test": [
                          0.7491043574
                        ]
                      },
                      {
                        "learn": [
                          0.3791114647
                        ],
                        "iteration": 57,
                        "passed_time": 1.002052761,
                        "remaining_time": 2.453301588,
                        "test": [
                          0.7456458173
                        ]
                      },
                      {
                        "learn": [
                          0.3753692013
                        ],
                        "iteration": 58,
                        "passed_time": 1.010984863,
                        "remaining_time": 2.416082469,
                        "test": [
                          0.7464419279
                        ]
                      },
                      {
                        "learn": [
                          0.371702712
                        ],
                        "iteration": 59,
                        "passed_time": 1.019698985,
                        "remaining_time": 2.379297631,
                        "test": [
                          0.7478578241
                        ]
                      },
                      {
                        "learn": [
                          0.3679357427
                        ],
                        "iteration": 60,
                        "passed_time": 1.027876819,
                        "remaining_time": 2.342211112,
                        "test": [
                          0.7425093673
                        ]
                      },
                      {
                        "learn": [
                          0.3633381873
                        ],
                        "iteration": 61,
                        "passed_time": 1.035238731,
                        "remaining_time": 2.304241046,
                        "test": [
                          0.7405240916
                        ]
                      },
                      {
                        "learn": [
                          0.3612074669
                        ],
                        "iteration": 62,
                        "passed_time": 1.042463741,
                        "remaining_time": 2.266944961,
                        "test": [
                          0.7404905053
                        ]
                      },
                      {
                        "learn": [
                          0.3575823566
                        ],
                        "iteration": 63,
                        "passed_time": 1.049937229,
                        "remaining_time": 2.231116612,
                        "test": [
                          0.7399565753
                        ]
                      },
                      {
                        "learn": [
                          0.3548428741
                        ],
                        "iteration": 64,
                        "passed_time": 1.058464668,
                        "remaining_time": 2.198349694,
                        "test": [
                          0.7391230479
                        ]
                      },
                      {
                        "learn": [
                          0.3494813896
                        ],
                        "iteration": 65,
                        "passed_time": 1.063907297,
                        "remaining_time": 2.160054208,
                        "test": [
                          0.740442659
                        ]
                      },
                      {
                        "learn": [
                          0.3458762573
                        ],
                        "iteration": 66,
                        "passed_time": 1.072034227,
                        "remaining_time": 2.128067943,
                        "test": [
                          0.7421879924
                        ]
                      },
                      {
                        "learn": [
                          0.3422608868
                        ],
                        "iteration": 67,
                        "passed_time": 1.079198549,
                        "remaining_time": 2.09491483,
                        "test": [
                          0.7430251078
                        ]
                      },
                      {
                        "learn": [
                          0.3404133944
                        ],
                        "iteration": 68,
                        "passed_time": 1.095564341,
                        "remaining_time": 2.079984474,
                        "test": [
                          0.7423251092
                        ]
                      },
                      {
                        "learn": [
                          0.3371674901
                        ],
                        "iteration": 69,
                        "passed_time": 1.108184533,
                        "remaining_time": 2.058056989,
                        "test": [
                          0.741997559
                        ]
                      },
                      {
                        "learn": [
                          0.3330458226
                        ],
                        "iteration": 70,
                        "passed_time": 1.136435859,
                        "remaining_time": 2.064791913,
                        "test": [
                          0.7423802397
                        ]
                      },
                      {
                        "learn": [
                          0.3298863646
                        ],
                        "iteration": 71,
                        "passed_time": 1.157094207,
                        "remaining_time": 2.057056367,
                        "test": [
                          0.7464558716
                        ]
                      },
                      {
                        "learn": [
                          0.3264126879
                        ],
                        "iteration": 72,
                        "passed_time": 1.173880711,
                        "remaining_time": 2.042230826,
                        "test": [
                          0.7500471604
                        ]
                      },
                      {
                        "learn": [
                          0.3232743601
                        ],
                        "iteration": 73,
                        "passed_time": 1.184826102,
                        "remaining_time": 2.017406606,
                        "test": [
                          0.7488570213
                        ]
                      },
                      {
                        "learn": [
                          0.3204658927
                        ],
                        "iteration": 74,
                        "passed_time": 1.198544925,
                        "remaining_time": 1.997574875,
                        "test": [
                          0.7480292279
                        ]
                      },
                      {
                        "learn": [
                          0.3174384902
                        ],
                        "iteration": 75,
                        "passed_time": 1.223392303,
                        "remaining_time": 1.996061126,
                        "test": [
                          0.7468757728
                        ]
                      },
                      {
                        "learn": [
                          0.3145937346
                        ],
                        "iteration": 76,
                        "passed_time": 1.236372201,
                        "remaining_time": 1.974984166,
                        "test": [
                          0.7495363849
                        ]
                      },
                      {
                        "learn": [
                          0.3098293902
                        ],
                        "iteration": 77,
                        "passed_time": 1.270798643,
                        "remaining_time": 1.987659416,
                        "test": [
                          0.7512905901
                        ]
                      },
                      {
                        "learn": [
                          0.3066098003
                        ],
                        "iteration": 78,
                        "passed_time": 1.290839761,
                        "remaining_time": 1.977109002,
                        "test": [
                          0.7522473432
                        ]
                      },
                      {
                        "learn": [
                          0.3051827465
                        ],
                        "iteration": 79,
                        "passed_time": 1.309649118,
                        "remaining_time": 1.964473677,
                        "test": [
                          0.749976713
                        ]
                      },
                      {
                        "learn": [
                          0.302322845
                        ],
                        "iteration": 80,
                        "passed_time": 1.321871344,
                        "remaining_time": 1.942008518,
                        "test": [
                          0.7479448792
                        ]
                      },
                      {
                        "learn": [
                          0.299634316
                        ],
                        "iteration": 81,
                        "passed_time": 1.33472929,
                        "remaining_time": 1.920708003,
                        "test": [
                          0.7482235529
                        ]
                      },
                      {
                        "learn": [
                          0.2973884363
                        ],
                        "iteration": 82,
                        "passed_time": 1.349296552,
                        "remaining_time": 1.902020441,
                        "test": [
                          0.7489883566
                        ]
                      },
                      {
                        "learn": [
                          0.2959453013
                        ],
                        "iteration": 83,
                        "passed_time": 1.366807871,
                        "remaining_time": 1.887496584,
                        "test": [
                          0.7496722974
                        ]
                      },
                      {
                        "learn": [
                          0.2929847972
                        ],
                        "iteration": 84,
                        "passed_time": 1.37843716,
                        "remaining_time": 1.864944393,
                        "test": [
                          0.7493137539
                        ]
                      },
                      {
                        "learn": [
                          0.2893576546
                        ],
                        "iteration": 85,
                        "passed_time": 1.393261978,
                        "remaining_time": 1.846882156,
                        "test": [
                          0.7502210037
                        ]
                      },
                      {
                        "learn": [
                          0.2875645791
                        ],
                        "iteration": 86,
                        "passed_time": 1.406939454,
                        "remaining_time": 1.827404119,
                        "test": [
                          0.7530670759
                        ]
                      },
                      {
                        "learn": [
                          0.2850144628
                        ],
                        "iteration": 87,
                        "passed_time": 1.434199726,
                        "remaining_time": 1.825345106,
                        "test": [
                          0.7529591103
                        ]
                      },
                      {
                        "learn": [
                          0.2827244549
                        ],
                        "iteration": 88,
                        "passed_time": 1.448622774,
                        "remaining_time": 1.806709302,
                        "test": [
                          0.7538744658
                        ]
                      },
                      {
                        "learn": [
                          0.2795275374
                        ],
                        "iteration": 89,
                        "passed_time": 1.468854267,
                        "remaining_time": 1.795266326,
                        "test": [
                          0.755019391
                        ]
                      },
                      {
                        "learn": [
                          0.2768208608
                        ],
                        "iteration": 90,
                        "passed_time": 1.496641006,
                        "remaining_time": 1.792679887,
                        "test": [
                          0.7541499335
                        ]
                      },
                      {
                        "learn": [
                          0.2740507776
                        ],
                        "iteration": 91,
                        "passed_time": 1.510154137,
                        "remaining_time": 1.772789639,
                        "test": [
                          0.756549546
                        ]
                      },
                      {
                        "learn": [
                          0.2710119618
                        ],
                        "iteration": 92,
                        "passed_time": 1.522983019,
                        "remaining_time": 1.75224928,
                        "test": [
                          0.7587200927
                        ]
                      },
                      {
                        "learn": [
                          0.2694532474
                        ],
                        "iteration": 93,
                        "passed_time": 1.555094749,
                        "remaining_time": 1.753617483,
                        "test": [
                          0.7598884549
                        ]
                      },
                      {
                        "learn": [
                          0.2670538608
                        ],
                        "iteration": 94,
                        "passed_time": 1.569869381,
                        "remaining_time": 1.735118789,
                        "test": [
                          0.7620910509
                        ]
                      },
                      {
                        "learn": [
                          0.2648950096
                        ],
                        "iteration": 95,
                        "passed_time": 1.57703831,
                        "remaining_time": 1.708458169,
                        "test": [
                          0.7649742804
                        ]
                      },
                      {
                        "learn": [
                          0.2627474675
                        ],
                        "iteration": 96,
                        "passed_time": 1.584047543,
                        "remaining_time": 1.682029865,
                        "test": [
                          0.7684603163
                        ]
                      },
                      {
                        "learn": [
                          0.2599718211
                        ],
                        "iteration": 97,
                        "passed_time": 1.595440018,
                        "remaining_time": 1.660560018,
                        "test": [
                          0.7688292476
                        ]
                      },
                      {
                        "learn": [
                          0.25583051
                        ],
                        "iteration": 98,
                        "passed_time": 1.612400803,
                        "remaining_time": 1.644974557,
                        "test": [
                          0.7709088799
                        ]
                      },
                      {
                        "learn": [
                          0.2524428733
                        ],
                        "iteration": 99,
                        "passed_time": 1.622234332,
                        "remaining_time": 1.622234332,
                        "test": [
                          0.7695949806
                        ]
                      },
                      {
                        "learn": [
                          0.2488503469
                        ],
                        "iteration": 100,
                        "passed_time": 1.628288585,
                        "remaining_time": 1.596045247,
                        "test": [
                          0.7709084652
                        ]
                      },
                      {
                        "learn": [
                          0.246457573
                        ],
                        "iteration": 101,
                        "passed_time": 1.637867691,
                        "remaining_time": 1.573637585,
                        "test": [
                          0.7730778816
                        ]
                      },
                      {
                        "learn": [
                          0.2437236183
                        ],
                        "iteration": 102,
                        "passed_time": 1.645081425,
                        "remaining_time": 1.549251439,
                        "test": [
                          0.7736127645
                        ]
                      },
                      {
                        "learn": [
                          0.2421672811
                        ],
                        "iteration": 103,
                        "passed_time": 1.652636506,
                        "remaining_time": 1.525510621,
                        "test": [
                          0.7755531113
                        ]
                      },
                      {
                        "learn": [
                          0.2402372518
                        ],
                        "iteration": 104,
                        "passed_time": 1.663937117,
                        "remaining_time": 1.505466915,
                        "test": [
                          0.7752394942
                        ]
                      },
                      {
                        "learn": [
                          0.2388114954
                        ],
                        "iteration": 105,
                        "passed_time": 1.672325344,
                        "remaining_time": 1.483005494,
                        "test": [
                          0.7757853554
                        ]
                      },
                      {
                        "learn": [
                          0.2364683769
                        ],
                        "iteration": 106,
                        "passed_time": 1.687800917,
                        "remaining_time": 1.466967152,
                        "test": [
                          0.7761713772
                        ]
                      },
                      {
                        "learn": [
                          0.2341098142
                        ],
                        "iteration": 107,
                        "passed_time": 1.70219465,
                        "remaining_time": 1.450017665,
                        "test": [
                          0.7801058546
                        ]
                      },
                      {
                        "learn": [
                          0.2322725543
                        ],
                        "iteration": 108,
                        "passed_time": 1.710272788,
                        "remaining_time": 1.427842419,
                        "test": [
                          0.7843826046
                        ]
                      },
                      {
                        "learn": [
                          0.2300538317
                        ],
                        "iteration": 109,
                        "passed_time": 1.716619845,
                        "remaining_time": 1.404507146,
                        "test": [
                          0.7830379847
                        ]
                      },
                      {
                        "learn": [
                          0.2282283098
                        ],
                        "iteration": 110,
                        "passed_time": 1.723336933,
                        "remaining_time": 1.381774658,
                        "test": [
                          0.7849314775
                        ]
                      },
                      {
                        "learn": [
                          0.2274411816
                        ],
                        "iteration": 111,
                        "passed_time": 1.731522818,
                        "remaining_time": 1.360482214,
                        "test": [
                          0.785329499
                        ]
                      },
                      {
                        "learn": [
                          0.2254259403
                        ],
                        "iteration": 112,
                        "passed_time": 1.738550457,
                        "remaining_time": 1.338529998,
                        "test": [
                          0.7865723955
                        ]
                      },
                      {
                        "learn": [
                          0.222559003
                        ],
                        "iteration": 113,
                        "passed_time": 1.746420082,
                        "remaining_time": 1.317474799,
                        "test": [
                          0.7854181768
                        ]
                      },
                      {
                        "learn": [
                          0.2203740474
                        ],
                        "iteration": 114,
                        "passed_time": 1.754615119,
                        "remaining_time": 1.296889436,
                        "test": [
                          0.7868255508
                        ]
                      },
                      {
                        "learn": [
                          0.2180262293
                        ],
                        "iteration": 115,
                        "passed_time": 1.762357073,
                        "remaining_time": 1.276189604,
                        "test": [
                          0.785348517
                        ]
                      },
                      {
                        "learn": [
                          0.2161602438
                        ],
                        "iteration": 116,
                        "passed_time": 1.769288169,
                        "remaining_time": 1.255136052,
                        "test": [
                          0.7845368029
                        ]
                      },
                      {
                        "learn": [
                          0.2142264565
                        ],
                        "iteration": 117,
                        "passed_time": 1.775772025,
                        "remaining_time": 1.234011068,
                        "test": [
                          0.7848199811
                        ]
                      },
                      {
                        "learn": [
                          0.2126799588
                        ],
                        "iteration": 118,
                        "passed_time": 1.785302548,
                        "remaining_time": 1.215205936,
                        "test": [
                          0.7877303261
                        ]
                      },
                      {
                        "learn": [
                          0.2108663453
                        ],
                        "iteration": 119,
                        "passed_time": 1.803197601,
                        "remaining_time": 1.202131734,
                        "test": [
                          0.7882233046
                        ]
                      },
                      {
                        "learn": [
                          0.2085385871
                        ],
                        "iteration": 120,
                        "passed_time": 1.821370987,
                        "remaining_time": 1.18915957,
                        "test": [
                          0.7894059152
                        ]
                      },
                      {
                        "learn": [
                          0.206297332
                        ],
                        "iteration": 121,
                        "passed_time": 1.835192229,
                        "remaining_time": 1.173319622,
                        "test": [
                          0.7874507839
                        ]
                      },
                      {
                        "learn": [
                          0.2031525083
                        ],
                        "iteration": 122,
                        "passed_time": 1.861771409,
                        "remaining_time": 1.165499175,
                        "test": [
                          0.7896082482
                        ]
                      },
                      {
                        "learn": [
                          0.2016613496
                        ],
                        "iteration": 123,
                        "passed_time": 1.874875597,
                        "remaining_time": 1.149117302,
                        "test": [
                          0.7892198695
                        ]
                      },
                      {
                        "learn": [
                          0.199608454
                        ],
                        "iteration": 124,
                        "passed_time": 1.893496426,
                        "remaining_time": 1.136097856,
                        "test": [
                          0.7906821039
                        ]
                      },
                      {
                        "learn": [
                          0.1974335278
                        ],
                        "iteration": 125,
                        "passed_time": 1.906497324,
                        "remaining_time": 1.119688905,
                        "test": [
                          0.7929748728
                        ]
                      },
                      {
                        "learn": [
                          0.1953610106
                        ],
                        "iteration": 126,
                        "passed_time": 1.91915736,
                        "remaining_time": 1.103137695,
                        "test": [
                          0.790834767
                        ]
                      },
                      {
                        "learn": [
                          0.1929118583
                        ],
                        "iteration": 127,
                        "passed_time": 1.936428245,
                        "remaining_time": 1.089240888,
                        "test": [
                          0.7942152502
                        ]
                      },
                      {
                        "learn": [
                          0.1898445332
                        ],
                        "iteration": 128,
                        "passed_time": 1.951886285,
                        "remaining_time": 1.074294002,
                        "test": [
                          0.7930763644
                        ]
                      },
                      {
                        "learn": [
                          0.1880193141
                        ],
                        "iteration": 129,
                        "passed_time": 1.97353272,
                        "remaining_time": 1.062671464,
                        "test": [
                          0.7942696661
                        ]
                      },
                      {
                        "learn": [
                          0.185934748
                        ],
                        "iteration": 130,
                        "passed_time": 2.000172516,
                        "remaining_time": 1.053525981,
                        "test": [
                          0.7946798471
                        ]
                      },
                      {
                        "learn": [
                          0.1841320064
                        ],
                        "iteration": 131,
                        "passed_time": 2.022618977,
                        "remaining_time": 1.04195523,
                        "test": [
                          0.7921320322
                        ]
                      },
                      {
                        "learn": [
                          0.181643399
                        ],
                        "iteration": 132,
                        "passed_time": 2.054828938,
                        "remaining_time": 1.03513939,
                        "test": [
                          0.7921331489
                        ]
                      },
                      {
                        "learn": [
                          0.1795741175
                        ],
                        "iteration": 133,
                        "passed_time": 2.079793413,
                        "remaining_time": 1.02437586,
                        "test": [
                          0.7908918298
                        ]
                      },
                      {
                        "learn": [
                          0.1770246105
                        ],
                        "iteration": 134,
                        "passed_time": 2.093083967,
                        "remaining_time": 1.007781169,
                        "test": [
                          0.7909967081
                        ]
                      },
                      {
                        "learn": [
                          0.1750241146
                        ],
                        "iteration": 135,
                        "passed_time": 2.105409004,
                        "remaining_time": 0.9907807079,
                        "test": [
                          0.7912884309
                        ]
                      },
                      {
                        "learn": [
                          0.1736793051
                        ],
                        "iteration": 136,
                        "passed_time": 2.118800828,
                        "remaining_time": 0.9743390671,
                        "test": [
                          0.7932850217
                        ]
                      },
                      {
                        "learn": [
                          0.1723770818
                        ],
                        "iteration": 137,
                        "passed_time": 2.137564609,
                        "remaining_time": 0.960355114,
                        "test": [
                          0.7923885977
                        ]
                      },
                      {
                        "learn": [
                          0.1696141296
                        ],
                        "iteration": 138,
                        "passed_time": 2.152009278,
                        "remaining_time": 0.9444069494,
                        "test": [
                          0.7946216323
                        ]
                      },
                      {
                        "learn": [
                          0.168400984
                        ],
                        "iteration": 139,
                        "passed_time": 2.183250565,
                        "remaining_time": 0.9356788136,
                        "test": [
                          0.7943921519
                        ]
                      },
                      {
                        "learn": [
                          0.1670622485
                        ],
                        "iteration": 140,
                        "passed_time": 2.201815354,
                        "remaining_time": 0.921326992,
                        "test": [
                          0.7972193815
                        ]
                      },
                      {
                        "learn": [
                          0.1649845454
                        ],
                        "iteration": 141,
                        "passed_time": 2.232896736,
                        "remaining_time": 0.9120282442,
                        "test": [
                          0.8008369467
                        ]
                      },
                      {
                        "learn": [
                          0.1643883753
                        ],
                        "iteration": 142,
                        "passed_time": 2.258486242,
                        "remaining_time": 0.9002357749,
                        "test": [
                          0.8015496785
                        ]
                      },
                      {
                        "learn": [
                          0.1640425183
                        ],
                        "iteration": 143,
                        "passed_time": 2.282435327,
                        "remaining_time": 0.8876137382,
                        "test": [
                          0.8038615055
                        ]
                      },
                      {
                        "learn": [
                          0.1623270335
                        ],
                        "iteration": 144,
                        "passed_time": 2.296350963,
                        "remaining_time": 0.8710296757,
                        "test": [
                          0.8047033878
                        ]
                      },
                      {
                        "learn": [
                          0.1614798238
                        ],
                        "iteration": 145,
                        "passed_time": 2.308640076,
                        "remaining_time": 0.8538805762,
                        "test": [
                          0.8054868797
                        ]
                      },
                      {
                        "learn": [
                          0.1598848035
                        ],
                        "iteration": 146,
                        "passed_time": 2.326667566,
                        "remaining_time": 0.8388665375,
                        "test": [
                          0.8055774382
                        ]
                      },
                      {
                        "learn": [
                          0.1582162733
                        ],
                        "iteration": 147,
                        "passed_time": 2.339296854,
                        "remaining_time": 0.8219151107,
                        "test": [
                          0.8083171616
                        ]
                      },
                      {
                        "learn": [
                          0.1573655416
                        ],
                        "iteration": 148,
                        "passed_time": 2.352011943,
                        "remaining_time": 0.8050510678,
                        "test": [
                          0.8114777419
                        ]
                      },
                      {
                        "learn": [
                          0.1560995818
                        ],
                        "iteration": 149,
                        "passed_time": 2.376945062,
                        "remaining_time": 0.7923150208,
                        "test": [
                          0.8141816429
                        ]
                      },
                      {
                        "learn": [
                          0.1542944568
                        ],
                        "iteration": 150,
                        "passed_time": 2.390291161,
                        "remaining_time": 0.7756573967,
                        "test": [
                          0.8145155404
                        ]
                      },
                      {
                        "learn": [
                          0.1529555346
                        ],
                        "iteration": 151,
                        "passed_time": 2.406408912,
                        "remaining_time": 0.7599186039,
                        "test": [
                          0.8137753332
                        ]
                      },
                      {
                        "learn": [
                          0.1520099766
                        ],
                        "iteration": 152,
                        "passed_time": 2.419764473,
                        "remaining_time": 0.7433263414,
                        "test": [
                          0.8129372069
                        ]
                      },
                      {
                        "learn": [
                          0.1506799756
                        ],
                        "iteration": 153,
                        "passed_time": 2.435198257,
                        "remaining_time": 0.7273968819,
                        "test": [
                          0.8122186261
                        ]
                      },
                      {
                        "learn": [
                          0.1493513963
                        ],
                        "iteration": 154,
                        "passed_time": 2.448087131,
                        "remaining_time": 0.7107349734,
                        "test": [
                          0.8122022475
                        ]
                      },
                      {
                        "learn": [
                          0.1482004388
                        ],
                        "iteration": 155,
                        "passed_time": 2.460866716,
                        "remaining_time": 0.6940906122,
                        "test": [
                          0.8125233934
                        ]
                      },
                      {
                        "learn": [
                          0.1464699942
                        ],
                        "iteration": 156,
                        "passed_time": 2.47970879,
                        "remaining_time": 0.6791559106,
                        "test": [
                          0.8136653723
                        ]
                      },
                      {
                        "learn": [
                          0.1455402425
                        ],
                        "iteration": 157,
                        "passed_time": 2.507404125,
                        "remaining_time": 0.6665251473,
                        "test": [
                          0.8139256688
                        ]
                      },
                      {
                        "learn": [
                          0.1432169733
                        ],
                        "iteration": 158,
                        "passed_time": 2.519981918,
                        "remaining_time": 0.6498066581,
                        "test": [
                          0.815901114
                        ]
                      },
                      {
                        "learn": [
                          0.1418199665
                        ],
                        "iteration": 159,
                        "passed_time": 2.544474538,
                        "remaining_time": 0.6361186345,
                        "test": [
                          0.8163152857
                        ]
                      },
                      {
                        "learn": [
                          0.140360093
                        ],
                        "iteration": 160,
                        "passed_time": 2.563806982,
                        "remaining_time": 0.6210464117,
                        "test": [
                          0.8149218925
                        ]
                      },
                      {
                        "learn": [
                          0.1397217127
                        ],
                        "iteration": 161,
                        "passed_time": 2.5775993,
                        "remaining_time": 0.6046220581,
                        "test": [
                          0.8137820729
                        ]
                      },
                      {
                        "learn": [
                          0.1387996283
                        ],
                        "iteration": 162,
                        "passed_time": 2.612451586,
                        "remaining_time": 0.5930104827,
                        "test": [
                          0.8156821251
                        ]
                      },
                      {
                        "learn": [
                          0.13697602
                        ],
                        "iteration": 163,
                        "passed_time": 2.625660286,
                        "remaining_time": 0.576364453,
                        "test": [
                          0.814979474
                        ]
                      },
                      {
                        "learn": [
                          0.1355876519
                        ],
                        "iteration": 164,
                        "passed_time": 2.640582126,
                        "remaining_time": 0.5601234813,
                        "test": [
                          0.8138978433
                        ]
                      },
                      {
                        "learn": [
                          0.1343012146
                        ],
                        "iteration": 165,
                        "passed_time": 2.648920106,
                        "remaining_time": 0.5425499013,
                        "test": [
                          0.8153907867
                        ]
                      },
                      {
                        "learn": [
                          0.1330488435
                        ],
                        "iteration": 166,
                        "passed_time": 2.655911747,
                        "remaining_time": 0.5248208842,
                        "test": [
                          0.8169856744
                        ]
                      },
                      {
                        "learn": [
                          0.1320036088
                        ],
                        "iteration": 167,
                        "passed_time": 2.661704054,
                        "remaining_time": 0.5069912483,
                        "test": [
                          0.8171321402
                        ]
                      },
                      {
                        "learn": [
                          0.1303700669
                        ],
                        "iteration": 168,
                        "passed_time": 2.668879238,
                        "remaining_time": 0.48955773,
                        "test": [
                          0.8159949321
                        ]
                      },
                      {
                        "learn": [
                          0.1286337918
                        ],
                        "iteration": 169,
                        "passed_time": 2.677490225,
                        "remaining_time": 0.472498275,
                        "test": [
                          0.8169532167
                        ]
                      },
                      {
                        "learn": [
                          0.1274942822
                        ],
                        "iteration": 170,
                        "passed_time": 2.701661,
                        "remaining_time": 0.4581764269,
                        "test": [
                          0.8210193967
                        ]
                      },
                      {
                        "learn": [
                          0.1266594829
                        ],
                        "iteration": 171,
                        "passed_time": 2.714743539,
                        "remaining_time": 0.4419349947,
                        "test": [
                          0.8227505432
                        ]
                      },
                      {
                        "learn": [
                          0.125494957
                        ],
                        "iteration": 172,
                        "passed_time": 2.7259315,
                        "remaining_time": 0.4254343959,
                        "test": [
                          0.8241607068
                        ]
                      },
                      {
                        "learn": [
                          0.1237629091
                        ],
                        "iteration": 173,
                        "passed_time": 2.744747761,
                        "remaining_time": 0.4101347229,
                        "test": [
                          0.8241831
                        ]
                      },
                      {
                        "learn": [
                          0.1220279421
                        ],
                        "iteration": 174,
                        "passed_time": 2.759032051,
                        "remaining_time": 0.3941474359,
                        "test": [
                          0.8259507339
                        ]
                      },
                      {
                        "learn": [
                          0.1210109115
                        ],
                        "iteration": 175,
                        "passed_time": 2.773041701,
                        "remaining_time": 0.3781420501,
                        "test": [
                          0.8284199579
                        ]
                      },
                      {
                        "learn": [
                          0.1201109609
                        ],
                        "iteration": 176,
                        "passed_time": 2.788684784,
                        "remaining_time": 0.3623714692,
                        "test": [
                          0.8288124139
                        ]
                      },
                      {
                        "learn": [
                          0.1187058151
                        ],
                        "iteration": 177,
                        "passed_time": 2.802702017,
                        "remaining_time": 0.3464013728,
                        "test": [
                          0.8283697767
                        ]
                      },
                      {
                        "learn": [
                          0.1174191785
                        ],
                        "iteration": 178,
                        "passed_time": 2.81652296,
                        "remaining_time": 0.3304300679,
                        "test": [
                          0.8270925745
                        ]
                      },
                      {
                        "learn": [
                          0.1161815288
                        ],
                        "iteration": 179,
                        "passed_time": 2.8298514,
                        "remaining_time": 0.3144279334,
                        "test": [
                          0.8294180635
                        ]
                      },
                      {
                        "learn": [
                          0.1145282208
                        ],
                        "iteration": 180,
                        "passed_time": 2.842753046,
                        "remaining_time": 0.2984105408,
                        "test": [
                          0.8303366995
                        ]
                      },
                      {
                        "learn": [
                          0.1132953848
                        ],
                        "iteration": 181,
                        "passed_time": 2.859542803,
                        "remaining_time": 0.2828119255,
                        "test": [
                          0.8278626315
                        ]
                      },
                      {
                        "learn": [
                          0.1121018324
                        ],
                        "iteration": 182,
                        "passed_time": 2.874299038,
                        "remaining_time": 0.267011386,
                        "test": [
                          0.8295599876
                        ]
                      },
                      {
                        "learn": [
                          0.1108906383
                        ],
                        "iteration": 183,
                        "passed_time": 2.886653679,
                        "remaining_time": 0.2510133634,
                        "test": [
                          0.8290721453
                        ]
                      },
                      {
                        "learn": [
                          0.1097602579
                        ],
                        "iteration": 184,
                        "passed_time": 2.902089954,
                        "remaining_time": 0.2353045909,
                        "test": [
                          0.8282282436
                        ]
                      },
                      {
                        "learn": [
                          0.1083874602
                        ],
                        "iteration": 185,
                        "passed_time": 2.914579498,
                        "remaining_time": 0.2193769514,
                        "test": [
                          0.8272655171
                        ]
                      },
                      {
                        "learn": [
                          0.1072363853
                        ],
                        "iteration": 186,
                        "passed_time": 2.932524554,
                        "remaining_time": 0.2038653433,
                        "test": [
                          0.8285710598
                        ]
                      },
                      {
                        "learn": [
                          0.1057490785
                        ],
                        "iteration": 187,
                        "passed_time": 2.950867907,
                        "remaining_time": 0.1883532706,
                        "test": [
                          0.8304839047
                        ]
                      },
                      {
                        "learn": [
                          0.1042924041
                        ],
                        "iteration": 188,
                        "passed_time": 2.964552599,
                        "remaining_time": 0.1725400984,
                        "test": [
                          0.8289348424
                        ]
                      },
                      {
                        "learn": [
                          0.1034765042
                        ],
                        "iteration": 189,
                        "passed_time": 2.980956263,
                        "remaining_time": 0.1568924349,
                        "test": [
                          0.8312211685
                        ]
                      },
                      {
                        "learn": [
                          0.1024965849
                        ],
                        "iteration": 190,
                        "passed_time": 3.024509359,
                        "remaining_time": 0.1425161478,
                        "test": [
                          0.8306428217
                        ]
                      },
                      {
                        "learn": [
                          0.1020743077
                        ],
                        "iteration": 191,
                        "passed_time": 3.042033739,
                        "remaining_time": 0.1267514058,
                        "test": [
                          0.8323311893
                        ]
                      },
                      {
                        "learn": [
                          0.1012246041
                        ],
                        "iteration": 192,
                        "passed_time": 3.057460815,
                        "remaining_time": 0.1108923612,
                        "test": [
                          0.8348171487
                        ]
                      },
                      {
                        "learn": [
                          0.1003648377
                        ],
                        "iteration": 193,
                        "passed_time": 3.070660664,
                        "remaining_time": 0.09496888652,
                        "test": [
                          0.8378509684
                        ]
                      },
                      {
                        "learn": [
                          0.09926567633
                        ],
                        "iteration": 194,
                        "passed_time": 3.085013708,
                        "remaining_time": 0.0791029156,
                        "test": [
                          0.8397308677
                        ]
                      },
                      {
                        "learn": [
                          0.0982353927
                        ],
                        "iteration": 195,
                        "passed_time": 3.103687302,
                        "remaining_time": 0.06334055718,
                        "test": [
                          0.841084356
                        ]
                      },
                      {
                        "learn": [
                          0.09724006199
                        ],
                        "iteration": 196,
                        "passed_time": 3.117318231,
                        "remaining_time": 0.04747185124,
                        "test": [
                          0.8427634461
                        ]
                      },
                      {
                        "learn": [
                          0.09632525368
                        ],
                        "iteration": 197,
                        "passed_time": 3.130826666,
                        "remaining_time": 0.03162451178,
                        "test": [
                          0.8397149909
                        ]
                      },
                      {
                        "learn": [
                          0.09580334028
                        ],
                        "iteration": 198,
                        "passed_time": 3.144852386,
                        "remaining_time": 0.01580327832,
                        "test": [
                          0.839432374
                        ]
                      },
                      {
                        "learn": [
                          0.09537408087
                        ],
                        "iteration": 199,
                        "passed_time": 3.159919494,
                        "remaining_time": 0,
                        "test": [
                          0.839987328
                        ]
                      }
                    ],
                    "meta": {
                      "test_sets": [
                        "test"
                      ],
                      "test_metrics": [
                        {
                          "best_value": "Min",
                          "name": "Logloss"
                        }
                      ],
                      "learn_metrics": [
                        {
                          "best_value": "Min",
                          "name": "Logloss"
                        }
                      ],
                      "launch_mode": "Train",
                      "parameters": "",
                      "iteration_count": 200,
                      "learn_sets": [
                        "learn"
                      ],
                      "name": "experiment"
                    }
                  }
                }
              }
            },
            "layout": "IPY_MODEL_7b2204620df246539e665a6ec1f3efb1"
          }
        }
      }
    }
  },
  "cells": [
    {
      "cell_type": "code",
      "source": [
        "!pip install yfinance"
      ],
      "metadata": {
        "colab": {
          "base_uri": "https://localhost:8080/"
        },
        "id": "wdypMGxLkEdy",
        "outputId": "c29251e0-fe16-46d8-a6aa-1f6fc9dc68c1"
      },
      "execution_count": 3,
      "outputs": [
        {
          "output_type": "stream",
          "name": "stdout",
          "text": [
            "Looking in indexes: https://pypi.org/simple, https://us-python.pkg.dev/colab-wheels/public/simple/\n",
            "Collecting yfinance\n",
            "  Downloading yfinance-0.2.12-py2.py3-none-any.whl (59 kB)\n",
            "\u001b[2K     \u001b[90m━━━━━━━━━━━━━━━━━━━━━━━━━━━━━━━━━━━━━━━━\u001b[0m \u001b[32m59.2/59.2 KB\u001b[0m \u001b[31m2.0 MB/s\u001b[0m eta \u001b[36m0:00:00\u001b[0m\n",
            "\u001b[?25hRequirement already satisfied: pandas>=1.3.0 in /usr/local/lib/python3.9/dist-packages (from yfinance) (1.3.5)\n",
            "Collecting requests>=2.26\n",
            "  Downloading requests-2.28.2-py3-none-any.whl (62 kB)\n",
            "\u001b[2K     \u001b[90m━━━━━━━━━━━━━━━━━━━━━━━━━━━━━━━━━━━━━━━━\u001b[0m \u001b[32m62.8/62.8 KB\u001b[0m \u001b[31m2.2 MB/s\u001b[0m eta \u001b[36m0:00:00\u001b[0m\n",
            "\u001b[?25hRequirement already satisfied: numpy>=1.16.5 in /usr/local/lib/python3.9/dist-packages (from yfinance) (1.22.4)\n",
            "Requirement already satisfied: pytz>=2022.5 in /usr/local/lib/python3.9/dist-packages (from yfinance) (2022.7.1)\n",
            "Collecting beautifulsoup4>=4.11.1\n",
            "  Downloading beautifulsoup4-4.11.2-py3-none-any.whl (129 kB)\n",
            "\u001b[2K     \u001b[90m━━━━━━━━━━━━━━━━━━━━━━━━━━━━━━━━━━━━━━━\u001b[0m \u001b[32m129.4/129.4 KB\u001b[0m \u001b[31m5.2 MB/s\u001b[0m eta \u001b[36m0:00:00\u001b[0m\n",
            "\u001b[?25hCollecting cryptography>=3.3.2\n",
            "  Downloading cryptography-39.0.2-cp36-abi3-manylinux_2_28_x86_64.whl (4.2 MB)\n",
            "\u001b[2K     \u001b[90m━━━━━━━━━━━━━━━━━━━━━━━━━━━━━━━━━━━━━━━━\u001b[0m \u001b[32m4.2/4.2 MB\u001b[0m \u001b[31m9.1 MB/s\u001b[0m eta \u001b[36m0:00:00\u001b[0m\n",
            "\u001b[?25hRequirement already satisfied: multitasking>=0.0.7 in /usr/local/lib/python3.9/dist-packages (from yfinance) (0.0.11)\n",
            "Collecting frozendict>=2.3.4\n",
            "  Downloading frozendict-2.3.5-cp39-cp39-manylinux_2_17_x86_64.manylinux2014_x86_64.whl (112 kB)\n",
            "\u001b[2K     \u001b[90m━━━━━━━━━━━━━━━━━━━━━━━━━━━━━━━━━━━━━━━\u001b[0m \u001b[32m112.8/112.8 KB\u001b[0m \u001b[31m2.6 MB/s\u001b[0m eta \u001b[36m0:00:00\u001b[0m\n",
            "\u001b[?25hRequirement already satisfied: lxml>=4.9.1 in /usr/local/lib/python3.9/dist-packages (from yfinance) (4.9.2)\n",
            "Collecting appdirs>=1.4.4\n",
            "  Downloading appdirs-1.4.4-py2.py3-none-any.whl (9.6 kB)\n",
            "Collecting html5lib>=1.1\n",
            "  Downloading html5lib-1.1-py2.py3-none-any.whl (112 kB)\n",
            "\u001b[2K     \u001b[90m━━━━━━━━━━━━━━━━━━━━━━━━━━━━━━━━━━━━━━━\u001b[0m \u001b[32m112.2/112.2 KB\u001b[0m \u001b[31m4.4 MB/s\u001b[0m eta \u001b[36m0:00:00\u001b[0m\n",
            "\u001b[?25hCollecting soupsieve>1.2\n",
            "  Downloading soupsieve-2.4-py3-none-any.whl (37 kB)\n",
            "Requirement already satisfied: cffi>=1.12 in /usr/local/lib/python3.9/dist-packages (from cryptography>=3.3.2->yfinance) (1.15.1)\n",
            "Requirement already satisfied: webencodings in /usr/local/lib/python3.9/dist-packages (from html5lib>=1.1->yfinance) (0.5.1)\n",
            "Requirement already satisfied: six>=1.9 in /usr/local/lib/python3.9/dist-packages (from html5lib>=1.1->yfinance) (1.15.0)\n",
            "Requirement already satisfied: python-dateutil>=2.7.3 in /usr/local/lib/python3.9/dist-packages (from pandas>=1.3.0->yfinance) (2.8.2)\n",
            "Requirement already satisfied: certifi>=2017.4.17 in /usr/local/lib/python3.9/dist-packages (from requests>=2.26->yfinance) (2022.12.7)\n",
            "Requirement already satisfied: idna<4,>=2.5 in /usr/local/lib/python3.9/dist-packages (from requests>=2.26->yfinance) (2.10)\n",
            "Collecting charset-normalizer<4,>=2\n",
            "  Downloading charset_normalizer-3.1.0-cp39-cp39-manylinux_2_17_x86_64.manylinux2014_x86_64.whl (199 kB)\n",
            "\u001b[2K     \u001b[90m━━━━━━━━━━━━━━━━━━━━━━━━━━━━━━━━━━━━━━━\u001b[0m \u001b[32m199.2/199.2 KB\u001b[0m \u001b[31m3.3 MB/s\u001b[0m eta \u001b[36m0:00:00\u001b[0m\n",
            "\u001b[?25hRequirement already satisfied: urllib3<1.27,>=1.21.1 in /usr/local/lib/python3.9/dist-packages (from requests>=2.26->yfinance) (1.26.14)\n",
            "Requirement already satisfied: pycparser in /usr/local/lib/python3.9/dist-packages (from cffi>=1.12->cryptography>=3.3.2->yfinance) (2.21)\n",
            "Installing collected packages: appdirs, soupsieve, html5lib, frozendict, charset-normalizer, requests, cryptography, beautifulsoup4, yfinance\n",
            "  Attempting uninstall: html5lib\n",
            "    Found existing installation: html5lib 1.0.1\n",
            "    Uninstalling html5lib-1.0.1:\n",
            "      Successfully uninstalled html5lib-1.0.1\n",
            "  Attempting uninstall: requests\n",
            "    Found existing installation: requests 2.25.1\n",
            "    Uninstalling requests-2.25.1:\n",
            "      Successfully uninstalled requests-2.25.1\n",
            "  Attempting uninstall: beautifulsoup4\n",
            "    Found existing installation: beautifulsoup4 4.6.3\n",
            "    Uninstalling beautifulsoup4-4.6.3:\n",
            "      Successfully uninstalled beautifulsoup4-4.6.3\n",
            "Successfully installed appdirs-1.4.4 beautifulsoup4-4.11.2 charset-normalizer-3.1.0 cryptography-39.0.2 frozendict-2.3.5 html5lib-1.1 requests-2.28.2 soupsieve-2.4 yfinance-0.2.12\n"
          ]
        }
      ]
    },
    {
      "cell_type": "code",
      "source": [
        "from process import *\n",
        "from test import *\n",
        "import numpy as np\n",
        "import pandas as pd\n",
        "import math\n",
        "from sklearn.linear_model import LinearRegression\n",
        "import matplotlib.pyplot as plt\n",
        "import yfinance as yf"
      ],
      "metadata": {
        "id": "mT1ndkJ7L-Hm"
      },
      "execution_count": 4,
      "outputs": []
    },
    {
      "cell_type": "code",
      "source": [
        "def_pipe = DefaultPipeline(\"TSLA\")\n",
        "X_train, y_train, X_test, y_test = def_pipe.get_data()"
      ],
      "metadata": {
        "colab": {
          "base_uri": "https://localhost:8080/"
        },
        "id": "vYeRhJHdVMff",
        "outputId": "567d7b29-8c74-4bfb-c8c0-f8926b5af901"
      },
      "execution_count": 5,
      "outputs": [
        {
          "output_type": "stream",
          "name": "stdout",
          "text": [
            "\r[*********************100%***********************]  1 of 1 completed\n"
          ]
        },
        {
          "output_type": "stream",
          "name": "stderr",
          "text": [
            "/content/process.py:194: SettingWithCopyWarning: \n",
            "A value is trying to be set on a copy of a slice from a DataFrame.\n",
            "Try using .loc[row_indexer,col_indexer] = value instead\n",
            "\n",
            "See the caveats in the documentation: https://pandas.pydata.org/pandas-docs/stable/user_guide/indexing.html#returning-a-view-versus-a-copy\n",
            "  dataframe_list[i][\"RSI\"] = _rsi(dataframe)\n"
          ]
        }
      ]
    },
    {
      "cell_type": "code",
      "source": [
        "regression = LinearRegression().fit(X_train, y_train)\n",
        "y_train_pred = regression.predict(X_train)\n",
        "y_test_pred = regression.predict(X_test)\n",
        "\n",
        "df = def_pipe.get_test_price(y_test_pred)\n",
        "\n",
        "start_capital = 100000\n",
        "tt = TraderTest(start_capital, df[\"Prediction_ExpProf\"], df[\"Price_True\"])\n",
        "# tt = TraderTest(100000, [100, 150], [100, 150])\n",
        "traded_capital = tt.trade()\n",
        "print(f\"Model earned {(traded_capital):.2f}$ starting from {start_capital}$\")"
      ],
      "metadata": {
        "id": "Hl75LWyhNJRs",
        "colab": {
          "base_uri": "https://localhost:8080/"
        },
        "outputId": "6e65ff6b-3986-4f2b-c766-525ab0499461"
      },
      "execution_count": 6,
      "outputs": [
        {
          "output_type": "stream",
          "name": "stdout",
          "text": [
            "Model earned 113324.07$ starting from 100000$\n"
          ]
        },
        {
          "output_type": "stream",
          "name": "stderr",
          "text": [
            "/content/process.py:255: SettingWithCopyWarning: \n",
            "A value is trying to be set on a copy of a slice from a DataFrame.\n",
            "Try using .loc[row_indexer,col_indexer] = value instead\n",
            "\n",
            "See the caveats in the documentation: https://pandas.pydata.org/pandas-docs/stable/user_guide/indexing.html#returning-a-view-versus-a-copy\n",
            "  df[\"Price_True\"] = self.true_price_keeper[train_test_id].to_numpy()\n"
          ]
        }
      ]
    },
    {
      "cell_type": "code",
      "source": [
        "def_pipe = BinarizedPipeline(\"TSLA\")\n",
        "X_train, y_train, X_test, y_test = def_pipe.get_data()"
      ],
      "metadata": {
        "colab": {
          "base_uri": "https://localhost:8080/"
        },
        "id": "y8ux_vmepFjD",
        "outputId": "61025434-64bf-44d8-ff21-54755b4bfa66"
      },
      "execution_count": 7,
      "outputs": [
        {
          "output_type": "stream",
          "name": "stdout",
          "text": [
            "\r[*********************100%***********************]  1 of 1 completed\n"
          ]
        },
        {
          "output_type": "stream",
          "name": "stderr",
          "text": [
            "/content/process.py:194: SettingWithCopyWarning: \n",
            "A value is trying to be set on a copy of a slice from a DataFrame.\n",
            "Try using .loc[row_indexer,col_indexer] = value instead\n",
            "\n",
            "See the caveats in the documentation: https://pandas.pydata.org/pandas-docs/stable/user_guide/indexing.html#returning-a-view-versus-a-copy\n",
            "  dataframe_list[i][\"RSI\"] = _rsi(dataframe)\n"
          ]
        }
      ]
    },
    {
      "cell_type": "code",
      "source": [
        "from sklearn.linear_model import LogisticRegression\n",
        "\n",
        "logreg = LogisticRegression()\n",
        "logreg.fit(X_train, y_train)\n",
        "\n",
        "print(logreg.score(X_train, y_train), logreg.score(X_test, y_test))"
      ],
      "metadata": {
        "colab": {
          "base_uri": "https://localhost:8080/"
        },
        "id": "qlBcyl8SpR5-",
        "outputId": "e575fa8b-c416-44d6-afc7-f5cb78f86fec"
      },
      "execution_count": 8,
      "outputs": [
        {
          "output_type": "stream",
          "name": "stderr",
          "text": [
            "/usr/local/lib/python3.9/dist-packages/sklearn/utils/validation.py:1143: DataConversionWarning: A column-vector y was passed when a 1d array was expected. Please change the shape of y to (n_samples, ), for example using ravel().\n",
            "  y = column_or_1d(y, warn=True)\n"
          ]
        },
        {
          "output_type": "stream",
          "name": "stdout",
          "text": [
            "0.5978835978835979 0.5957446808510638\n"
          ]
        },
        {
          "output_type": "stream",
          "name": "stderr",
          "text": [
            "/usr/local/lib/python3.9/dist-packages/sklearn/linear_model/_logistic.py:458: ConvergenceWarning: lbfgs failed to converge (status=1):\n",
            "STOP: TOTAL NO. of ITERATIONS REACHED LIMIT.\n",
            "\n",
            "Increase the number of iterations (max_iter) or scale the data as shown in:\n",
            "    https://scikit-learn.org/stable/modules/preprocessing.html\n",
            "Please also refer to the documentation for alternative solver options:\n",
            "    https://scikit-learn.org/stable/modules/linear_model.html#logistic-regression\n",
            "  n_iter_i = _check_optimize_result(\n"
          ]
        }
      ]
    },
    {
      "cell_type": "code",
      "source": [
        "from sklearn.metrics import ConfusionMatrixDisplay\n",
        "\n",
        "_ = ConfusionMatrixDisplay.from_estimator(logreg, X_test, y_test)"
      ],
      "metadata": {
        "colab": {
          "base_uri": "https://localhost:8080/",
          "height": 283
        },
        "id": "StsnKvpzxTCp",
        "outputId": "9f4ea001-ef0f-4d7e-89bf-b7b25b04dbee"
      },
      "execution_count": 9,
      "outputs": [
        {
          "output_type": "display_data",
          "data": {
            "text/plain": [
              "<Figure size 432x288 with 2 Axes>"
            ],
            "image/png": "[encoded data removed]"
          },
          "metadata": {
            "needs_background": "light"
          }
        }
      ]
    },
    {
      "cell_type": "code",
      "source": [
        "from sklearn.metrics import balanced_accuracy_score\n",
        "\n",
        "balanced_accuracy = balanced_accuracy_score(y_test, logreg.predict(X_test))\n",
        "print(f\"Balanced accuracy: {balanced_accuracy:.3f}\")"
      ],
      "metadata": {
        "colab": {
          "base_uri": "https://localhost:8080/"
        },
        "id": "MuvaMiR_ykHS",
        "outputId": "22e0729d-82b4-43dc-b658-38a954d8489e"
      },
      "execution_count": 10,
      "outputs": [
        {
          "output_type": "stream",
          "name": "stdout",
          "text": [
            "Balanced accuracy: 0.593\n"
          ]
        }
      ]
    },
    {
      "cell_type": "code",
      "source": [
        "regression = LogisticRegression().fit(X_train, y_train)\n",
        "y_train_pred = regression.predict(X_train)\n",
        "y_test_pred = regression.predict(X_test)\n",
        "\n",
        "df = def_pipe.get_test_price(y_test_pred)\n",
        "\n",
        "start_capital = 100000\n",
        "tt = TraderTest(start_capital, df[\"Prediction_ExpProf\"], df[\"Price_True\"])\n",
        "# tt = TraderTest(100000, [100, 150], [100, 150])\n",
        "traded_capital = tt.trade()\n",
        "print(f\"Model earned {(traded_capital):.2f}$ starting from {start_capital}$\")"
      ],
      "metadata": {
        "colab": {
          "base_uri": "https://localhost:8080/"
        },
        "id": "5c1AiSM5zLED",
        "outputId": "87b1cc36-665e-4668-a4e6-f52ea82c7e79"
      },
      "execution_count": 11,
      "outputs": [
        {
          "output_type": "stream",
          "name": "stdout",
          "text": [
            "Model earned 153918.28$ starting from 100000$\n"
          ]
        },
        {
          "output_type": "stream",
          "name": "stderr",
          "text": [
            "/usr/local/lib/python3.9/dist-packages/sklearn/utils/validation.py:1143: DataConversionWarning: A column-vector y was passed when a 1d array was expected. Please change the shape of y to (n_samples, ), for example using ravel().\n",
            "  y = column_or_1d(y, warn=True)\n",
            "/usr/local/lib/python3.9/dist-packages/sklearn/linear_model/_logistic.py:458: ConvergenceWarning: lbfgs failed to converge (status=1):\n",
            "STOP: TOTAL NO. of ITERATIONS REACHED LIMIT.\n",
            "\n",
            "Increase the number of iterations (max_iter) or scale the data as shown in:\n",
            "    https://scikit-learn.org/stable/modules/preprocessing.html\n",
            "Please also refer to the documentation for alternative solver options:\n",
            "    https://scikit-learn.org/stable/modules/linear_model.html#logistic-regression\n",
            "  n_iter_i = _check_optimize_result(\n",
            "/content/process.py:255: SettingWithCopyWarning: \n",
            "A value is trying to be set on a copy of a slice from a DataFrame.\n",
            "Try using .loc[row_indexer,col_indexer] = value instead\n",
            "\n",
            "See the caveats in the documentation: https://pandas.pydata.org/pandas-docs/stable/user_guide/indexing.html#returning-a-view-versus-a-copy\n",
            "  df[\"Price_True\"] = self.true_price_keeper[train_test_id].to_numpy()\n"
          ]
        }
      ]
    },
    {
      "cell_type": "code",
      "source": [
        "!pip install catboost"
      ],
      "metadata": {
        "colab": {
          "base_uri": "https://localhost:8080/"
        },
        "id": "OHkVuLYD0NWx",
        "outputId": "09125473-1ac2-4225-c436-1ac115c5eeb1"
      },
      "execution_count": 14,
      "outputs": [
        {
          "output_type": "stream",
          "name": "stdout",
          "text": [
            "Looking in indexes: https://pypi.org/simple, https://us-python.pkg.dev/colab-wheels/public/simple/\n",
            "Collecting catboost\n",
            "  Downloading catboost-1.1.1-cp39-none-manylinux1_x86_64.whl (76.6 MB)\n",
            "\u001b[2K     \u001b[90m━━━━━━━━━━━━━━━━━━━━━━━━━━━━━━━━━━━━━━━━\u001b[0m \u001b[32m76.6/76.6 MB\u001b[0m \u001b[31m5.5 MB/s\u001b[0m eta \u001b[36m0:00:00\u001b[0m\n",
            "\u001b[?25hRequirement already satisfied: plotly in /usr/local/lib/python3.9/dist-packages (from catboost) (5.5.0)\n",
            "Requirement already satisfied: graphviz in /usr/local/lib/python3.9/dist-packages (from catboost) (0.10.1)\n",
            "Requirement already satisfied: scipy in /usr/local/lib/python3.9/dist-packages (from catboost) (1.10.1)\n",
            "Requirement already satisfied: six in /usr/local/lib/python3.9/dist-packages (from catboost) (1.15.0)\n",
            "Requirement already satisfied: pandas>=0.24.0 in /usr/local/lib/python3.9/dist-packages (from catboost) (1.3.5)\n",
            "Requirement already satisfied: matplotlib in /usr/local/lib/python3.9/dist-packages (from catboost) (3.5.3)\n",
            "Requirement already satisfied: numpy>=1.16.0 in /usr/local/lib/python3.9/dist-packages (from catboost) (1.22.4)\n",
            "Requirement already satisfied: python-dateutil>=2.7.3 in /usr/local/lib/python3.9/dist-packages (from pandas>=0.24.0->catboost) (2.8.2)\n",
            "Requirement already satisfied: pytz>=2017.3 in /usr/local/lib/python3.9/dist-packages (from pandas>=0.24.0->catboost) (2022.7.1)\n",
            "Requirement already satisfied: kiwisolver>=1.0.1 in /usr/local/lib/python3.9/dist-packages (from matplotlib->catboost) (1.4.4)\n",
            "Requirement already satisfied: cycler>=0.10 in /usr/local/lib/python3.9/dist-packages (from matplotlib->catboost) (0.11.0)\n",
            "Requirement already satisfied: pyparsing>=2.2.1 in /usr/local/lib/python3.9/dist-packages (from matplotlib->catboost) (3.0.9)\n",
            "Requirement already satisfied: fonttools>=4.22.0 in /usr/local/lib/python3.9/dist-packages (from matplotlib->catboost) (4.39.0)\n",
            "Requirement already satisfied: packaging>=20.0 in /usr/local/lib/python3.9/dist-packages (from matplotlib->catboost) (23.0)\n",
            "Requirement already satisfied: pillow>=6.2.0 in /usr/local/lib/python3.9/dist-packages (from matplotlib->catboost) (8.4.0)\n",
            "Requirement already satisfied: tenacity>=6.2.0 in /usr/local/lib/python3.9/dist-packages (from plotly->catboost) (8.2.2)\n",
            "Installing collected packages: catboost\n",
            "Successfully installed catboost-1.1.1\n"
          ]
        }
      ]
    },
    {
      "cell_type": "code",
      "source": [
        "from catboost import CatBoostClassifier, Pool\n",
        "\n",
        "# initialize data\n",
        "model = CatBoostClassifier(iterations=200,\n",
        "                           random_seed=42)\n",
        "# train the model\n",
        "model.fit(\n",
        "    X_train, y_train,\n",
        "    eval_set=(X_test, y_test),\n",
        "    verbose=False,\n",
        "    plot=True\n",
        ")\n",
        "\n",
        "balanced_accuracy = balanced_accuracy_score(y_test, model.predict(X_test))\n",
        "print(f\"Balanced accuracy: {balanced_accuracy:.3f}\")"
      ],
      "metadata": {
        "colab": {
          "base_uri": "https://localhost:8080/",
          "height": 34,
          "referenced_widgets": [
            "a93ea9d497644331aa061ecbeec7f0b5"
          ]
        },
        "id": "Px6Mr7gA0NZg",
        "outputId": "4e0b6cfb-795b-49e3-e6e3-840b8817135d"
      },
      "execution_count": 26,
      "outputs": [
        {
          "output_type": "display_data",
          "data": {
            "text/plain": [
              "MetricVisualizer(layout=Layout(align_self='stretch', height='500px'))"
            ],
            "application/vnd.jupyter.widget-view+json": {
              "version_major": 2,
              "version_minor": 0,
              "model_id": "a93ea9d497644331aa061ecbeec7f0b5"
            }
          },
          "metadata": {}
        },
        {
          "output_type": "stream",
          "name": "stdout",
          "text": [
            "Balanced accuracy: 0.611\n"
          ]
        }
      ]
    },
    {
      "cell_type": "code",
      "source": [],
      "metadata": {
        "id": "dmeCKXa_xVdT"
      },
      "execution_count": null,
      "outputs": []
    },
    {
      "cell_type": "code",
      "source": [],
      "metadata": {
        "id": "q_neaTrZzLI4"
      },
      "execution_count": null,
      "outputs": []
    }
  ]
}