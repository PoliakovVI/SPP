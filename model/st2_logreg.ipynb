{
 "cells": [
  {
   "cell_type": "code",
   "execution_count": 2,
   "id": "cf8e81aa",
   "metadata": {},
   "outputs": [],
   "source": [
    "import sys\n",
    "sys.path.append('..')\n",
    "\n",
    "import os\n",
    "\n",
    "from spp import process\n",
    "from spp import market\n",
    "import numpy as np\n",
    "import pandas as pd\n",
    "import math\n",
    "from sklearn.linear_model import LogisticRegression\n",
    "from sklearn.metrics import ConfusionMatrixDisplay\n",
    "import matplotlib.pyplot as plt"
   ]
  },
  {
   "cell_type": "code",
   "execution_count": 16,
   "id": "a26c2e6a",
   "metadata": {},
   "outputs": [
    {
     "name": "stdout",
     "output_type": "stream",
     "text": [
      "[*********************100%***********************]  1 of 1 completed\n"
     ]
    },
    {
     "name": "stderr",
     "output_type": "stream",
     "text": [
      "C:\\Users\\valer\\Desktop\\SPP\\SPP\\model\\..\\spp\\process.py:199: SettingWithCopyWarning: \n",
      "A value is trying to be set on a copy of a slice from a DataFrame.\n",
      "Try using .loc[row_indexer,col_indexer] = value instead\n",
      "\n",
      "See the caveats in the documentation: https://pandas.pydata.org/pandas-docs/stable/user_guide/indexing.html#returning-a-view-versus-a-copy\n",
      "  dataframe_list[i][attribute_name+\"_LnProf\"] = lnprofs\n"
     ]
    }
   ],
   "source": [
    "ticker = \"CMCSA\"\n",
    "def_pipe = process.BaselineBinPipeline(ticker, period=\"1y\", window_size=12)\n",
    "X_train, y_train, X_test, y_test = def_pipe.get_data()"
   ]
  },
  {
   "cell_type": "markdown",
   "id": "3e3671dd",
   "metadata": {},
   "source": [
    "## Logistic Regression"
   ]
  },
  {
   "cell_type": "code",
   "execution_count": 17,
   "id": "7337feff",
   "metadata": {},
   "outputs": [
    {
     "name": "stdout",
     "output_type": "stream",
     "text": [
      "Model earned 112943.84$ out of 125333.99$ starting from 100000$ \n",
      "Train accuracy 0.55 \n",
      "Test accuracy  0.56\n"
     ]
    },
    {
     "name": "stderr",
     "output_type": "stream",
     "text": [
      "C:\\Users\\valer\\AppData\\Local\\Programs\\Python\\Python310\\lib\\site-packages\\sklearn\\utils\\validation.py:1143: DataConversionWarning: A column-vector y was passed when a 1d array was expected. Please change the shape of y to (n_samples, ), for example using ravel().\n",
      "  y = column_or_1d(y, warn=True)\n",
      "C:\\Users\\valer\\Desktop\\SPP\\SPP\\model\\..\\spp\\process.py:377: SettingWithCopyWarning: \n",
      "A value is trying to be set on a copy of a slice from a DataFrame.\n",
      "Try using .loc[row_indexer,col_indexer] = value instead\n",
      "\n",
      "See the caveats in the documentation: https://pandas.pydata.org/pandas-docs/stable/user_guide/indexing.html#returning-a-view-versus-a-copy\n",
      "  df[\"Price_True\"] = self.true_price_keeper[train_test_id].to_numpy()\n"
     ]
    },
    {
     "data": {
      "image/png": "[encoded data removed]",
      "text/plain": [
       "<Figure size 640x480 with 2 Axes>"
      ]
     },
     "metadata": {},
     "output_type": "display_data"
    }
   ],
   "source": [
    "model = LogisticRegression().fit(X_train, y_train)\n",
    "y_train_pred_bin = model.predict(X_train)\n",
    "y_test_pred_bin = model.predict(X_test)\n",
    "\n",
    "df = def_pipe.get_test_price(y_test_pred_bin)  # ! Prediction_ExpProf will not be corret as we \n",
    "                                               # ! proposed bin not price\n",
    "\n",
    "start_capital = 100000\n",
    "tt = market.BinTraderTest(start_capital, y_test_pred_bin, df[\"Price_True\"])\n",
    "bt = market.BinTraderTest(start_capital, y_test, df[\"Price_True\"])\n",
    "traded_capital = tt.trade()\n",
    "maximal_caital = bt.trade()\n",
    "print(f\"Model earned {(traded_capital):.2f}$ out of {maximal_caital:.2f}$ starting from {start_capital}$ \")\n",
    "\n",
    "print(f\"Train accuracy {model.score(X_train, y_train):.2f} \\nTest accuracy  {model.score(X_test, y_test):.2f}\")\n",
    "\n",
    "_ = ConfusionMatrixDisplay.from_predictions(y_test, y_test_pred_bin)"
   ]
  },
  {
   "cell_type": "code",
   "execution_count": 7,
   "id": "31ed501f",
   "metadata": {},
   "outputs": [],
   "source": [
    "tickers = [\"EBAY\", \"ALGN\", \"CMCSA\"]\n",
    "byt = market.BinYearTest(tickers, process.BaselineBinPipeline, end_date=None, window_size=15)"
   ]
  },
  {
   "cell_type": "code",
   "execution_count": 8,
   "id": "1e73cfa4",
   "metadata": {},
   "outputs": [],
   "source": [
    "orig_stdout = sys.stdout\n",
    "orig_stderr = sys.stderr\n",
    "f = open(os.devnull, 'w')\n",
    "sys.stdout = f\n",
    "sys.stderr = f\n",
    "year_test_df = byt.trade(model)\n",
    "sys.stdout = orig_stdout\n",
    "sys.stderr = orig_stderr"
   ]
  },
  {
   "cell_type": "code",
   "execution_count": 19,
   "id": "cfc91221",
   "metadata": {},
   "outputs": [
    {
     "data": {
      "text/html": [
       "<div>\n",
       "<style scoped>\n",
       "    .dataframe tbody tr th:only-of-type {\n",
       "        vertical-align: middle;\n",
       "    }\n",
       "\n",
       "    .dataframe tbody tr th {\n",
       "        vertical-align: top;\n",
       "    }\n",
       "\n",
       "    .dataframe thead th {\n",
       "        text-align: right;\n",
       "    }\n",
       "</style>\n",
       "<table border=\"1\" class=\"dataframe\">\n",
       "  <thead>\n",
       "    <tr style=\"text-align: right;\">\n",
       "      <th></th>\n",
       "      <th>Month</th>\n",
       "      <th>TrainAcc</th>\n",
       "      <th>TestAcc</th>\n",
       "      <th>Income</th>\n",
       "      <th>Potential</th>\n",
       "    </tr>\n",
       "  </thead>\n",
       "  <tbody>\n",
       "    <tr>\n",
       "      <th>0</th>\n",
       "      <td>May_2022</td>\n",
       "      <td>0.56</td>\n",
       "      <td>0.48</td>\n",
       "      <td>0.98</td>\n",
       "      <td>-0.16</td>\n",
       "    </tr>\n",
       "    <tr>\n",
       "      <th>1</th>\n",
       "      <td>Jun_2022</td>\n",
       "      <td>0.53</td>\n",
       "      <td>0.55</td>\n",
       "      <td>1.00</td>\n",
       "      <td>-0.03</td>\n",
       "    </tr>\n",
       "    <tr>\n",
       "      <th>2</th>\n",
       "      <td>Jul_2022</td>\n",
       "      <td>0.54</td>\n",
       "      <td>0.41</td>\n",
       "      <td>1.00</td>\n",
       "      <td>0.00</td>\n",
       "    </tr>\n",
       "    <tr>\n",
       "      <th>3</th>\n",
       "      <td>Aug_2022</td>\n",
       "      <td>0.54</td>\n",
       "      <td>0.50</td>\n",
       "      <td>0.98</td>\n",
       "      <td>-0.17</td>\n",
       "    </tr>\n",
       "    <tr>\n",
       "      <th>4</th>\n",
       "      <td>Sep_2022</td>\n",
       "      <td>0.55</td>\n",
       "      <td>0.58</td>\n",
       "      <td>0.99</td>\n",
       "      <td>-0.06</td>\n",
       "    </tr>\n",
       "    <tr>\n",
       "      <th>5</th>\n",
       "      <td>Oct_2022</td>\n",
       "      <td>0.56</td>\n",
       "      <td>0.48</td>\n",
       "      <td>1.00</td>\n",
       "      <td>0.00</td>\n",
       "    </tr>\n",
       "    <tr>\n",
       "      <th>6</th>\n",
       "      <td>Nov_2022</td>\n",
       "      <td>0.56</td>\n",
       "      <td>0.45</td>\n",
       "      <td>1.00</td>\n",
       "      <td>0.00</td>\n",
       "    </tr>\n",
       "    <tr>\n",
       "      <th>7</th>\n",
       "      <td>Dec_2022</td>\n",
       "      <td>0.58</td>\n",
       "      <td>0.48</td>\n",
       "      <td>1.01</td>\n",
       "      <td>0.10</td>\n",
       "    </tr>\n",
       "    <tr>\n",
       "      <th>8</th>\n",
       "      <td>Jan_2023</td>\n",
       "      <td>0.54</td>\n",
       "      <td>0.38</td>\n",
       "      <td>1.00</td>\n",
       "      <td>0.00</td>\n",
       "    </tr>\n",
       "    <tr>\n",
       "      <th>9</th>\n",
       "      <td>Feb_2023</td>\n",
       "      <td>0.54</td>\n",
       "      <td>0.58</td>\n",
       "      <td>0.99</td>\n",
       "      <td>-0.25</td>\n",
       "    </tr>\n",
       "    <tr>\n",
       "      <th>10</th>\n",
       "      <td>Mar_2023</td>\n",
       "      <td>0.52</td>\n",
       "      <td>0.53</td>\n",
       "      <td>1.01</td>\n",
       "      <td>0.08</td>\n",
       "    </tr>\n",
       "    <tr>\n",
       "      <th>11</th>\n",
       "      <td>Apr_2023</td>\n",
       "      <td>0.54</td>\n",
       "      <td>0.48</td>\n",
       "      <td>1.01</td>\n",
       "      <td>0.11</td>\n",
       "    </tr>\n",
       "  </tbody>\n",
       "</table>\n",
       "</div>"
      ],
      "text/plain": [
       "       Month  TrainAcc  TestAcc  Income  Potential\n",
       "0   May_2022      0.56     0.48    0.98      -0.16\n",
       "1   Jun_2022      0.53     0.55    1.00      -0.03\n",
       "2   Jul_2022      0.54     0.41    1.00       0.00\n",
       "3   Aug_2022      0.54     0.50    0.98      -0.17\n",
       "4   Sep_2022      0.55     0.58    0.99      -0.06\n",
       "5   Oct_2022      0.56     0.48    1.00       0.00\n",
       "6   Nov_2022      0.56     0.45    1.00       0.00\n",
       "7   Dec_2022      0.58     0.48    1.01       0.10\n",
       "8   Jan_2023      0.54     0.38    1.00       0.00\n",
       "9   Feb_2023      0.54     0.58    0.99      -0.25\n",
       "10  Mar_2023      0.52     0.53    1.01       0.08\n",
       "11  Apr_2023      0.54     0.48    1.01       0.11"
      ]
     },
     "execution_count": 19,
     "metadata": {},
     "output_type": "execute_result"
    }
   ],
   "source": [
    "pd.options.display.float_format = '{:,.2f}'.format\n",
    "year_test_df"
   ]
  },
  {
   "cell_type": "code",
   "execution_count": 10,
   "id": "7509471f",
   "metadata": {},
   "outputs": [
    {
     "name": "stderr",
     "output_type": "stream",
     "text": [
      "C:\\Users\\valer\\AppData\\Local\\Temp\\ipykernel_11336\\561746647.py:1: FutureWarning: The default value of numeric_only in DataFrame.mean is deprecated. In a future version, it will default to False. In addition, specifying 'numeric_only=None' is deprecated. Select only valid columns or specify the value of numeric_only to silence this warning.\n",
      "  year_test_df.mean()\n"
     ]
    },
    {
     "data": {
      "text/plain": [
       "TrainAcc     0.546734\n",
       "TestAcc      0.491813\n",
       "Income       0.997606\n",
       "Potential   -0.031789\n",
       "dtype: float64"
      ]
     },
     "execution_count": 10,
     "metadata": {},
     "output_type": "execute_result"
    }
   ],
   "source": [
    "year_test_df.mean()"
   ]
  },
  {
   "cell_type": "code",
   "execution_count": 11,
   "id": "e0fc82e3",
   "metadata": {},
   "outputs": [
    {
     "name": "stdout",
     "output_type": "stream",
     "text": [
      "Year capital multiplier 0.9710823601163224\n"
     ]
    }
   ],
   "source": [
    "from functools import reduce\n",
    "items = list(year_test_df[\"Income\"])\n",
    "reduced_income = reduce(lambda a,b: a*b, items)\n",
    "print(\"Year capital multiplier\", reduced_income)"
   ]
  },
  {
   "cell_type": "code",
   "execution_count": null,
   "id": "afe36039",
   "metadata": {},
   "outputs": [],
   "source": []
  }
 ],
 "metadata": {
  "kernelspec": {
   "display_name": "Python 3 (ipykernel)",
   "language": "python",
   "name": "python3"
  },
  "language_info": {
   "codemirror_mode": {
    "name": "ipython",
    "version": 3
   },
   "file_extension": ".py",
   "mimetype": "text/x-python",
   "name": "python",
   "nbconvert_exporter": "python",
   "pygments_lexer": "ipython3",
   "version": "3.10.10"
  }
 },
 "nbformat": 4,
 "nbformat_minor": 5
}
