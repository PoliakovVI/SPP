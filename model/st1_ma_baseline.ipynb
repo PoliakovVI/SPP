{
 "cells": [
  {
   "cell_type": "code",
   "execution_count": 1,
   "id": "cf8e81aa",
   "metadata": {},
   "outputs": [],
   "source": [
    "import sys\n",
    "sys.path.append('../spp')\n",
    "\n",
    "import process\n",
    "import market\n",
    "import numpy as np\n",
    "import pandas as pd\n",
    "import math\n",
    "from sklearn.linear_model import LogisticRegression\n",
    "from sklearn.metrics import ConfusionMatrixDisplay\n",
    "import matplotlib.pyplot as plt"
   ]
  },
  {
   "cell_type": "code",
   "execution_count": 57,
   "id": "a26c2e6a",
   "metadata": {},
   "outputs": [
    {
     "name": "stdout",
     "output_type": "stream",
     "text": [
      "[*********************100%***********************]  1 of 1 completed\n"
     ]
    },
    {
     "name": "stderr",
     "output_type": "stream",
     "text": [
      "C:\\Users\\valer\\Desktop\\SPP\\SPP\\model\\../spp\\process.py:140: SettingWithCopyWarning: \n",
      "A value is trying to be set on a copy of a slice from a DataFrame.\n",
      "Try using .loc[row_indexer,col_indexer] = value instead\n",
      "\n",
      "See the caveats in the documentation: https://pandas.pydata.org/pandas-docs/stable/user_guide/indexing.html#returning-a-view-versus-a-copy\n",
      "  dataframe_list[i][attribute_name+\"_LnProf\"] = lnprofs\n"
     ]
    }
   ],
   "source": [
    "def_pipe = process.BaselineBinPipeline(\"TSLA\", period=\"1y\")\n",
    "X_train, y_train, X_test, y_test = def_pipe.get_data()"
   ]
  },
  {
   "cell_type": "code",
   "execution_count": 58,
   "id": "fad9479c",
   "metadata": {},
   "outputs": [],
   "source": [
    "class MovingAverageBin:\n",
    "    def fit(self, x_data, y_data):\n",
    "        return self\n",
    "    def predict(self, data):\n",
    "        prediction = []\n",
    "        for index, row in data.iterrows():\n",
    "            row_sum = 0\n",
    "            for item in row:\n",
    "                row_sum += item\n",
    "            if row_sum / len(row) > row[-1]:\n",
    "                prediction.append(1)\n",
    "            else:\n",
    "                prediction.append(0)\n",
    "        return pd.DataFrame(prediction)\n",
    "    \n",
    "    def score(self, x_data, y_data):\n",
    "        if len(y_data) != len(x_data):\n",
    "            raise Exception(\"Different data length\")\n",
    "        return sum(np.array(self.predict(x_data)).flatten() == np.array(y_data).flatten()) / len(y_data)"
   ]
  },
  {
   "cell_type": "markdown",
   "id": "3e3671dd",
   "metadata": {},
   "source": [
    "## Moving Average baseline"
   ]
  },
  {
   "cell_type": "code",
   "execution_count": 59,
   "id": "7337feff",
   "metadata": {},
   "outputs": [
    {
     "name": "stdout",
     "output_type": "stream",
     "text": [
      "Model earned 146991.58$ out of 186561.75$ starting from 100000$ \n",
      "Train accuracy 0.49 \n",
      "Test accuracy  0.64\n"
     ]
    },
    {
     "name": "stderr",
     "output_type": "stream",
     "text": [
      "C:\\Users\\valer\\Desktop\\SPP\\SPP\\model\\../spp\\process.py:250: SettingWithCopyWarning: \n",
      "A value is trying to be set on a copy of a slice from a DataFrame.\n",
      "Try using .loc[row_indexer,col_indexer] = value instead\n",
      "\n",
      "See the caveats in the documentation: https://pandas.pydata.org/pandas-docs/stable/user_guide/indexing.html#returning-a-view-versus-a-copy\n",
      "  df[\"Price_True\"] = self.true_price_keeper[train_test_id].to_numpy()\n"
     ]
    },
    {
     "data": {
      "image/png": "[encoded data removed]",
      "text/plain": [
       "<Figure size 640x480 with 2 Axes>"
      ]
     },
     "metadata": {},
     "output_type": "display_data"
    }
   ],
   "source": [
    "logreg = MovingAverageBin().fit(X_train, y_train)\n",
    "y_train_pred_bin = logreg.predict(X_train)\n",
    "y_test_pred_bin = logreg.predict(X_test)\n",
    "\n",
    "df = def_pipe.get_test_price(y_test_pred_bin)  # ! Prediction_ExpProf will not be corret as we \n",
    "                                               # ! proposed bin not price\n",
    "\n",
    "start_capital = 100000\n",
    "tt = market.BinTraderTest(start_capital, y_test_pred_bin, df[\"Price_True\"])\n",
    "bt = market.BinTraderTest(start_capital, y_test, df[\"Price_True\"])\n",
    "traded_capital = tt.trade()\n",
    "maximal_caital = bt.trade()\n",
    "print(f\"Model earned {(traded_capital):.2f}$ out of {maximal_caital:.2f}$ starting from {start_capital}$ \")\n",
    "\n",
    "print(f\"Train accuracy {logreg.score(X_train, y_train):.2f} \\nTest accuracy  {logreg.score(X_test, y_test):.2f}\")\n",
    "\n",
    "_ = ConfusionMatrixDisplay.from_predictions(y_test, y_test_pred_bin)"
   ]
  },
  {
   "cell_type": "code",
   "execution_count": null,
   "id": "d22ee070",
   "metadata": {},
   "outputs": [],
   "source": []
  },
  {
   "cell_type": "code",
   "execution_count": null,
   "id": "31ed501f",
   "metadata": {},
   "outputs": [],
   "source": []
  }
 ],
 "metadata": {
  "kernelspec": {
   "display_name": "Python 3 (ipykernel)",
   "language": "python",
   "name": "python3"
  },
  "language_info": {
   "codemirror_mode": {
    "name": "ipython",
    "version": 3
   },
   "file_extension": ".py",
   "mimetype": "text/x-python",
   "name": "python",
   "nbconvert_exporter": "python",
   "pygments_lexer": "ipython3",
   "version": "3.10.10"
  }
 },
 "nbformat": 4,
 "nbformat_minor": 5
}
