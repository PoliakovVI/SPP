{
 "cells": [
  {
   "cell_type": "code",
   "execution_count": 1,
   "metadata": {},
   "outputs": [],
   "source": [
    "import sys\n",
    "sys.path.append('../spp')"
   ]
  },
  {
   "cell_type": "code",
   "execution_count": 2,
   "metadata": {
    "id": "mT1ndkJ7L-Hm"
   },
   "outputs": [],
   "source": [
    "from process import *\n",
    "from test import *\n",
    "import numpy as np\n",
    "import pandas as pd\n",
    "import math\n",
    "from sklearn.linear_model import LinearRegression\n",
    "import matplotlib.pyplot as plt\n",
    "import yfinance as yf"
   ]
  },
  {
   "cell_type": "code",
   "execution_count": 3,
   "metadata": {
    "colab": {
     "base_uri": "https://localhost:8080/"
    },
    "id": "vYeRhJHdVMff",
    "outputId": "567d7b29-8c74-4bfb-c8c0-f8926b5af901"
   },
   "outputs": [
    {
     "name": "stdout",
     "output_type": "stream",
     "text": [
      "\n",
      "    period: 1d, 5d, 1mo, 3mo, 6mo, 1y, 2y, 5y, 10y, ytd, max\n",
      "    \n",
      "[*********************100%***********************]  1 of 1 completed\n"
     ]
    },
    {
     "name": "stderr",
     "output_type": "stream",
     "text": [
      "C:\\Users\\valer\\Desktop\\SPP\\SPP\\model\\../spp\\process.py:140: SettingWithCopyWarning: \n",
      "A value is trying to be set on a copy of a slice from a DataFrame.\n",
      "Try using .loc[row_indexer,col_indexer] = value instead\n",
      "\n",
      "See the caveats in the documentation: https://pandas.pydata.org/pandas-docs/stable/user_guide/indexing.html#returning-a-view-versus-a-copy\n",
      "  dataframe_list[i][attribute_name+\"_LnProf\"] = lnprofs\n"
     ]
    },
    {
     "data": {
      "text/html": [
       "<div>\n",
       "<style scoped>\n",
       "    .dataframe tbody tr th:only-of-type {\n",
       "        vertical-align: middle;\n",
       "    }\n",
       "\n",
       "    .dataframe tbody tr th {\n",
       "        vertical-align: top;\n",
       "    }\n",
       "\n",
       "    .dataframe thead th {\n",
       "        text-align: right;\n",
       "    }\n",
       "</style>\n",
       "<table border=\"1\" class=\"dataframe\">\n",
       "  <thead>\n",
       "    <tr style=\"text-align: right;\">\n",
       "      <th></th>\n",
       "      <th>Target</th>\n",
       "    </tr>\n",
       "  </thead>\n",
       "  <tbody>\n",
       "    <tr>\n",
       "      <th>0</th>\n",
       "      <td>-0.003704</td>\n",
       "    </tr>\n",
       "    <tr>\n",
       "      <th>1</th>\n",
       "      <td>-0.007019</td>\n",
       "    </tr>\n",
       "    <tr>\n",
       "      <th>2</th>\n",
       "      <td>-0.129928</td>\n",
       "    </tr>\n",
       "    <tr>\n",
       "      <th>3</th>\n",
       "      <td>0.005791</td>\n",
       "    </tr>\n",
       "    <tr>\n",
       "      <th>4</th>\n",
       "      <td>-0.004548</td>\n",
       "    </tr>\n",
       "    <tr>\n",
       "      <th>...</th>\n",
       "      <td>...</td>\n",
       "    </tr>\n",
       "    <tr>\n",
       "      <th>185</th>\n",
       "      <td>-0.020825</td>\n",
       "    </tr>\n",
       "    <tr>\n",
       "      <th>186</th>\n",
       "      <td>-0.012581</td>\n",
       "    </tr>\n",
       "    <tr>\n",
       "      <th>187</th>\n",
       "      <td>0.047977</td>\n",
       "    </tr>\n",
       "    <tr>\n",
       "      <th>188</th>\n",
       "      <td>0.074574</td>\n",
       "    </tr>\n",
       "    <tr>\n",
       "      <th>189</th>\n",
       "      <td>0.000973</td>\n",
       "    </tr>\n",
       "  </tbody>\n",
       "</table>\n",
       "<p>190 rows × 1 columns</p>\n",
       "</div>"
      ],
      "text/plain": [
       "       Target\n",
       "0   -0.003704\n",
       "1   -0.007019\n",
       "2   -0.129928\n",
       "3    0.005791\n",
       "4   -0.004548\n",
       "..        ...\n",
       "185 -0.020825\n",
       "186 -0.012581\n",
       "187  0.047977\n",
       "188  0.074574\n",
       "189  0.000973\n",
       "\n",
       "[190 rows x 1 columns]"
      ]
     },
     "execution_count": 3,
     "metadata": {},
     "output_type": "execute_result"
    }
   ],
   "source": [
    "def_pipe = DefaultPipeline(\"TSLA\")\n",
    "X_train, y_train, X_test, y_test = def_pipe.get_data()\n",
    "y_train"
   ]
  },
  {
   "cell_type": "code",
   "execution_count": 3,
   "metadata": {
    "colab": {
     "base_uri": "https://localhost:8080/"
    },
    "id": "Hl75LWyhNJRs",
    "outputId": "6e65ff6b-3986-4f2b-c766-525ab0499461"
   },
   "outputs": [
    {
     "name": "stdout",
     "output_type": "stream",
     "text": [
      "Model earned 113244.94$ starting from 100000$\n"
     ]
    },
    {
     "name": "stderr",
     "output_type": "stream",
     "text": [
      "C:\\Users\\valer\\Desktop\\SPP\\SPP\\process.py:255: SettingWithCopyWarning: \n",
      "A value is trying to be set on a copy of a slice from a DataFrame.\n",
      "Try using .loc[row_indexer,col_indexer] = value instead\n",
      "\n",
      "See the caveats in the documentation: https://pandas.pydata.org/pandas-docs/stable/user_guide/indexing.html#returning-a-view-versus-a-copy\n",
      "  df[\"Price_True\"] = self.true_price_keeper[train_test_id].to_numpy()\n"
     ]
    }
   ],
   "source": [
    "regression = LinearRegression().fit(X_train, y_train)\n",
    "y_train_pred = regression.predict(X_train)\n",
    "y_test_pred = regression.predict(X_test)\n",
    "\n",
    "df = def_pipe.get_test_price(y_test_pred)\n",
    "\n",
    "start_capital = 100000\n",
    "tt = TraderTest(start_capital, df[\"Prediction_ExpProf\"], df[\"Price_True\"])\n",
    "# tt = TraderTest(100000, [100, 150], [100, 150])\n",
    "traded_capital = tt.trade()\n",
    "print(f\"Model earned {(traded_capital):.2f}$ starting from {start_capital}$\")"
   ]
  },
  {
   "cell_type": "code",
   "execution_count": 4,
   "metadata": {
    "colab": {
     "base_uri": "https://localhost:8080/"
    },
    "id": "y8ux_vmepFjD",
    "outputId": "61025434-64bf-44d8-ff21-54755b4bfa66"
   },
   "outputs": [
    {
     "name": "stdout",
     "output_type": "stream",
     "text": [
      "[*********************100%***********************]  1 of 1 completed\n"
     ]
    },
    {
     "name": "stderr",
     "output_type": "stream",
     "text": [
      "C:\\Users\\valer\\Desktop\\SPP\\SPP\\process.py:194: SettingWithCopyWarning: \n",
      "A value is trying to be set on a copy of a slice from a DataFrame.\n",
      "Try using .loc[row_indexer,col_indexer] = value instead\n",
      "\n",
      "See the caveats in the documentation: https://pandas.pydata.org/pandas-docs/stable/user_guide/indexing.html#returning-a-view-versus-a-copy\n",
      "  dataframe_list[i][\"RSI\"] = _rsi(dataframe)\n"
     ]
    }
   ],
   "source": [
    "def_pipe = BinarizedPipeline(\"TSLA\")\n",
    "X_train, y_train, X_test, y_test = def_pipe.get_data()"
   ]
  },
  {
   "cell_type": "code",
   "execution_count": 5,
   "metadata": {
    "colab": {
     "base_uri": "https://localhost:8080/"
    },
    "id": "qlBcyl8SpR5-",
    "outputId": "e575fa8b-c416-44d6-afc7-f5cb78f86fec"
   },
   "outputs": [
    {
     "name": "stdout",
     "output_type": "stream",
     "text": [
      "0.5978835978835979 0.5957446808510638\n"
     ]
    },
    {
     "name": "stderr",
     "output_type": "stream",
     "text": [
      "C:\\Users\\valer\\AppData\\Local\\Programs\\Python\\Python310\\lib\\site-packages\\sklearn\\utils\\validation.py:1143: DataConversionWarning: A column-vector y was passed when a 1d array was expected. Please change the shape of y to (n_samples, ), for example using ravel().\n",
      "  y = column_or_1d(y, warn=True)\n",
      "C:\\Users\\valer\\AppData\\Local\\Programs\\Python\\Python310\\lib\\site-packages\\sklearn\\linear_model\\_logistic.py:458: ConvergenceWarning: lbfgs failed to converge (status=1):\n",
      "STOP: TOTAL NO. of ITERATIONS REACHED LIMIT.\n",
      "\n",
      "Increase the number of iterations (max_iter) or scale the data as shown in:\n",
      "    https://scikit-learn.org/stable/modules/preprocessing.html\n",
      "Please also refer to the documentation for alternative solver options:\n",
      "    https://scikit-learn.org/stable/modules/linear_model.html#logistic-regression\n",
      "  n_iter_i = _check_optimize_result(\n"
     ]
    }
   ],
   "source": [
    "from sklearn.linear_model import LogisticRegression\n",
    "\n",
    "logreg = LogisticRegression()\n",
    "logreg.fit(X_train, y_train)\n",
    "\n",
    "print(logreg.score(X_train, y_train), logreg.score(X_test, y_test))"
   ]
  },
  {
   "cell_type": "code",
   "execution_count": 6,
   "metadata": {
    "colab": {
     "base_uri": "https://localhost:8080/",
     "height": 283
    },
    "id": "StsnKvpzxTCp",
    "outputId": "9f4ea001-ef0f-4d7e-89bf-b7b25b04dbee"
   },
   "outputs": [
    {
     "data": {
      "image/png": "[encoded data removed]",
      "text/plain": [
       "<Figure size 640x480 with 2 Axes>"
      ]
     },
     "metadata": {},
     "output_type": "display_data"
    }
   ],
   "source": [
    "from sklearn.metrics import ConfusionMatrixDisplay\n",
    "\n",
    "_ = ConfusionMatrixDisplay.from_estimator(logreg, X_test, y_test)"
   ]
  },
  {
   "cell_type": "code",
   "execution_count": 7,
   "metadata": {
    "colab": {
     "base_uri": "https://localhost:8080/"
    },
    "id": "MuvaMiR_ykHS",
    "outputId": "22e0729d-82b4-43dc-b658-38a954d8489e"
   },
   "outputs": [
    {
     "name": "stdout",
     "output_type": "stream",
     "text": [
      "Balanced accuracy: 0.593\n"
     ]
    }
   ],
   "source": [
    "from sklearn.metrics import balanced_accuracy_score\n",
    "\n",
    "balanced_accuracy = balanced_accuracy_score(y_test, logreg.predict(X_test))\n",
    "print(f\"Balanced accuracy: {balanced_accuracy:.3f}\")"
   ]
  },
  {
   "cell_type": "code",
   "execution_count": 8,
   "metadata": {
    "colab": {
     "base_uri": "https://localhost:8080/"
    },
    "id": "5c1AiSM5zLED",
    "outputId": "87b1cc36-665e-4668-a4e6-f52ea82c7e79"
   },
   "outputs": [
    {
     "name": "stdout",
     "output_type": "stream",
     "text": [
      "Model earned 153803.29$ starting from 100000$\n"
     ]
    },
    {
     "name": "stderr",
     "output_type": "stream",
     "text": [
      "C:\\Users\\valer\\AppData\\Local\\Programs\\Python\\Python310\\lib\\site-packages\\sklearn\\utils\\validation.py:1143: DataConversionWarning: A column-vector y was passed when a 1d array was expected. Please change the shape of y to (n_samples, ), for example using ravel().\n",
      "  y = column_or_1d(y, warn=True)\n",
      "C:\\Users\\valer\\AppData\\Local\\Programs\\Python\\Python310\\lib\\site-packages\\sklearn\\linear_model\\_logistic.py:458: ConvergenceWarning: lbfgs failed to converge (status=1):\n",
      "STOP: TOTAL NO. of ITERATIONS REACHED LIMIT.\n",
      "\n",
      "Increase the number of iterations (max_iter) or scale the data as shown in:\n",
      "    https://scikit-learn.org/stable/modules/preprocessing.html\n",
      "Please also refer to the documentation for alternative solver options:\n",
      "    https://scikit-learn.org/stable/modules/linear_model.html#logistic-regression\n",
      "  n_iter_i = _check_optimize_result(\n",
      "C:\\Users\\valer\\Desktop\\SPP\\SPP\\process.py:255: SettingWithCopyWarning: \n",
      "A value is trying to be set on a copy of a slice from a DataFrame.\n",
      "Try using .loc[row_indexer,col_indexer] = value instead\n",
      "\n",
      "See the caveats in the documentation: https://pandas.pydata.org/pandas-docs/stable/user_guide/indexing.html#returning-a-view-versus-a-copy\n",
      "  df[\"Price_True\"] = self.true_price_keeper[train_test_id].to_numpy()\n"
     ]
    }
   ],
   "source": [
    "regression = LogisticRegression().fit(X_train, y_train)\n",
    "y_train_pred = regression.predict(X_train)\n",
    "y_test_pred = regression.predict(X_test)\n",
    "\n",
    "df = def_pipe.get_test_price(y_test_pred)\n",
    "\n",
    "start_capital = 100000\n",
    "tt = TraderTest(start_capital, df[\"Prediction_ExpProf\"], df[\"Price_True\"])\n",
    "# tt = TraderTest(100000, [100, 150], [100, 150])\n",
    "traded_capital = tt.trade()\n",
    "print(f\"Model earned {(traded_capital):.2f}$ starting from {start_capital}$\")"
   ]
  },
  {
   "cell_type": "code",
   "execution_count": 27,
   "metadata": {
    "colab": {
     "base_uri": "https://localhost:8080/",
     "height": 34,
     "referenced_widgets": [
      "a93ea9d497644331aa061ecbeec7f0b5"
     ]
    },
    "id": "Px6Mr7gA0NZg",
    "outputId": "4e0b6cfb-795b-49e3-e6e3-840b8817135d"
   },
   "outputs": [
    {
     "data": {
      "application/vnd.jupyter.widget-view+json": {
       "model_id": "4fe9b91917d64efa9bc690780ef1b1ec",
       "version_major": 2,
       "version_minor": 0
      },
      "text/plain": [
       "MetricVisualizer(layout=Layout(align_self='stretch', height='500px'))"
      ]
     },
     "metadata": {},
     "output_type": "display_data"
    },
    {
     "data": {
      "text/plain": [
       "<catboost.core.CatBoostClassifier at 0x1e395fce170>"
      ]
     },
     "execution_count": 27,
     "metadata": {},
     "output_type": "execute_result"
    }
   ],
   "source": [
    "from catboost import CatBoostClassifier, Pool\n",
    "\n",
    "model = CatBoostClassifier(\n",
    "    random_seed=42,\n",
    "    iterations=20,\n",
    "    learning_rate=0.05,\n",
    "    boosting_type='Ordered',  # now faster, Ordered is better\n",
    "    bootstrap_type='Bernoulli',  # \n",
    "    subsample=0.5,               # item2subsample probability\n",
    "    rsm=1,\n",
    "    leaf_estimation_iterations=5,\n",
    "    max_ctr_complexity=1,\n",
    "    leaf_estimation_method='Newton'\n",
    ")\n",
    "\n",
    "model.fit(\n",
    "    X_train, y_train,\n",
    "    eval_set=(X_test, y_test),\n",
    "    verbose=False,\n",
    "    plot=True,\n",
    ")"
   ]
  },
  {
   "cell_type": "code",
   "execution_count": 28,
   "metadata": {
    "id": "q_neaTrZzLI4"
   },
   "outputs": [
    {
     "name": "stdout",
     "output_type": "stream",
     "text": [
      "Balanced accuracy: 0.557\n"
     ]
    }
   ],
   "source": [
    "balanced_accuracy = balanced_accuracy_score(y_test, model.predict(X_test))\n",
    "print(f\"Balanced accuracy: {balanced_accuracy:.3f}\")"
   ]
  },
  {
   "cell_type": "code",
   "execution_count": 29,
   "metadata": {},
   "outputs": [
    {
     "name": "stdout",
     "output_type": "stream",
     "text": [
      "Balanced accuracy: 0.920\n"
     ]
    }
   ],
   "source": [
    "balanced_accuracy = balanced_accuracy_score(y_train, model.predict(X_train))\n",
    "print(f\"Balanced accuracy: {balanced_accuracy:.3f}\")"
   ]
  },
  {
   "cell_type": "code",
   "execution_count": 30,
   "metadata": {},
   "outputs": [
    {
     "name": "stdout",
     "output_type": "stream",
     "text": [
      "Model earned 153018.30$ starting from 100000$\n"
     ]
    },
    {
     "name": "stderr",
     "output_type": "stream",
     "text": [
      "C:\\Users\\valer\\Desktop\\SPP\\SPP\\process.py:255: SettingWithCopyWarning: \n",
      "A value is trying to be set on a copy of a slice from a DataFrame.\n",
      "Try using .loc[row_indexer,col_indexer] = value instead\n",
      "\n",
      "See the caveats in the documentation: https://pandas.pydata.org/pandas-docs/stable/user_guide/indexing.html#returning-a-view-versus-a-copy\n",
      "  df[\"Price_True\"] = self.true_price_keeper[train_test_id].to_numpy()\n"
     ]
    }
   ],
   "source": [
    "y_train_pred = model.predict(X_train)\n",
    "y_test_pred = model.predict(X_test)\n",
    "\n",
    "df = def_pipe.get_test_price(y_test_pred)\n",
    "\n",
    "start_capital = 100000\n",
    "tt = TraderTest(start_capital, df[\"Prediction_ExpProf\"], df[\"Price_True\"])\n",
    "# tt = TraderTest(100000, [100, 150], [100, 150])\n",
    "traded_capital = tt.trade()\n",
    "print(f\"Model earned {(traded_capital):.2f}$ starting from {start_capital}$\")"
   ]
  },
  {
   "cell_type": "code",
   "execution_count": null,
   "metadata": {},
   "outputs": [],
   "source": []
  },
  {
   "cell_type": "code",
   "execution_count": null,
   "metadata": {},
   "outputs": [],
   "source": []
  },
  {
   "cell_type": "code",
   "execution_count": null,
   "metadata": {},
   "outputs": [],
   "source": []
  },
  {
   "cell_type": "code",
   "execution_count": null,
   "metadata": {},
   "outputs": [],
   "source": []
  },
  {
   "cell_type": "code",
   "execution_count": null,
   "metadata": {},
   "outputs": [],
   "source": []
  },
  {
   "cell_type": "code",
   "execution_count": null,
   "metadata": {},
   "outputs": [],
   "source": []
  }
 ],
 "metadata": {
  "colab": {
   "provenance": []
  },
  "kernelspec": {
   "display_name": "Python 3 (ipykernel)",
   "language": "python",
   "name": "python3"
  },
  "language_info": {
   "codemirror_mode": {
    "name": "ipython",
    "version": 3
   },
   "file_extension": ".py",
   "mimetype": "text/x-python",
   "name": "python",
   "nbconvert_exporter": "python",
   "pygments_lexer": "ipython3",
   "version": "3.10.10"
  },
  "widgets": {
   "application/vnd.jupyter.widget-state+json": {
    "a93ea9d497644331aa061ecbeec7f0b5": {
     "model_module": "catboost-widget",
     "model_module_version": "^1.0.0",
     "model_name": "CatboostWidgetModel",
     "state": {
      "_dom_classes": [],
      "_model_module": "catboost-widget",
      "_model_module_version": "^1.0.0",
      "_model_name": "CatboostWidgetModel",
      "_view_count": null,
      "_view_module": "catboost-widget",
      "_view_module_version": "^1.0.0",
      "_view_name": "CatboostWidgetView",
      "data": {
       "catboost_info": {
        "content": {
         "data": {
          "iterations": [
           {
            "iteration": 0,
            "learn": [
             0.6827380775
            ],
            "passed_time": 0.01794286581,
            "remaining_time": 3.570630295,
            "test": [
             0.6968178094
            ]
           },
           {
            "iteration": 1,
            "learn": [
             0.6716327345
            ],
            "passed_time": 0.03225281726,
            "remaining_time": 3.193028909,
            "test": [
             0.6926247331
            ]
           },
           {
            "iteration": 2,
            "learn": [
             0.6674724702
            ],
            "passed_time": 0.04558773348,
            "remaining_time": 2.993594498,
            "test": [
             0.6880614911
            ]
           },
           {
            "iteration": 3,
            "learn": [
             0.6578474047
            ],
            "passed_time": 0.06447993568,
            "remaining_time": 3.159516848,
            "test": [
             0.691303796
            ]
           },
           {
            "iteration": 4,
            "learn": [
             0.6531188025
            ],
            "passed_time": 0.07815210082,
            "remaining_time": 3.047931932,
            "test": [
             0.6896570365
            ]
           },
           {
            "iteration": 5,
            "learn": [
             0.6435672726
            ],
            "passed_time": 0.09242697112,
            "remaining_time": 2.988472066,
            "test": [
             0.6858892114
            ]
           },
           {
            "iteration": 6,
            "learn": [
             0.6342142308
            ],
            "passed_time": 0.1061152233,
            "remaining_time": 2.925748299,
            "test": [
             0.690805213
            ]
           },
           {
            "iteration": 7,
            "learn": [
             0.6268131691
            ],
            "passed_time": 0.1256024828,
            "remaining_time": 3.014459587,
            "test": [
             0.696993555
            ]
           },
           {
            "iteration": 8,
            "learn": [
             0.6184303539
            ],
            "passed_time": 0.1390495108,
            "remaining_time": 2.950939618,
            "test": [
             0.6990729542
            ]
           },
           {
            "iteration": 9,
            "learn": [
             0.608172441
            ],
            "passed_time": 0.1519014996,
            "remaining_time": 2.886128493,
            "test": [
             0.6968976455
            ]
           },
           {
            "iteration": 10,
            "learn": [
             0.6034459104
            ],
            "passed_time": 0.1666172233,
            "remaining_time": 2.862786837,
            "test": [
             0.6960896049
            ]
           },
           {
            "iteration": 11,
            "learn": [
             0.5970633922
            ],
            "passed_time": 0.1868774731,
            "remaining_time": 2.927747078,
            "test": [
             0.6967479513
            ]
           },
           {
            "iteration": 12,
            "learn": [
             0.5937103841
            ],
            "passed_time": 0.2234095133,
            "remaining_time": 3.213659923,
            "test": [
             0.6946868594
            ]
           },
           {
            "iteration": 13,
            "learn": [
             0.5866658181
            ],
            "passed_time": 0.2479913106,
            "remaining_time": 3.294741698,
            "test": [
             0.6982918409
            ]
           },
           {
            "iteration": 14,
            "learn": [
             0.5815109771
            ],
            "passed_time": 0.2715333059,
            "remaining_time": 3.348910773,
            "test": [
             0.6987259228
            ]
           },
           {
            "iteration": 15,
            "learn": [
             0.5747300923
            ],
            "passed_time": 0.2915566691,
            "remaining_time": 3.352901695,
            "test": [
             0.6990158317
            ]
           },
           {
            "iteration": 16,
            "learn": [
             0.5656439548
            ],
            "passed_time": 0.3123255992,
            "remaining_time": 3.362093215,
            "test": [
             0.7035029238
            ]
           },
           {
            "iteration": 17,
            "learn": [
             0.5625834795
            ],
            "passed_time": 0.326017178,
            "remaining_time": 3.296395911,
            "test": [
             0.7043967027
            ]
           },
           {
            "iteration": 18,
            "learn": [
             0.5578319859
            ],
            "passed_time": 0.3482858074,
            "remaining_time": 3.317880587,
            "test": [
             0.709627086
            ]
           },
           {
            "iteration": 19,
            "learn": [
             0.5506200642
            ],
            "passed_time": 0.3814985515,
            "remaining_time": 3.433486964,
            "test": [
             0.7078079447
            ]
           },
           {
            "iteration": 20,
            "learn": [
             0.5432018858
            ],
            "passed_time": 0.3993812209,
            "remaining_time": 3.404249455,
            "test": [
             0.710545956
            ]
           },
           {
            "iteration": 21,
            "learn": [
             0.5369290673
            ],
            "passed_time": 0.4143113286,
            "remaining_time": 3.352155295,
            "test": [
             0.7139555127
            ]
           },
           {
            "iteration": 22,
            "learn": [
             0.5267936278
            ],
            "passed_time": 0.4310311308,
            "remaining_time": 3.317065659,
            "test": [
             0.7167784792
            ]
           },
           {
            "iteration": 23,
            "learn": [
             0.5230506714
            ],
            "passed_time": 0.449980365,
            "remaining_time": 3.29985601,
            "test": [
             0.7187013171
            ]
           },
           {
            "iteration": 24,
            "learn": [
             0.5179350095
            ],
            "passed_time": 0.4771438666,
            "remaining_time": 3.340007066,
            "test": [
             0.717958198
            ]
           },
           {
            "iteration": 25,
            "learn": [
             0.513541981
            ],
            "passed_time": 0.4956850373,
            "remaining_time": 3.317276788,
            "test": [
             0.7182707308
            ]
           },
           {
            "iteration": 26,
            "learn": [
             0.5096529618
            ],
            "passed_time": 0.5246461189,
            "remaining_time": 3.361621429,
            "test": [
             0.7193553538
            ]
           },
           {
            "iteration": 27,
            "learn": [
             0.5053410738
            ],
            "passed_time": 0.5441459111,
            "remaining_time": 3.342610597,
            "test": [
             0.7186633649
            ]
           },
           {
            "iteration": 28,
            "learn": [
             0.4991817541
            ],
            "passed_time": 0.5587229446,
            "remaining_time": 3.294538742,
            "test": [
             0.7212742389
            ]
           },
           {
            "iteration": 29,
            "learn": [
             0.4964138966
            ],
            "passed_time": 0.5714621104,
            "remaining_time": 3.238285292,
            "test": [
             0.7230840501
            ]
           },
           {
            "iteration": 30,
            "learn": [
             0.4910286615
            ],
            "passed_time": 0.5846402922,
            "remaining_time": 3.187232561,
            "test": [
             0.7266219852
            ]
           },
           {
            "iteration": 31,
            "learn": [
             0.4869051226
            ],
            "passed_time": 0.6028342063,
            "remaining_time": 3.164879583,
            "test": [
             0.7284221426
            ]
           },
           {
            "iteration": 32,
            "learn": [
             0.4809706221
            ],
            "passed_time": 0.6166374115,
            "remaining_time": 3.120559022,
            "test": [
             0.7277455424
            ]
           },
           {
            "iteration": 33,
            "learn": [
             0.4749706738
            ],
            "passed_time": 0.6304294199,
            "remaining_time": 3.077978932,
            "test": [
             0.7298531618
            ]
           },
           {
            "iteration": 34,
            "learn": [
             0.4680516559
            ],
            "passed_time": 0.6512152651,
            "remaining_time": 3.070014821,
            "test": [
             0.7318825455
            ]
           },
           {
            "iteration": 35,
            "learn": [
             0.4638994106
            ],
            "passed_time": 0.6649507824,
            "remaining_time": 3.029220231,
            "test": [
             0.7310374453
            ]
           },
           {
            "iteration": 36,
            "learn": [
             0.4595262717
            ],
            "passed_time": 0.6791858508,
            "remaining_time": 2.992089019,
            "test": [
             0.7331255248
            ]
           },
           {
            "iteration": 37,
            "learn": [
             0.4573555374
            ],
            "passed_time": 0.6973832802,
            "remaining_time": 2.973055037,
            "test": [
             0.7332717968
            ]
           },
           {
            "iteration": 38,
            "learn": [
             0.4528386378
            ],
            "passed_time": 0.7103828165,
            "remaining_time": 2.932605986,
            "test": [
             0.737651086
            ]
           },
           {
            "iteration": 39,
            "learn": [
             0.4504107622
            ],
            "passed_time": 0.7270766098,
            "remaining_time": 2.908306439,
            "test": [
             0.7380686262
            ]
           },
           {
            "iteration": 40,
            "learn": [
             0.446740287
            ],
            "passed_time": 0.7510677854,
            "remaining_time": 2.912677509,
            "test": [
             0.740177958
            ]
           },
           {
            "iteration": 41,
            "learn": [
             0.4408693269
            ],
            "passed_time": 0.7739198805,
            "remaining_time": 2.911412884,
            "test": [
             0.7398667303
            ]
           },
           {
            "iteration": 42,
            "learn": [
             0.4363771254
            ],
            "passed_time": 0.8011308345,
            "remaining_time": 2.925059093,
            "test": [
             0.744445677
            ]
           },
           {
            "iteration": 43,
            "learn": [
             0.4313905939
            ],
            "passed_time": 0.8129535151,
            "remaining_time": 2.882289735,
            "test": [
             0.7441740591
            ]
           },
           {
            "iteration": 44,
            "learn": [
             0.4262781752
            ],
            "passed_time": 0.8265048034,
            "remaining_time": 2.846849878,
            "test": [
             0.7457812934
            ]
           },
           {
            "iteration": 45,
            "learn": [
             0.4227048133
            ],
            "passed_time": 0.8407429344,
            "remaining_time": 2.814661128,
            "test": [
             0.7503788239
            ]
           },
           {
            "iteration": 46,
            "learn": [
             0.4202648603
            ],
            "passed_time": 0.8616946735,
            "remaining_time": 2.805091171,
            "test": [
             0.7499346377
            ]
           },
           {
            "iteration": 47,
            "learn": [
             0.4171238248
            ],
            "passed_time": 0.8771533179,
            "remaining_time": 2.777652173,
            "test": [
             0.7467117929
            ]
           },
           {
            "iteration": 48,
            "learn": [
             0.4118281988
            ],
            "passed_time": 0.8923948215,
            "remaining_time": 2.750033021,
            "test": [
             0.7495693223
            ]
           },
           {
            "iteration": 49,
            "learn": [
             0.4074763236
            ],
            "passed_time": 0.9082307066,
            "remaining_time": 2.72469212,
            "test": [
             0.7526846211
            ]
           },
           {
            "iteration": 50,
            "learn": [
             0.4041847085
            ],
            "passed_time": 0.9301044189,
            "remaining_time": 2.71736389,
            "test": [
             0.7548849696
            ]
           },
           {
            "iteration": 51,
            "learn": [
             0.4001250563
            ],
            "passed_time": 0.9412908067,
            "remaining_time": 2.67905845,
            "test": [
             0.7535881842
            ]
           },
           {
            "iteration": 52,
            "learn": [
             0.3964744548
            ],
            "passed_time": 0.9500750744,
            "remaining_time": 2.635113886,
            "test": [
             0.7537090742
            ]
           },
           {
            "iteration": 53,
            "learn": [
             0.3922934387
            ],
            "passed_time": 0.9580308293,
            "remaining_time": 2.590231501,
            "test": [
             0.7538953785
            ]
           },
           {
            "iteration": 54,
            "learn": [
             0.388388512
            ],
            "passed_time": 0.9654006902,
            "remaining_time": 2.545147274,
            "test": [
             0.7522040624
            ]
           },
           {
            "iteration": 55,
            "learn": [
             0.383502988
            ],
            "passed_time": 0.9733342693,
            "remaining_time": 2.50285955,
            "test": [
             0.7504964298
            ]
           },
           {
            "iteration": 56,
            "learn": [
             0.382192133
            ],
            "passed_time": 0.9803854344,
            "remaining_time": 2.459563458,
            "test": [
             0.7491043574
            ]
           },
           {
            "iteration": 57,
            "learn": [
             0.3791114647
            ],
            "passed_time": 1.002052761,
            "remaining_time": 2.453301588,
            "test": [
             0.7456458173
            ]
           },
           {
            "iteration": 58,
            "learn": [
             0.3753692013
            ],
            "passed_time": 1.010984863,
            "remaining_time": 2.416082469,
            "test": [
             0.7464419279
            ]
           },
           {
            "iteration": 59,
            "learn": [
             0.371702712
            ],
            "passed_time": 1.019698985,
            "remaining_time": 2.379297631,
            "test": [
             0.7478578241
            ]
           },
           {
            "iteration": 60,
            "learn": [
             0.3679357427
            ],
            "passed_time": 1.027876819,
            "remaining_time": 2.342211112,
            "test": [
             0.7425093673
            ]
           },
           {
            "iteration": 61,
            "learn": [
             0.3633381873
            ],
            "passed_time": 1.035238731,
            "remaining_time": 2.304241046,
            "test": [
             0.7405240916
            ]
           },
           {
            "iteration": 62,
            "learn": [
             0.3612074669
            ],
            "passed_time": 1.042463741,
            "remaining_time": 2.266944961,
            "test": [
             0.7404905053
            ]
           },
           {
            "iteration": 63,
            "learn": [
             0.3575823566
            ],
            "passed_time": 1.049937229,
            "remaining_time": 2.231116612,
            "test": [
             0.7399565753
            ]
           },
           {
            "iteration": 64,
            "learn": [
             0.3548428741
            ],
            "passed_time": 1.058464668,
            "remaining_time": 2.198349694,
            "test": [
             0.7391230479
            ]
           },
           {
            "iteration": 65,
            "learn": [
             0.3494813896
            ],
            "passed_time": 1.063907297,
            "remaining_time": 2.160054208,
            "test": [
             0.740442659
            ]
           },
           {
            "iteration": 66,
            "learn": [
             0.3458762573
            ],
            "passed_time": 1.072034227,
            "remaining_time": 2.128067943,
            "test": [
             0.7421879924
            ]
           },
           {
            "iteration": 67,
            "learn": [
             0.3422608868
            ],
            "passed_time": 1.079198549,
            "remaining_time": 2.09491483,
            "test": [
             0.7430251078
            ]
           },
           {
            "iteration": 68,
            "learn": [
             0.3404133944
            ],
            "passed_time": 1.095564341,
            "remaining_time": 2.079984474,
            "test": [
             0.7423251092
            ]
           },
           {
            "iteration": 69,
            "learn": [
             0.3371674901
            ],
            "passed_time": 1.108184533,
            "remaining_time": 2.058056989,
            "test": [
             0.741997559
            ]
           },
           {
            "iteration": 70,
            "learn": [
             0.3330458226
            ],
            "passed_time": 1.136435859,
            "remaining_time": 2.064791913,
            "test": [
             0.7423802397
            ]
           },
           {
            "iteration": 71,
            "learn": [
             0.3298863646
            ],
            "passed_time": 1.157094207,
            "remaining_time": 2.057056367,
            "test": [
             0.7464558716
            ]
           },
           {
            "iteration": 72,
            "learn": [
             0.3264126879
            ],
            "passed_time": 1.173880711,
            "remaining_time": 2.042230826,
            "test": [
             0.7500471604
            ]
           },
           {
            "iteration": 73,
            "learn": [
             0.3232743601
            ],
            "passed_time": 1.184826102,
            "remaining_time": 2.017406606,
            "test": [
             0.7488570213
            ]
           },
           {
            "iteration": 74,
            "learn": [
             0.3204658927
            ],
            "passed_time": 1.198544925,
            "remaining_time": 1.997574875,
            "test": [
             0.7480292279
            ]
           },
           {
            "iteration": 75,
            "learn": [
             0.3174384902
            ],
            "passed_time": 1.223392303,
            "remaining_time": 1.996061126,
            "test": [
             0.7468757728
            ]
           },
           {
            "iteration": 76,
            "learn": [
             0.3145937346
            ],
            "passed_time": 1.236372201,
            "remaining_time": 1.974984166,
            "test": [
             0.7495363849
            ]
           },
           {
            "iteration": 77,
            "learn": [
             0.3098293902
            ],
            "passed_time": 1.270798643,
            "remaining_time": 1.987659416,
            "test": [
             0.7512905901
            ]
           },
           {
            "iteration": 78,
            "learn": [
             0.3066098003
            ],
            "passed_time": 1.290839761,
            "remaining_time": 1.977109002,
            "test": [
             0.7522473432
            ]
           },
           {
            "iteration": 79,
            "learn": [
             0.3051827465
            ],
            "passed_time": 1.309649118,
            "remaining_time": 1.964473677,
            "test": [
             0.749976713
            ]
           },
           {
            "iteration": 80,
            "learn": [
             0.302322845
            ],
            "passed_time": 1.321871344,
            "remaining_time": 1.942008518,
            "test": [
             0.7479448792
            ]
           },
           {
            "iteration": 81,
            "learn": [
             0.299634316
            ],
            "passed_time": 1.33472929,
            "remaining_time": 1.920708003,
            "test": [
             0.7482235529
            ]
           },
           {
            "iteration": 82,
            "learn": [
             0.2973884363
            ],
            "passed_time": 1.349296552,
            "remaining_time": 1.902020441,
            "test": [
             0.7489883566
            ]
           },
           {
            "iteration": 83,
            "learn": [
             0.2959453013
            ],
            "passed_time": 1.366807871,
            "remaining_time": 1.887496584,
            "test": [
             0.7496722974
            ]
           },
           {
            "iteration": 84,
            "learn": [
             0.2929847972
            ],
            "passed_time": 1.37843716,
            "remaining_time": 1.864944393,
            "test": [
             0.7493137539
            ]
           },
           {
            "iteration": 85,
            "learn": [
             0.2893576546
            ],
            "passed_time": 1.393261978,
            "remaining_time": 1.846882156,
            "test": [
             0.7502210037
            ]
           },
           {
            "iteration": 86,
            "learn": [
             0.2875645791
            ],
            "passed_time": 1.406939454,
            "remaining_time": 1.827404119,
            "test": [
             0.7530670759
            ]
           },
           {
            "iteration": 87,
            "learn": [
             0.2850144628
            ],
            "passed_time": 1.434199726,
            "remaining_time": 1.825345106,
            "test": [
             0.7529591103
            ]
           },
           {
            "iteration": 88,
            "learn": [
             0.2827244549
            ],
            "passed_time": 1.448622774,
            "remaining_time": 1.806709302,
            "test": [
             0.7538744658
            ]
           },
           {
            "iteration": 89,
            "learn": [
             0.2795275374
            ],
            "passed_time": 1.468854267,
            "remaining_time": 1.795266326,
            "test": [
             0.755019391
            ]
           },
           {
            "iteration": 90,
            "learn": [
             0.2768208608
            ],
            "passed_time": 1.496641006,
            "remaining_time": 1.792679887,
            "test": [
             0.7541499335
            ]
           },
           {
            "iteration": 91,
            "learn": [
             0.2740507776
            ],
            "passed_time": 1.510154137,
            "remaining_time": 1.772789639,
            "test": [
             0.756549546
            ]
           },
           {
            "iteration": 92,
            "learn": [
             0.2710119618
            ],
            "passed_time": 1.522983019,
            "remaining_time": 1.75224928,
            "test": [
             0.7587200927
            ]
           },
           {
            "iteration": 93,
            "learn": [
             0.2694532474
            ],
            "passed_time": 1.555094749,
            "remaining_time": 1.753617483,
            "test": [
             0.7598884549
            ]
           },
           {
            "iteration": 94,
            "learn": [
             0.2670538608
            ],
            "passed_time": 1.569869381,
            "remaining_time": 1.735118789,
            "test": [
             0.7620910509
            ]
           },
           {
            "iteration": 95,
            "learn": [
             0.2648950096
            ],
            "passed_time": 1.57703831,
            "remaining_time": 1.708458169,
            "test": [
             0.7649742804
            ]
           },
           {
            "iteration": 96,
            "learn": [
             0.2627474675
            ],
            "passed_time": 1.584047543,
            "remaining_time": 1.682029865,
            "test": [
             0.7684603163
            ]
           },
           {
            "iteration": 97,
            "learn": [
             0.2599718211
            ],
            "passed_time": 1.595440018,
            "remaining_time": 1.660560018,
            "test": [
             0.7688292476
            ]
           },
           {
            "iteration": 98,
            "learn": [
             0.25583051
            ],
            "passed_time": 1.612400803,
            "remaining_time": 1.644974557,
            "test": [
             0.7709088799
            ]
           },
           {
            "iteration": 99,
            "learn": [
             0.2524428733
            ],
            "passed_time": 1.622234332,
            "remaining_time": 1.622234332,
            "test": [
             0.7695949806
            ]
           },
           {
            "iteration": 100,
            "learn": [
             0.2488503469
            ],
            "passed_time": 1.628288585,
            "remaining_time": 1.596045247,
            "test": [
             0.7709084652
            ]
           },
           {
            "iteration": 101,
            "learn": [
             0.246457573
            ],
            "passed_time": 1.637867691,
            "remaining_time": 1.573637585,
            "test": [
             0.7730778816
            ]
           },
           {
            "iteration": 102,
            "learn": [
             0.2437236183
            ],
            "passed_time": 1.645081425,
            "remaining_time": 1.549251439,
            "test": [
             0.7736127645
            ]
           },
           {
            "iteration": 103,
            "learn": [
             0.2421672811
            ],
            "passed_time": 1.652636506,
            "remaining_time": 1.525510621,
            "test": [
             0.7755531113
            ]
           },
           {
            "iteration": 104,
            "learn": [
             0.2402372518
            ],
            "passed_time": 1.663937117,
            "remaining_time": 1.505466915,
            "test": [
             0.7752394942
            ]
           },
           {
            "iteration": 105,
            "learn": [
             0.2388114954
            ],
            "passed_time": 1.672325344,
            "remaining_time": 1.483005494,
            "test": [
             0.7757853554
            ]
           },
           {
            "iteration": 106,
            "learn": [
             0.2364683769
            ],
            "passed_time": 1.687800917,
            "remaining_time": 1.466967152,
            "test": [
             0.7761713772
            ]
           },
           {
            "iteration": 107,
            "learn": [
             0.2341098142
            ],
            "passed_time": 1.70219465,
            "remaining_time": 1.450017665,
            "test": [
             0.7801058546
            ]
           },
           {
            "iteration": 108,
            "learn": [
             0.2322725543
            ],
            "passed_time": 1.710272788,
            "remaining_time": 1.427842419,
            "test": [
             0.7843826046
            ]
           },
           {
            "iteration": 109,
            "learn": [
             0.2300538317
            ],
            "passed_time": 1.716619845,
            "remaining_time": 1.404507146,
            "test": [
             0.7830379847
            ]
           },
           {
            "iteration": 110,
            "learn": [
             0.2282283098
            ],
            "passed_time": 1.723336933,
            "remaining_time": 1.381774658,
            "test": [
             0.7849314775
            ]
           },
           {
            "iteration": 111,
            "learn": [
             0.2274411816
            ],
            "passed_time": 1.731522818,
            "remaining_time": 1.360482214,
            "test": [
             0.785329499
            ]
           },
           {
            "iteration": 112,
            "learn": [
             0.2254259403
            ],
            "passed_time": 1.738550457,
            "remaining_time": 1.338529998,
            "test": [
             0.7865723955
            ]
           },
           {
            "iteration": 113,
            "learn": [
             0.222559003
            ],
            "passed_time": 1.746420082,
            "remaining_time": 1.317474799,
            "test": [
             0.7854181768
            ]
           },
           {
            "iteration": 114,
            "learn": [
             0.2203740474
            ],
            "passed_time": 1.754615119,
            "remaining_time": 1.296889436,
            "test": [
             0.7868255508
            ]
           },
           {
            "iteration": 115,
            "learn": [
             0.2180262293
            ],
            "passed_time": 1.762357073,
            "remaining_time": 1.276189604,
            "test": [
             0.785348517
            ]
           },
           {
            "iteration": 116,
            "learn": [
             0.2161602438
            ],
            "passed_time": 1.769288169,
            "remaining_time": 1.255136052,
            "test": [
             0.7845368029
            ]
           },
           {
            "iteration": 117,
            "learn": [
             0.2142264565
            ],
            "passed_time": 1.775772025,
            "remaining_time": 1.234011068,
            "test": [
             0.7848199811
            ]
           },
           {
            "iteration": 118,
            "learn": [
             0.2126799588
            ],
            "passed_time": 1.785302548,
            "remaining_time": 1.215205936,
            "test": [
             0.7877303261
            ]
           },
           {
            "iteration": 119,
            "learn": [
             0.2108663453
            ],
            "passed_time": 1.803197601,
            "remaining_time": 1.202131734,
            "test": [
             0.7882233046
            ]
           },
           {
            "iteration": 120,
            "learn": [
             0.2085385871
            ],
            "passed_time": 1.821370987,
            "remaining_time": 1.18915957,
            "test": [
             0.7894059152
            ]
           },
           {
            "iteration": 121,
            "learn": [
             0.206297332
            ],
            "passed_time": 1.835192229,
            "remaining_time": 1.173319622,
            "test": [
             0.7874507839
            ]
           },
           {
            "iteration": 122,
            "learn": [
             0.2031525083
            ],
            "passed_time": 1.861771409,
            "remaining_time": 1.165499175,
            "test": [
             0.7896082482
            ]
           },
           {
            "iteration": 123,
            "learn": [
             0.2016613496
            ],
            "passed_time": 1.874875597,
            "remaining_time": 1.149117302,
            "test": [
             0.7892198695
            ]
           },
           {
            "iteration": 124,
            "learn": [
             0.199608454
            ],
            "passed_time": 1.893496426,
            "remaining_time": 1.136097856,
            "test": [
             0.7906821039
            ]
           },
           {
            "iteration": 125,
            "learn": [
             0.1974335278
            ],
            "passed_time": 1.906497324,
            "remaining_time": 1.119688905,
            "test": [
             0.7929748728
            ]
           },
           {
            "iteration": 126,
            "learn": [
             0.1953610106
            ],
            "passed_time": 1.91915736,
            "remaining_time": 1.103137695,
            "test": [
             0.790834767
            ]
           },
           {
            "iteration": 127,
            "learn": [
             0.1929118583
            ],
            "passed_time": 1.936428245,
            "remaining_time": 1.089240888,
            "test": [
             0.7942152502
            ]
           },
           {
            "iteration": 128,
            "learn": [
             0.1898445332
            ],
            "passed_time": 1.951886285,
            "remaining_time": 1.074294002,
            "test": [
             0.7930763644
            ]
           },
           {
            "iteration": 129,
            "learn": [
             0.1880193141
            ],
            "passed_time": 1.97353272,
            "remaining_time": 1.062671464,
            "test": [
             0.7942696661
            ]
           },
           {
            "iteration": 130,
            "learn": [
             0.185934748
            ],
            "passed_time": 2.000172516,
            "remaining_time": 1.053525981,
            "test": [
             0.7946798471
            ]
           },
           {
            "iteration": 131,
            "learn": [
             0.1841320064
            ],
            "passed_time": 2.022618977,
            "remaining_time": 1.04195523,
            "test": [
             0.7921320322
            ]
           },
           {
            "iteration": 132,
            "learn": [
             0.181643399
            ],
            "passed_time": 2.054828938,
            "remaining_time": 1.03513939,
            "test": [
             0.7921331489
            ]
           },
           {
            "iteration": 133,
            "learn": [
             0.1795741175
            ],
            "passed_time": 2.079793413,
            "remaining_time": 1.02437586,
            "test": [
             0.7908918298
            ]
           },
           {
            "iteration": 134,
            "learn": [
             0.1770246105
            ],
            "passed_time": 2.093083967,
            "remaining_time": 1.007781169,
            "test": [
             0.7909967081
            ]
           },
           {
            "iteration": 135,
            "learn": [
             0.1750241146
            ],
            "passed_time": 2.105409004,
            "remaining_time": 0.9907807079,
            "test": [
             0.7912884309
            ]
           },
           {
            "iteration": 136,
            "learn": [
             0.1736793051
            ],
            "passed_time": 2.118800828,
            "remaining_time": 0.9743390671,
            "test": [
             0.7932850217
            ]
           },
           {
            "iteration": 137,
            "learn": [
             0.1723770818
            ],
            "passed_time": 2.137564609,
            "remaining_time": 0.960355114,
            "test": [
             0.7923885977
            ]
           },
           {
            "iteration": 138,
            "learn": [
             0.1696141296
            ],
            "passed_time": 2.152009278,
            "remaining_time": 0.9444069494,
            "test": [
             0.7946216323
            ]
           },
           {
            "iteration": 139,
            "learn": [
             0.168400984
            ],
            "passed_time": 2.183250565,
            "remaining_time": 0.9356788136,
            "test": [
             0.7943921519
            ]
           },
           {
            "iteration": 140,
            "learn": [
             0.1670622485
            ],
            "passed_time": 2.201815354,
            "remaining_time": 0.921326992,
            "test": [
             0.7972193815
            ]
           },
           {
            "iteration": 141,
            "learn": [
             0.1649845454
            ],
            "passed_time": 2.232896736,
            "remaining_time": 0.9120282442,
            "test": [
             0.8008369467
            ]
           },
           {
            "iteration": 142,
            "learn": [
             0.1643883753
            ],
            "passed_time": 2.258486242,
            "remaining_time": 0.9002357749,
            "test": [
             0.8015496785
            ]
           },
           {
            "iteration": 143,
            "learn": [
             0.1640425183
            ],
            "passed_time": 2.282435327,
            "remaining_time": 0.8876137382,
            "test": [
             0.8038615055
            ]
           },
           {
            "iteration": 144,
            "learn": [
             0.1623270335
            ],
            "passed_time": 2.296350963,
            "remaining_time": 0.8710296757,
            "test": [
             0.8047033878
            ]
           },
           {
            "iteration": 145,
            "learn": [
             0.1614798238
            ],
            "passed_time": 2.308640076,
            "remaining_time": 0.8538805762,
            "test": [
             0.8054868797
            ]
           },
           {
            "iteration": 146,
            "learn": [
             0.1598848035
            ],
            "passed_time": 2.326667566,
            "remaining_time": 0.8388665375,
            "test": [
             0.8055774382
            ]
           },
           {
            "iteration": 147,
            "learn": [
             0.1582162733
            ],
            "passed_time": 2.339296854,
            "remaining_time": 0.8219151107,
            "test": [
             0.8083171616
            ]
           },
           {
            "iteration": 148,
            "learn": [
             0.1573655416
            ],
            "passed_time": 2.352011943,
            "remaining_time": 0.8050510678,
            "test": [
             0.8114777419
            ]
           },
           {
            "iteration": 149,
            "learn": [
             0.1560995818
            ],
            "passed_time": 2.376945062,
            "remaining_time": 0.7923150208,
            "test": [
             0.8141816429
            ]
           },
           {
            "iteration": 150,
            "learn": [
             0.1542944568
            ],
            "passed_time": 2.390291161,
            "remaining_time": 0.7756573967,
            "test": [
             0.8145155404
            ]
           },
           {
            "iteration": 151,
            "learn": [
             0.1529555346
            ],
            "passed_time": 2.406408912,
            "remaining_time": 0.7599186039,
            "test": [
             0.8137753332
            ]
           },
           {
            "iteration": 152,
            "learn": [
             0.1520099766
            ],
            "passed_time": 2.419764473,
            "remaining_time": 0.7433263414,
            "test": [
             0.8129372069
            ]
           },
           {
            "iteration": 153,
            "learn": [
             0.1506799756
            ],
            "passed_time": 2.435198257,
            "remaining_time": 0.7273968819,
            "test": [
             0.8122186261
            ]
           },
           {
            "iteration": 154,
            "learn": [
             0.1493513963
            ],
            "passed_time": 2.448087131,
            "remaining_time": 0.7107349734,
            "test": [
             0.8122022475
            ]
           },
           {
            "iteration": 155,
            "learn": [
             0.1482004388
            ],
            "passed_time": 2.460866716,
            "remaining_time": 0.6940906122,
            "test": [
             0.8125233934
            ]
           },
           {
            "iteration": 156,
            "learn": [
             0.1464699942
            ],
            "passed_time": 2.47970879,
            "remaining_time": 0.6791559106,
            "test": [
             0.8136653723
            ]
           },
           {
            "iteration": 157,
            "learn": [
             0.1455402425
            ],
            "passed_time": 2.507404125,
            "remaining_time": 0.6665251473,
            "test": [
             0.8139256688
            ]
           },
           {
            "iteration": 158,
            "learn": [
             0.1432169733
            ],
            "passed_time": 2.519981918,
            "remaining_time": 0.6498066581,
            "test": [
             0.815901114
            ]
           },
           {
            "iteration": 159,
            "learn": [
             0.1418199665
            ],
            "passed_time": 2.544474538,
            "remaining_time": 0.6361186345,
            "test": [
             0.8163152857
            ]
           },
           {
            "iteration": 160,
            "learn": [
             0.140360093
            ],
            "passed_time": 2.563806982,
            "remaining_time": 0.6210464117,
            "test": [
             0.8149218925
            ]
           },
           {
            "iteration": 161,
            "learn": [
             0.1397217127
            ],
            "passed_time": 2.5775993,
            "remaining_time": 0.6046220581,
            "test": [
             0.8137820729
            ]
           },
           {
            "iteration": 162,
            "learn": [
             0.1387996283
            ],
            "passed_time": 2.612451586,
            "remaining_time": 0.5930104827,
            "test": [
             0.8156821251
            ]
           },
           {
            "iteration": 163,
            "learn": [
             0.13697602
            ],
            "passed_time": 2.625660286,
            "remaining_time": 0.576364453,
            "test": [
             0.814979474
            ]
           },
           {
            "iteration": 164,
            "learn": [
             0.1355876519
            ],
            "passed_time": 2.640582126,
            "remaining_time": 0.5601234813,
            "test": [
             0.8138978433
            ]
           },
           {
            "iteration": 165,
            "learn": [
             0.1343012146
            ],
            "passed_time": 2.648920106,
            "remaining_time": 0.5425499013,
            "test": [
             0.8153907867
            ]
           },
           {
            "iteration": 166,
            "learn": [
             0.1330488435
            ],
            "passed_time": 2.655911747,
            "remaining_time": 0.5248208842,
            "test": [
             0.8169856744
            ]
           },
           {
            "iteration": 167,
            "learn": [
             0.1320036088
            ],
            "passed_time": 2.661704054,
            "remaining_time": 0.5069912483,
            "test": [
             0.8171321402
            ]
           },
           {
            "iteration": 168,
            "learn": [
             0.1303700669
            ],
            "passed_time": 2.668879238,
            "remaining_time": 0.48955773,
            "test": [
             0.8159949321
            ]
           },
           {
            "iteration": 169,
            "learn": [
             0.1286337918
            ],
            "passed_time": 2.677490225,
            "remaining_time": 0.472498275,
            "test": [
             0.8169532167
            ]
           },
           {
            "iteration": 170,
            "learn": [
             0.1274942822
            ],
            "passed_time": 2.701661,
            "remaining_time": 0.4581764269,
            "test": [
             0.8210193967
            ]
           },
           {
            "iteration": 171,
            "learn": [
             0.1266594829
            ],
            "passed_time": 2.714743539,
            "remaining_time": 0.4419349947,
            "test": [
             0.8227505432
            ]
           },
           {
            "iteration": 172,
            "learn": [
             0.125494957
            ],
            "passed_time": 2.7259315,
            "remaining_time": 0.4254343959,
            "test": [
             0.8241607068
            ]
           },
           {
            "iteration": 173,
            "learn": [
             0.1237629091
            ],
            "passed_time": 2.744747761,
            "remaining_time": 0.4101347229,
            "test": [
             0.8241831
            ]
           },
           {
            "iteration": 174,
            "learn": [
             0.1220279421
            ],
            "passed_time": 2.759032051,
            "remaining_time": 0.3941474359,
            "test": [
             0.8259507339
            ]
           },
           {
            "iteration": 175,
            "learn": [
             0.1210109115
            ],
            "passed_time": 2.773041701,
            "remaining_time": 0.3781420501,
            "test": [
             0.8284199579
            ]
           },
           {
            "iteration": 176,
            "learn": [
             0.1201109609
            ],
            "passed_time": 2.788684784,
            "remaining_time": 0.3623714692,
            "test": [
             0.8288124139
            ]
           },
           {
            "iteration": 177,
            "learn": [
             0.1187058151
            ],
            "passed_time": 2.802702017,
            "remaining_time": 0.3464013728,
            "test": [
             0.8283697767
            ]
           },
           {
            "iteration": 178,
            "learn": [
             0.1174191785
            ],
            "passed_time": 2.81652296,
            "remaining_time": 0.3304300679,
            "test": [
             0.8270925745
            ]
           },
           {
            "iteration": 179,
            "learn": [
             0.1161815288
            ],
            "passed_time": 2.8298514,
            "remaining_time": 0.3144279334,
            "test": [
             0.8294180635
            ]
           },
           {
            "iteration": 180,
            "learn": [
             0.1145282208
            ],
            "passed_time": 2.842753046,
            "remaining_time": 0.2984105408,
            "test": [
             0.8303366995
            ]
           },
           {
            "iteration": 181,
            "learn": [
             0.1132953848
            ],
            "passed_time": 2.859542803,
            "remaining_time": 0.2828119255,
            "test": [
             0.8278626315
            ]
           },
           {
            "iteration": 182,
            "learn": [
             0.1121018324
            ],
            "passed_time": 2.874299038,
            "remaining_time": 0.267011386,
            "test": [
             0.8295599876
            ]
           },
           {
            "iteration": 183,
            "learn": [
             0.1108906383
            ],
            "passed_time": 2.886653679,
            "remaining_time": 0.2510133634,
            "test": [
             0.8290721453
            ]
           },
           {
            "iteration": 184,
            "learn": [
             0.1097602579
            ],
            "passed_time": 2.902089954,
            "remaining_time": 0.2353045909,
            "test": [
             0.8282282436
            ]
           },
           {
            "iteration": 185,
            "learn": [
             0.1083874602
            ],
            "passed_time": 2.914579498,
            "remaining_time": 0.2193769514,
            "test": [
             0.8272655171
            ]
           },
           {
            "iteration": 186,
            "learn": [
             0.1072363853
            ],
            "passed_time": 2.932524554,
            "remaining_time": 0.2038653433,
            "test": [
             0.8285710598
            ]
           },
           {
            "iteration": 187,
            "learn": [
             0.1057490785
            ],
            "passed_time": 2.950867907,
            "remaining_time": 0.1883532706,
            "test": [
             0.8304839047
            ]
           },
           {
            "iteration": 188,
            "learn": [
             0.1042924041
            ],
            "passed_time": 2.964552599,
            "remaining_time": 0.1725400984,
            "test": [
             0.8289348424
            ]
           },
           {
            "iteration": 189,
            "learn": [
             0.1034765042
            ],
            "passed_time": 2.980956263,
            "remaining_time": 0.1568924349,
            "test": [
             0.8312211685
            ]
           },
           {
            "iteration": 190,
            "learn": [
             0.1024965849
            ],
            "passed_time": 3.024509359,
            "remaining_time": 0.1425161478,
            "test": [
             0.8306428217
            ]
           },
           {
            "iteration": 191,
            "learn": [
             0.1020743077
            ],
            "passed_time": 3.042033739,
            "remaining_time": 0.1267514058,
            "test": [
             0.8323311893
            ]
           },
           {
            "iteration": 192,
            "learn": [
             0.1012246041
            ],
            "passed_time": 3.057460815,
            "remaining_time": 0.1108923612,
            "test": [
             0.8348171487
            ]
           },
           {
            "iteration": 193,
            "learn": [
             0.1003648377
            ],
            "passed_time": 3.070660664,
            "remaining_time": 0.09496888652,
            "test": [
             0.8378509684
            ]
           },
           {
            "iteration": 194,
            "learn": [
             0.09926567633
            ],
            "passed_time": 3.085013708,
            "remaining_time": 0.0791029156,
            "test": [
             0.8397308677
            ]
           },
           {
            "iteration": 195,
            "learn": [
             0.0982353927
            ],
            "passed_time": 3.103687302,
            "remaining_time": 0.06334055718,
            "test": [
             0.841084356
            ]
           },
           {
            "iteration": 196,
            "learn": [
             0.09724006199
            ],
            "passed_time": 3.117318231,
            "remaining_time": 0.04747185124,
            "test": [
             0.8427634461
            ]
           },
           {
            "iteration": 197,
            "learn": [
             0.09632525368
            ],
            "passed_time": 3.130826666,
            "remaining_time": 0.03162451178,
            "test": [
             0.8397149909
            ]
           },
           {
            "iteration": 198,
            "learn": [
             0.09580334028
            ],
            "passed_time": 3.144852386,
            "remaining_time": 0.01580327832,
            "test": [
             0.839432374
            ]
           },
           {
            "iteration": 199,
            "learn": [
             0.09537408087
            ],
            "passed_time": 3.159919494,
            "remaining_time": 0,
            "test": [
             0.839987328
            ]
           }
          ],
          "meta": {
           "iteration_count": 200,
           "launch_mode": "Train",
           "learn_metrics": [
            {
             "best_value": "Min",
             "name": "Logloss"
            }
           ],
           "learn_sets": [
            "learn"
           ],
           "name": "experiment",
           "parameters": "",
           "test_metrics": [
            {
             "best_value": "Min",
             "name": "Logloss"
            }
           ],
           "test_sets": [
            "test"
           ]
          }
         },
         "passed_iterations": 199,
         "total_iterations": 200
        },
        "name": "catboost_info",
        "path": "catboost_info"
       }
      },
      "layout": "IPY_MODEL_7b2204620df246539e665a6ec1f3efb1"
     }
    }
   }
  }
 },
 "nbformat": 4,
 "nbformat_minor": 1
}
