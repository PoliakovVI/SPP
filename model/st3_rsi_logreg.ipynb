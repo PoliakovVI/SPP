{
 "cells": [
  {
   "cell_type": "code",
   "execution_count": 14,
   "id": "cf8e81aa",
   "metadata": {},
   "outputs": [],
   "source": [
    "import sys\n",
    "sys.path.append('..')\n",
    "\n",
    "import os\n",
    "\n",
    "from spp import process\n",
    "from spp import market\n",
    "import numpy as np\n",
    "import pandas as pd\n",
    "import math\n",
    "from sklearn.linear_model import LogisticRegression\n",
    "from sklearn.metrics import ConfusionMatrixDisplay\n",
    "import matplotlib.pyplot as plt"
   ]
  },
  {
   "cell_type": "code",
   "execution_count": 22,
   "id": "a26c2e6a",
   "metadata": {},
   "outputs": [
    {
     "data": {
      "text/plain": [
       "RsiBinPipeline(_cut_stage, _rsicol_stage, _lnprof_stage, _window_stage, _target_stage, _binarize_stage, _drop_stage, _target_stage, _drop_stage, _drop_stage, _traintest_stage, _pop_stage, _pop_stage, _targetsseparate_stage)"
      ]
     },
     "execution_count": 22,
     "metadata": {},
     "output_type": "execute_result"
    }
   ],
   "source": [
    "ticker = \"CMCSA\"\n",
    "rsi_pipe = process.RsiBinPipeline(ticker, period=\"1y\", window_size=15)\n",
    "rsi_pipe"
   ]
  },
  {
   "cell_type": "code",
   "execution_count": 23,
   "id": "339d5448",
   "metadata": {},
   "outputs": [
    {
     "name": "stdout",
     "output_type": "stream",
     "text": [
      "[*********************100%***********************]  1 of 1 completed\n"
     ]
    },
    {
     "name": "stderr",
     "output_type": "stream",
     "text": [
      "C:\\Users\\valer\\Desktop\\SPP\\SPP\\model\\..\\spp\\process.py:265: SettingWithCopyWarning: \n",
      "A value is trying to be set on a copy of a slice from a DataFrame.\n",
      "Try using .loc[row_indexer,col_indexer] = value instead\n",
      "\n",
      "See the caveats in the documentation: https://pandas.pydata.org/pandas-docs/stable/user_guide/indexing.html#returning-a-view-versus-a-copy\n",
      "  dataframe_list[i][\"RSI\"] = _rsi(dataframe)\n"
     ]
    }
   ],
   "source": [
    "X_train, y_train, X_test, y_test = rsi_pipe.get_data()"
   ]
  },
  {
   "cell_type": "markdown",
   "id": "3e3671dd",
   "metadata": {},
   "source": [
    "## Logistic Regression"
   ]
  },
  {
   "cell_type": "code",
   "execution_count": 24,
   "id": "7337feff",
   "metadata": {},
   "outputs": [
    {
     "name": "stderr",
     "output_type": "stream",
     "text": [
      "C:\\Users\\valer\\AppData\\Local\\Programs\\Python\\Python310\\lib\\site-packages\\sklearn\\utils\\validation.py:1143: DataConversionWarning: A column-vector y was passed when a 1d array was expected. Please change the shape of y to (n_samples, ), for example using ravel().\n",
      "  y = column_or_1d(y, warn=True)\n",
      "C:\\Users\\valer\\AppData\\Local\\Programs\\Python\\Python310\\lib\\site-packages\\sklearn\\linear_model\\_logistic.py:458: ConvergenceWarning: lbfgs failed to converge (status=1):\n",
      "STOP: TOTAL NO. of ITERATIONS REACHED LIMIT.\n",
      "\n",
      "Increase the number of iterations (max_iter) or scale the data as shown in:\n",
      "    https://scikit-learn.org/stable/modules/preprocessing.html\n",
      "Please also refer to the documentation for alternative solver options:\n",
      "    https://scikit-learn.org/stable/modules/linear_model.html#logistic-regression\n",
      "  n_iter_i = _check_optimize_result(\n",
      "C:\\Users\\valer\\Desktop\\SPP\\SPP\\model\\..\\spp\\process.py:377: SettingWithCopyWarning: \n",
      "A value is trying to be set on a copy of a slice from a DataFrame.\n",
      "Try using .loc[row_indexer,col_indexer] = value instead\n",
      "\n",
      "See the caveats in the documentation: https://pandas.pydata.org/pandas-docs/stable/user_guide/indexing.html#returning-a-view-versus-a-copy\n",
      "  df[\"Price_True\"] = self.true_price_keeper[train_test_id].to_numpy()\n"
     ]
    },
    {
     "name": "stdout",
     "output_type": "stream",
     "text": [
      "Model earned 112200.75$ out of 124668.04$ starting from 100000$ \n",
      "Train accuracy 0.59 \n",
      "Test accuracy  0.57\n"
     ]
    },
    {
     "data": {
      "image/png": "[encoded data removed]",
      "text/plain": [
       "<Figure size 640x480 with 2 Axes>"
      ]
     },
     "metadata": {},
     "output_type": "display_data"
    }
   ],
   "source": [
    "model = LogisticRegression().fit(X_train, y_train)\n",
    "y_train_pred_bin = model.predict(X_train)\n",
    "y_test_pred_bin = model.predict(X_test)\n",
    "\n",
    "df = rsi_pipe.get_test_price(y_test_pred_bin)  # ! Prediction_ExpProf will not be corret as we \n",
    "                                               # ! proposed bin not price\n",
    "\n",
    "start_capital = 100000\n",
    "tt = market.BinTraderTest(start_capital, y_test_pred_bin, df[\"Price_True\"])\n",
    "bt = market.BinTraderTest(start_capital, y_test, df[\"Price_True\"])\n",
    "traded_capital = tt.trade()\n",
    "maximal_caital = bt.trade()\n",
    "print(f\"Model earned {(traded_capital):.2f}$ out of {maximal_caital:.2f}$ starting from {start_capital}$ \")\n",
    "\n",
    "print(f\"Train accuracy {model.score(X_train, y_train):.2f} \\nTest accuracy  {model.score(X_test, y_test):.2f}\")\n",
    "\n",
    "_ = ConfusionMatrixDisplay.from_predictions(y_test, y_test_pred_bin)"
   ]
  },
  {
   "cell_type": "code",
   "execution_count": 25,
   "id": "31ed501f",
   "metadata": {},
   "outputs": [],
   "source": [
    "tickers = [\"EBAY\", \"ALGN\", \"CMCSA\"]\n",
    "byt = market.BinYearTest(tickers, process.RsiBinPipeline, end_date=None, window_size=15)"
   ]
  },
  {
   "cell_type": "code",
   "execution_count": 26,
   "id": "1e73cfa4",
   "metadata": {},
   "outputs": [],
   "source": [
    "orig_stdout = sys.stdout\n",
    "orig_stderr = sys.stderr\n",
    "f = open(os.devnull, 'w')\n",
    "sys.stdout = f\n",
    "sys.stderr = f\n",
    "year_test_df = byt.trade(model)\n",
    "sys.stdout = orig_stdout\n",
    "sys.stderr = orig_stderr"
   ]
  },
  {
   "cell_type": "code",
   "execution_count": 27,
   "id": "cfc91221",
   "metadata": {},
   "outputs": [
    {
     "data": {
      "text/html": [
       "<div>\n",
       "<style scoped>\n",
       "    .dataframe tbody tr th:only-of-type {\n",
       "        vertical-align: middle;\n",
       "    }\n",
       "\n",
       "    .dataframe tbody tr th {\n",
       "        vertical-align: top;\n",
       "    }\n",
       "\n",
       "    .dataframe thead th {\n",
       "        text-align: right;\n",
       "    }\n",
       "</style>\n",
       "<table border=\"1\" class=\"dataframe\">\n",
       "  <thead>\n",
       "    <tr style=\"text-align: right;\">\n",
       "      <th></th>\n",
       "      <th>Month</th>\n",
       "      <th>TrainAcc</th>\n",
       "      <th>TestAcc</th>\n",
       "      <th>Income</th>\n",
       "      <th>Potential</th>\n",
       "    </tr>\n",
       "  </thead>\n",
       "  <tbody>\n",
       "    <tr>\n",
       "      <th>0</th>\n",
       "      <td>May_2022</td>\n",
       "      <td>0.64</td>\n",
       "      <td>0.33</td>\n",
       "      <td>1.01</td>\n",
       "      <td>0.11</td>\n",
       "    </tr>\n",
       "    <tr>\n",
       "      <th>1</th>\n",
       "      <td>Jun_2022</td>\n",
       "      <td>0.60</td>\n",
       "      <td>0.60</td>\n",
       "      <td>1.04</td>\n",
       "      <td>0.34</td>\n",
       "    </tr>\n",
       "    <tr>\n",
       "      <th>2</th>\n",
       "      <td>Jul_2022</td>\n",
       "      <td>0.59</td>\n",
       "      <td>0.54</td>\n",
       "      <td>1.04</td>\n",
       "      <td>0.26</td>\n",
       "    </tr>\n",
       "    <tr>\n",
       "      <th>3</th>\n",
       "      <td>Aug_2022</td>\n",
       "      <td>0.60</td>\n",
       "      <td>0.51</td>\n",
       "      <td>0.96</td>\n",
       "      <td>-0.57</td>\n",
       "    </tr>\n",
       "    <tr>\n",
       "      <th>4</th>\n",
       "      <td>Sep_2022</td>\n",
       "      <td>0.61</td>\n",
       "      <td>0.50</td>\n",
       "      <td>0.95</td>\n",
       "      <td>-0.45</td>\n",
       "    </tr>\n",
       "    <tr>\n",
       "      <th>5</th>\n",
       "      <td>Oct_2022</td>\n",
       "      <td>0.62</td>\n",
       "      <td>0.49</td>\n",
       "      <td>1.03</td>\n",
       "      <td>0.30</td>\n",
       "    </tr>\n",
       "    <tr>\n",
       "      <th>6</th>\n",
       "      <td>Nov_2022</td>\n",
       "      <td>0.60</td>\n",
       "      <td>0.50</td>\n",
       "      <td>1.00</td>\n",
       "      <td>-0.03</td>\n",
       "    </tr>\n",
       "    <tr>\n",
       "      <th>7</th>\n",
       "      <td>Dec_2022</td>\n",
       "      <td>0.59</td>\n",
       "      <td>0.57</td>\n",
       "      <td>1.04</td>\n",
       "      <td>0.32</td>\n",
       "    </tr>\n",
       "    <tr>\n",
       "      <th>8</th>\n",
       "      <td>Jan_2023</td>\n",
       "      <td>0.59</td>\n",
       "      <td>0.57</td>\n",
       "      <td>1.04</td>\n",
       "      <td>0.48</td>\n",
       "    </tr>\n",
       "    <tr>\n",
       "      <th>9</th>\n",
       "      <td>Feb_2023</td>\n",
       "      <td>0.60</td>\n",
       "      <td>0.49</td>\n",
       "      <td>1.00</td>\n",
       "      <td>0.01</td>\n",
       "    </tr>\n",
       "    <tr>\n",
       "      <th>10</th>\n",
       "      <td>Mar_2023</td>\n",
       "      <td>0.60</td>\n",
       "      <td>0.52</td>\n",
       "      <td>0.99</td>\n",
       "      <td>-0.14</td>\n",
       "    </tr>\n",
       "    <tr>\n",
       "      <th>11</th>\n",
       "      <td>Apr_2023</td>\n",
       "      <td>0.60</td>\n",
       "      <td>0.47</td>\n",
       "      <td>1.04</td>\n",
       "      <td>0.33</td>\n",
       "    </tr>\n",
       "  </tbody>\n",
       "</table>\n",
       "</div>"
      ],
      "text/plain": [
       "       Month  TrainAcc  TestAcc  Income  Potential\n",
       "0   May_2022      0.64     0.33    1.01       0.11\n",
       "1   Jun_2022      0.60     0.60    1.04       0.34\n",
       "2   Jul_2022      0.59     0.54    1.04       0.26\n",
       "3   Aug_2022      0.60     0.51    0.96      -0.57\n",
       "4   Sep_2022      0.61     0.50    0.95      -0.45\n",
       "5   Oct_2022      0.62     0.49    1.03       0.30\n",
       "6   Nov_2022      0.60     0.50    1.00      -0.03\n",
       "7   Dec_2022      0.59     0.57    1.04       0.32\n",
       "8   Jan_2023      0.59     0.57    1.04       0.48\n",
       "9   Feb_2023      0.60     0.49    1.00       0.01\n",
       "10  Mar_2023      0.60     0.52    0.99      -0.14\n",
       "11  Apr_2023      0.60     0.47    1.04       0.33"
      ]
     },
     "execution_count": 27,
     "metadata": {},
     "output_type": "execute_result"
    }
   ],
   "source": [
    "pd.options.display.float_format = '{:,.2f}'.format\n",
    "year_test_df"
   ]
  },
  {
   "cell_type": "code",
   "execution_count": 28,
   "id": "e0fc82e3",
   "metadata": {},
   "outputs": [
    {
     "name": "stdout",
     "output_type": "stream",
     "text": [
      "Year capital multiplier 1.1399519343515614\n"
     ]
    }
   ],
   "source": [
    "from functools import reduce\n",
    "items = list(year_test_df[\"Income\"])\n",
    "reduced_income = reduce(lambda a,b: a*b, items)\n",
    "print(\"Year capital multiplier\", reduced_income)"
   ]
  },
  {
   "cell_type": "code",
   "execution_count": null,
   "id": "afe36039",
   "metadata": {},
   "outputs": [],
   "source": []
  }
 ],
 "metadata": {
  "kernelspec": {
   "display_name": "Python 3 (ipykernel)",
   "language": "python",
   "name": "python3"
  },
  "language_info": {
   "codemirror_mode": {
    "name": "ipython",
    "version": 3
   },
   "file_extension": ".py",
   "mimetype": "text/x-python",
   "name": "python",
   "nbconvert_exporter": "python",
   "pygments_lexer": "ipython3",
   "version": "3.10.10"
  }
 },
 "nbformat": 4,
 "nbformat_minor": 5
}
