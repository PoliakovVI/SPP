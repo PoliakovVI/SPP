{
 "cells": [
  {
   "cell_type": "code",
   "execution_count": 2,
   "id": "cf8e81aa",
   "metadata": {},
   "outputs": [],
   "source": [
    "import sys\n",
    "sys.path.append('../spp')\n",
    "\n",
    "import process\n",
    "import market\n",
    "import numpy as np\n",
    "import pandas as pd\n",
    "import math\n",
    "from sklearn.linear_model import LogisticRegression\n",
    "from sklearn.metrics import ConfusionMatrixDisplay\n",
    "import matplotlib.pyplot as plt\n",
    "from tqdm import tqdm"
   ]
  },
  {
   "cell_type": "code",
   "execution_count": 2,
   "id": "a26c2e6a",
   "metadata": {},
   "outputs": [
    {
     "name": "stdout",
     "output_type": "stream",
     "text": [
      "[*********************100%***********************]  1 of 1 completed\n",
      "[*********************100%***********************]  1 of 1 completed\n",
      "[*********************100%***********************]  1 of 1 completed\n",
      "[*********************100%***********************]  1 of 1 completed\n",
      "[*********************100%***********************]  1 of 1 completed\n"
     ]
    },
    {
     "name": "stderr",
     "output_type": "stream",
     "text": [
      "C:\\Users\\valer\\Desktop\\SPP\\SPP\\model\\../spp\\process.py:237: SettingWithCopyWarning: \n",
      "A value is trying to be set on a copy of a slice from a DataFrame.\n",
      "Try using .loc[row_indexer,col_indexer] = value instead\n",
      "\n",
      "See the caveats in the documentation: https://pandas.pydata.org/pandas-docs/stable/user_guide/indexing.html#returning-a-view-versus-a-copy\n",
      "  dataframe_list[i][\"RSI\"] = _rsi(dataframe)\n"
     ]
    }
   ],
   "source": [
    "tickers = [\"TSLA\", \"AAPL\", \"MSFT\", \"AMZN\", \"GOOGL\"]\n",
    "# CNN model won't be re-learned foreach case separately, so,\n",
    "# it should know the year test data\n",
    "# For \"5y\" test_coef is 0.22\n",
    "\n",
    "\n",
    "def_pipe = process.RsiBinPipeline(tickers, period=\"5y\", test_coef=0.22)\n",
    "X_train, y_train, X_test, y_test = def_pipe.get_data()"
   ]
  },
  {
   "cell_type": "code",
   "execution_count": 3,
   "id": "c81134cd",
   "metadata": {},
   "outputs": [
    {
     "data": {
      "text/plain": [
       "(4970, 28)"
      ]
     },
     "execution_count": 3,
     "metadata": {},
     "output_type": "execute_result"
    }
   ],
   "source": [
    "X_train.shape"
   ]
  },
  {
   "cell_type": "code",
   "execution_count": 5,
   "id": "492820f3",
   "metadata": {},
   "outputs": [],
   "source": [
    "from sklearn.utils import shuffle\n",
    "X_train, y_train = shuffle(X_train, y_train)\n",
    "X_train[X_train > 1] /= 100"
   ]
  },
  {
   "cell_type": "code",
   "execution_count": 33,
   "id": "0b55821e",
   "metadata": {},
   "outputs": [],
   "source": [
    "import torch\n",
    "from torch.utils.data import Dataset\n",
    "from torchvision import datasets\n",
    "from torchvision.transforms import ToTensor\n",
    "import matplotlib.pyplot as plt\n",
    "\n",
    "class CustomStockDataset(Dataset):\n",
    "    def __init__(self, X, y):\n",
    "        self.X = np.array(X).astype(np.float32)\n",
    "        self.y = np.array(y).astype(np.longlong).flatten()\n",
    "\n",
    "    def __len__(self):\n",
    "        return len(self.X)\n",
    "\n",
    "    def __getitem__(self, idx):\n",
    "        return self.X[idx], self.y[idx]\n",
    "\n",
    "training_data = CustomStockDataset(X_train, y_train)\n",
    "test_data = CustomStockDataset(X_test, y_test)"
   ]
  },
  {
   "cell_type": "code",
   "execution_count": 34,
   "id": "ef626cee",
   "metadata": {},
   "outputs": [
    {
     "data": {
      "text/plain": [
       "numpy.int64"
      ]
     },
     "execution_count": 34,
     "metadata": {},
     "output_type": "execute_result"
    }
   ],
   "source": [
    "type(training_data[0][1])"
   ]
  },
  {
   "cell_type": "code",
   "execution_count": 35,
   "id": "b7fc5e87",
   "metadata": {},
   "outputs": [],
   "source": [
    "from torch.utils.data import DataLoader\n",
    "\n",
    "train_dataloader = DataLoader(training_data, batch_size=4, shuffle=True)\n",
    "test_dataloader = DataLoader(test_data, batch_size=4, shuffle=True)"
   ]
  },
  {
   "cell_type": "markdown",
   "id": "3e3671dd",
   "metadata": {},
   "source": [
    "## Convolutional NN"
   ]
  },
  {
   "cell_type": "code",
   "execution_count": 52,
   "id": "0eba12b7",
   "metadata": {},
   "outputs": [
    {
     "name": "stdout",
     "output_type": "stream",
     "text": [
      "----------------------------------------------------------------\n",
      "        Layer (type)               Output Shape         Param #\n",
      "================================================================\n",
      "            Conv1d-1                [-1, 8, 14]              56\n",
      "         MaxPool1d-2                 [-1, 8, 7]               0\n",
      "            Conv1d-3                [-1, 16, 8]             272\n",
      "         MaxPool1d-4                [-1, 16, 4]               0\n",
      "            Conv1d-5                [-1, 32, 4]           1,568\n",
      "         MaxPool1d-6                [-1, 32, 2]               0\n",
      "            Linear-7                   [-1, 64]           4,160\n",
      "            Linear-8                   [-1, 16]           1,040\n",
      "            Linear-9                    [-1, 2]              34\n",
      "================================================================\n",
      "Total params: 7,130\n",
      "Trainable params: 7,130\n",
      "Non-trainable params: 0\n",
      "----------------------------------------------------------------\n",
      "Input size (MB): 0.00\n",
      "Forward/backward pass size (MB): 0.00\n",
      "Params size (MB): 0.03\n",
      "Estimated Total Size (MB): 0.03\n",
      "----------------------------------------------------------------\n"
     ]
    }
   ],
   "source": [
    "import torch.nn as nn\n",
    "import torch.nn.functional as F\n",
    "from torchsummary import summary\n",
    "\n",
    "\n",
    "class StockCNNv1(nn.Module):\n",
    "    def __init__(self):\n",
    "        super().__init__()\n",
    "        self.conv1 = nn.Conv1d(2, 8, 3, padding=1)\n",
    "        self.pool = nn.MaxPool1d(2)\n",
    "        self.conv2 = nn.Conv1d(8, 16, 2, padding=1)\n",
    "        self.conv3 = nn.Conv1d(16, 32, 3, padding=1)\n",
    "        self.fc1 = nn.LazyLinear(64)\n",
    "        self.fc2 = nn.LazyLinear(16)\n",
    "        self.fc3 = nn.LazyLinear(2)\n",
    "        # self.softmax = nn.Softmax()\n",
    "\n",
    "    def forward(self, x):\n",
    "        x = self.pool(F.relu(self.conv1(x)))\n",
    "        x = self.pool(F.relu(self.conv2(x)))\n",
    "        x = self.pool(F.relu(self.conv3(x)))\n",
    "        x = torch.flatten(x, 1) # flatten all dimensions except batch\n",
    "        x = F.relu(self.fc1(x))\n",
    "        x = F.relu(self.fc2(x))\n",
    "        x = self.fc3(x)\n",
    "        # x = self.softmax(x)\n",
    "        return x\n",
    "\n",
    "\n",
    "torch_model = StockCNNv1()\n",
    "summary(torch_model, (2, 14))"
   ]
  },
  {
   "cell_type": "code",
   "execution_count": 54,
   "id": "55a02419",
   "metadata": {},
   "outputs": [
    {
     "name": "stdout",
     "output_type": "stream",
     "text": [
      "[1,   400] loss: 0.693 test acc: 0.490\n",
      "[1,   800] loss: 0.691 test acc: 0.490\n",
      "[1,  1200] loss: 0.693 test acc: 0.490\n",
      "[2,   400] loss: 0.691 test acc: 0.490\n",
      "[2,   800] loss: 0.693 test acc: 0.490\n",
      "[2,  1200] loss: 0.691 test acc: 0.490\n",
      "[3,   400] loss: 0.687 test acc: 0.490\n",
      "[3,   800] loss: 0.696 test acc: 0.490\n",
      "[3,  1200] loss: 0.692 test acc: 0.490\n",
      "[4,   400] loss: 0.695 test acc: 0.490\n",
      "[4,   800] loss: 0.690 test acc: 0.490\n",
      "[4,  1200] loss: 0.691 test acc: 0.490\n",
      "[5,   400] loss: 0.693 test acc: 0.490\n",
      "[5,   800] loss: 0.691 test acc: 0.490\n",
      "[5,  1200] loss: 0.693 test acc: 0.490\n",
      "[6,   400] loss: 0.690 test acc: 0.490\n",
      "[6,   800] loss: 0.692 test acc: 0.490\n",
      "[6,  1200] loss: 0.694 test acc: 0.490\n",
      "[7,   400] loss: 0.691 test acc: 0.490\n",
      "[7,   800] loss: 0.688 test acc: 0.490\n",
      "[7,  1200] loss: 0.694 test acc: 0.490\n",
      "[8,   400] loss: 0.693 test acc: 0.490\n",
      "[8,   800] loss: 0.692 test acc: 0.490\n",
      "[8,  1200] loss: 0.691 test acc: 0.490\n",
      "[9,   400] loss: 0.692 test acc: 0.490\n",
      "[9,   800] loss: 0.691 test acc: 0.490\n",
      "[9,  1200] loss: 0.693 test acc: 0.490\n",
      "[10,   400] loss: 0.694 test acc: 0.490\n",
      "[10,   800] loss: 0.690 test acc: 0.490\n",
      "[10,  1200] loss: 0.693 test acc: 0.490\n",
      "[11,   400] loss: 0.688 test acc: 0.490\n",
      "[11,   800] loss: 0.694 test acc: 0.490\n",
      "[11,  1200] loss: 0.694 test acc: 0.490\n"
     ]
    },
    {
     "data": {
      "image/png": "[encoded data removed]",
      "text/plain": [
       "<Figure size 640x480 with 1 Axes>"
      ]
     },
     "metadata": {},
     "output_type": "display_data"
    },
    {
     "name": "stdout",
     "output_type": "stream",
     "text": [
      "Finished Training\n"
     ]
    }
   ],
   "source": [
    "import torch.optim as optim\n",
    "\n",
    "criterion = nn.CrossEntropyLoss()\n",
    "optimizer = optim.SGD(torch_model.parameters(), lr=0.005, momentum=0.9)\n",
    "\n",
    "train_loss = []\n",
    "test_acc = []\n",
    "\n",
    "for epoch in range(10+1):  # loop over the dataset multiple times\n",
    "\n",
    "    running_loss = 0.0\n",
    "    for i, data in enumerate(train_dataloader, 0):\n",
    "        # get the inputs; data is a list of [inputs, labels]\n",
    "        inputs, labels = data\n",
    "\n",
    "        # zero the parameter gradients\n",
    "        optimizer.zero_grad()\n",
    "\n",
    "        # forward + backward + optimize\n",
    "        # outputs = model(inputs.reshape([inputs.shape[0], 2, 14]))\n",
    "        outputs = torch_model(inputs.reshape([inputs.shape[0], 2, 14]))\n",
    "#         print(outputs.shape, labels)\n",
    "        loss = criterion(outputs, labels)\n",
    "        loss.backward()\n",
    "        optimizer.step()\n",
    "\n",
    "        # print statistics\n",
    "        running_loss += loss.item()\n",
    "        step = 400\n",
    "        if i % step == step - 1: \n",
    "            print(f'[{epoch + 1}, {i + 1:5d}] loss: {running_loss / step:.3f} ', end='')\n",
    "            train_loss.append(running_loss / step)\n",
    "            running_loss = 0.0\n",
    "\n",
    "            with torch.no_grad():\n",
    "                predicred_true = 0\n",
    "                for i, data in enumerate(test_dataloader, 0):\n",
    "                    # get the inputs; data is a list of [inputs, labels]\n",
    "                    inputs, labels = data\n",
    "                    outputs = torch_model(inputs.reshape([inputs.shape[0], 2, 14]))\n",
    "                    predicred_true += int(sum(torch.argmax(outputs, dim=1) == labels.flatten()))\n",
    "\n",
    "                print(f\"test acc: {predicred_true/ len(test_dataloader.dataset):.3f}\")\n",
    "                test_acc.append(predicred_true/ len(test_dataloader.dataset))\n",
    "\n",
    "plt.plot(train_loss, label=\"train_loss\")\n",
    "plt.plot(test_acc, label=\"tes_acc\")\n",
    "plt.legend()\n",
    "plt.show()\n",
    "\n",
    "print('Finished Training')"
   ]
  },
  {
   "cell_type": "code",
   "execution_count": 61,
   "id": "f562954d",
   "metadata": {},
   "outputs": [],
   "source": [
    "class TorchModel:\n",
    "    def __init__(self, model):\n",
    "        self.model = model\n",
    "\n",
    "    def fit(self, x_data, y_data):\n",
    "        return self\n",
    "\n",
    "    def predict(self, data):\n",
    "        y_preds = None\n",
    "        with torch.inference_mode(): \n",
    "            y_preds = self.model(torch.tensor(np.array(data).astype(np.float32).reshape([data.shape[0], 2, 14]), dtype=torch.float))\n",
    "            y_preds = np.argmax(np.array(y_preds), axis=1)\n",
    "        return pd.DataFrame(y_preds)\n",
    "    \n",
    "    def score(self, x_data, y_data):\n",
    "        if len(y_data) != len(x_data):\n",
    "            raise Exception(\"Different data length\")\n",
    "        return sum(np.array(self.predict(x_data)).flatten() == np.array(y_data).flatten()) / len(y_data)"
   ]
  },
  {
   "cell_type": "code",
   "execution_count": 57,
   "id": "7337feff",
   "metadata": {},
   "outputs": [
    {
     "name": "stdout",
     "output_type": "stream",
     "text": [
      "Model earned 28195.33$ out of 492214245.89$ starting from 100000$ \n",
      "Train accuracy 0.54 \n",
      "Test accuracy  0.49\n"
     ]
    },
    {
     "name": "stderr",
     "output_type": "stream",
     "text": [
      "C:\\Users\\valer\\Desktop\\SPP\\SPP\\model\\../spp\\process.py:339: SettingWithCopyWarning: \n",
      "A value is trying to be set on a copy of a slice from a DataFrame.\n",
      "Try using .loc[row_indexer,col_indexer] = value instead\n",
      "\n",
      "See the caveats in the documentation: https://pandas.pydata.org/pandas-docs/stable/user_guide/indexing.html#returning-a-view-versus-a-copy\n",
      "  df[\"Price_True\"] = self.true_price_keeper[train_test_id].to_numpy()\n"
     ]
    },
    {
     "data": {
      "image/png": "[encoded data removed]",
      "text/plain": [
       "<Figure size 640x480 with 2 Axes>"
      ]
     },
     "metadata": {},
     "output_type": "display_data"
    }
   ],
   "source": [
    "model = TorchModel(torch_model)\n",
    "y_train_pred_bin = model.predict(X_train)\n",
    "y_test_pred_bin = model.predict(X_test)\n",
    "\n",
    "df = def_pipe.get_test_price(y_test_pred_bin)  # ! Prediction_ExpProf will not be corret as we \n",
    "                                               # ! proposed bin not price\n",
    "\n",
    "start_capital = 100000\n",
    "tt = market.BinTraderTest(start_capital, y_test_pred_bin, df[\"Price_True\"])\n",
    "bt = market.BinTraderTest(start_capital, y_test, df[\"Price_True\"])\n",
    "traded_capital = tt.trade()\n",
    "maximal_caital = bt.trade()\n",
    "print(f\"Model earned {(traded_capital):.2f}$ out of {maximal_caital:.2f}$ starting from {start_capital}$ \")\n",
    "\n",
    "print(f\"Train accuracy {model.score(X_train, y_train):.2f} \\nTest accuracy  {model.score(X_test, y_test):.2f}\")\n",
    "\n",
    "_ = ConfusionMatrixDisplay.from_predictions(y_test, y_test_pred_bin)"
   ]
  },
  {
   "cell_type": "markdown",
   "id": "dcb6cdd1",
   "metadata": {},
   "source": [
    "## Corruption research"
   ]
  },
  {
   "cell_type": "code",
   "execution_count": 81,
   "id": "d0bf2be5",
   "metadata": {},
   "outputs": [
    {
     "name": "stdout",
     "output_type": "stream",
     "text": [
      "Corruption: 0.50, thr: 0.5\n",
      "Corruption: 0.49, thr: 0.6\n",
      "Corruption: 0.49, thr: 0.7\n",
      "Corruption: 0.44, thr: 0.8\n",
      "Corruption: 0.27, thr: 0.9\n"
     ]
    },
    {
     "data": {
      "text/plain": [
       "[<matplotlib.lines.Line2D at 0x219a209a650>]"
      ]
     },
     "execution_count": 81,
     "metadata": {},
     "output_type": "execute_result"
    },
    {
     "data": {
      "image/png": "[encoded data removed]",
      "text/plain": [
       "<Figure size 640x480 with 1 Axes>"
      ]
     },
     "metadata": {},
     "output_type": "display_data"
    }
   ],
   "source": [
    "thresholds = [i / 10 for i in range(5, 10)]\n",
    "window_size = 15\n",
    "\n",
    "corruptions = []\n",
    "\n",
    "for threshold in thresholds:\n",
    "    y_train_close = y_train.reset_index(drop=True)\n",
    "\n",
    "    X_train_close = X_train.drop(columns=[f\"RSI_{i}\" for i in range(window_size-1)]).reset_index(drop=True)\n",
    "    X_train_close_tmp = X_train_close.transpose().corr().abs()\n",
    "    X_train_close_tmp[X_train_close_tmp > threshold] = 1\n",
    "    X_train_close_tmp[X_train_close_tmp <= threshold] = 0\n",
    "\n",
    "    X_np = X_train_close_tmp.to_numpy()\n",
    "    y_np = y_train_close.to_numpy().squeeze()\n",
    "\n",
    "    false_correlated = sum(map(lambda x: int(y_np[x[0]] != y_np[x[1]]), zip(*np.where(X_np > threshold))))\n",
    "    \n",
    "    corruptions.append(( false_correlated / (np.count_nonzero(X_np) - len(y_np)))) \n",
    "    print(f\"Corruption: {( false_correlated / (np.count_nonzero(X_np) - len(y_np))):.2f}, thr: {threshold}\")\n",
    "\n",
    "plt.plot(thresholds, corruptions)"
   ]
  },
  {
   "cell_type": "markdown",
   "id": "10cf049e",
   "metadata": {},
   "source": [
    "## Data improve"
   ]
  },
  {
   "cell_type": "code",
   "execution_count": 1,
   "id": "cbc5a399",
   "metadata": {},
   "outputs": [],
   "source": [
    "import sys\n",
    "sys.path.append('../spp')\n",
    "\n",
    "import process\n",
    "import market\n",
    "import numpy as np\n",
    "import pandas as pd\n",
    "import math\n",
    "from sklearn.linear_model import LogisticRegression\n",
    "from sklearn.metrics import ConfusionMatrixDisplay\n",
    "import matplotlib.pyplot as plt\n",
    "from tqdm import tqdm\n",
    "\n",
    "from process import *\n",
    "\n",
    "def TempTrainValidTestStage(valid=0.2, test=0.2):\n",
    "    \"\"\"\n",
    "    Stage\n",
    "    foreach append train & valid & test datasets instead\n",
    "    \"\"\"\n",
    "    def _trainvalidtest_stage(dataframe_list: list):\n",
    "        new_dataframe_list = []\n",
    "        for i, dataframe in enumerate(dataframe_list):\n",
    "            train_count = round((1. - test - valid) * len(dataframe))\n",
    "            valid_count = round(valid * len(dataframe))\n",
    "#             print(train_count, valid_count, len(dataframe))\n",
    "            new_dataframe_list.append(dataframe[:train_count])\n",
    "            new_dataframe_list.append(dataframe[train_count:train_count+valid_count])\n",
    "            new_dataframe_list.append(dataframe[train_count+valid_count:])\n",
    "        print(len(new_dataframe_list))\n",
    "        return new_dataframe_list\n",
    "    return _trainvalidtest_stage\n",
    "\n",
    "def TempTargetsSeparateStage(target_names=[\"Target\"]):\n",
    "    \"\"\"\n",
    "    Stage\n",
    "    foreach take out 'target_names' and append it as another dataset\n",
    "    \"\"\"\n",
    "    def _targetsseparate_stage(dataframe_list: list):\n",
    "        new_dataframe_list = []\n",
    "        for i, dataframe in enumerate(dataframe_list):\n",
    "            columns_to_keep = [col for col in dataframe.columns if col not in target_names]\n",
    "            print(target_names)\n",
    "            new_dataframe_list.append(dataframe[columns_to_keep])\n",
    "            new_dataframe_list.append(dataframe[target_names])\n",
    "            print(len(new_dataframe_list), dataframe[columns_to_keep].shape, dataframe[target_names].shape)\n",
    "        return new_dataframe_list\n",
    "    return _targetsseparate_stage\n",
    "\n",
    "class HistBinPipeline(DefaultPipeline):        \n",
    "    def _stages(self):\n",
    "        stages=[\n",
    "            # Open processing\n",
    "            DivStage(\"Open\", \"Close\", \"Open_Rel\"),\n",
    "            DropStage([\"Open\"]),\n",
    "            # High processing\n",
    "            DivStage(\"High\", \"Close\", \"High_Rel\"),\n",
    "            DropStage([\"High\"]),\n",
    "            # Low processing\n",
    "            DivStage(\"Low\", \"Close\", \"Low_Rel\"),\n",
    "            DropStage([\"Low\"]),\n",
    "            # AdjClose processing\n",
    "            DropStage([\"Adj Close\"]),\n",
    "            # Volume processing\n",
    "            DropStage([\"Volume\"]),\n",
    "            \n",
    "            # RSI\n",
    "            RSIColStage(\"Close\"),\n",
    "            \n",
    "            LnProfStage(\"Close\"),\n",
    "            WindowStage(self.window_size),\n",
    "            TargetStage(f\"Close_LnProf_{self.window_size-1}\"),\n",
    "\n",
    "            BinarizeStage(0., \"Target\"),\n",
    "            DropStage([\"Target\"]),\n",
    "            TargetStage(\"Target_Bin\"),\n",
    "            \n",
    "            DropStage([f\"Open_Rel_{self.window_size-1}\"]),\n",
    "            DropStage([f\"High_Rel_{self.window_size-1}\"]),\n",
    "            DropStage([f\"Low_Rel_{self.window_size-1}\"]),\n",
    "\n",
    "            DropStage([f\"Close_{i}\" for i in range(self.window_size-2)]),\n",
    "            DropStage([f\"RSI_{self.window_size-1}\"]),\n",
    "            \n",
    "            TempTrainValidTestStage(valid=self.test_coef,test=self.test_coef),\n",
    "#             TrainTestStage(test=self.test_coef),\n",
    "            \n",
    "            PopStage([f\"Close_{self.window_size-2}\"], self.prev_price_keeper),\n",
    "            PopStage([f\"Close_{self.window_size-1}\"], self.true_price_keeper),\n",
    "            TempTargetsSeparateStage(),\n",
    "        ]\n",
    "        return stages\n"
   ]
  },
  {
   "cell_type": "code",
   "execution_count": 53,
   "id": "4d8408a9",
   "metadata": {},
   "outputs": [
    {
     "name": "stdout",
     "output_type": "stream",
     "text": [
      "[*********************100%***********************]  1 of 1 completed\n",
      "PREP: 1 <function DivStage.<locals>._div_stage at 0x000002468303A4D0>\n",
      "PREP: 1 <function DropStage.<locals>._drop_stage at 0x000002468303A0E0>\n",
      "PREP: 1 <function DivStage.<locals>._div_stage at 0x000002468303A680>\n",
      "PREP: 1 <function DropStage.<locals>._drop_stage at 0x000002468303A7A0>\n",
      "PREP: 1 <function DivStage.<locals>._div_stage at 0x000002468303A710>\n",
      "PREP: 1 <function DropStage.<locals>._drop_stage at 0x000002468303A200>\n",
      "PREP: 1 <function DropStage.<locals>._drop_stage at 0x000002468303A950>\n",
      "PREP: 1 <function DropStage.<locals>._drop_stage at 0x000002468303A290>\n",
      "PREP: 1 <function RSIColStage.<locals>._rsicol_stage at 0x000002468303A9E0>\n",
      "PREP: 1 <function LnProfStage.<locals>._lnprof_stage at 0x000002468303A8C0>\n",
      "PREP: 1 <function WindowStage.<locals>._window_stage at 0x000002468303AB90>\n",
      "PREP: 1 <function TargetStage.<locals>._target_stage at 0x000002468303ACB0>\n",
      "PREP: 1 <function BinarizeStage.<locals>._binarize_stage at 0x000002468303AB00>\n",
      "PREP: 1 <function DropStage.<locals>._drop_stage at 0x000002468303A320>\n",
      "PREP: 1 <function TargetStage.<locals>._target_stage at 0x000002468303A3B0>\n",
      "PREP: 1 <function DropStage.<locals>._drop_stage at 0x000002468303AC20>\n",
      "PREP: 1 <function DropStage.<locals>._drop_stage at 0x000002468303A830>\n",
      "PREP: 1 <function DropStage.<locals>._drop_stage at 0x000002468303A170>\n",
      "PREP: 1 <function DropStage.<locals>._drop_stage at 0x000002468303AD40>\n",
      "PREP: 1 <function DropStage.<locals>._drop_stage at 0x000002468303ADD0>\n",
      "3\n",
      "PREP: 3 <function TempTrainValidTestStage.<locals>._trainvalidtest_stage at 0x000002468303AE60>\n",
      "PREP: 3 <function PopStage.<locals>._pop_stage at 0x000002468303AEF0>\n",
      "PREP: 3 <function PopStage.<locals>._pop_stage at 0x000002468303AF80>\n",
      "['Target']\n",
      "2 (249, 70) (249, 1)\n",
      "['Target']\n",
      "4 (498, 70) (498, 1)\n",
      "['Target']\n",
      "6 (497, 70) (497, 1)\n",
      "PREP: 6 <function TempTargetsSeparateStage.<locals>._targetsseparate_stage at 0x000002468303B010>\n",
      "HHHHHHHHHHHHHHHHHHHHHH 6\n",
      "(249, 70)\n",
      "(249, 1)\n",
      "(498, 70)\n",
      "(498, 1)\n",
      "(497, 70)\n",
      "(497, 1)\n"
     ]
    }
   ],
   "source": [
    "tickers = [\"TSLA\"]#, \"AAPL\", \"MSFT\", \"AMZN\", \"GOOGL\"]\n",
    "# CNN model won't be re-learned foreach case separately, so,\n",
    "# it should know the year test data\n",
    "# For \"5y\" test_coef is 0.22\n",
    "window_size = 15\n",
    "\n",
    "def_pipe = HistBinPipeline(tickers, period=\"5y\", test_coef=2/5, window_size=window_size)\n",
    "datas = def_pipe.get_data()\n",
    "for item in datas:\n",
    "    print(item.shape)"
   ]
  },
  {
   "cell_type": "code",
   "execution_count": 3,
   "id": "af4eac5d",
   "metadata": {},
   "outputs": [],
   "source": [
    "import datetime"
   ]
  },
  {
   "cell_type": "code",
   "execution_count": 4,
   "id": "e1a0b615",
   "metadata": {},
   "outputs": [
    {
     "data": {
      "text/plain": [
       "'2023-05-14'"
      ]
     },
     "execution_count": 4,
     "metadata": {},
     "output_type": "execute_result"
    }
   ],
   "source": [
    "datetime.datetime.now().date().__str__()"
   ]
  },
  {
   "cell_type": "code",
   "execution_count": 35,
   "id": "98cf8653",
   "metadata": {},
   "outputs": [
    {
     "name": "stdout",
     "output_type": "stream",
     "text": [
      "Corruption: 0.00, thr: 0.5\n",
      "Corruption: 0.00, thr: 0.6\n"
     ]
    },
    {
     "ename": "ZeroDivisionError",
     "evalue": "division by zero",
     "output_type": "error",
     "traceback": [
      "\u001b[1;31m---------------------------------------------------------------------------\u001b[0m",
      "\u001b[1;31mZeroDivisionError\u001b[0m                         Traceback (most recent call last)",
      "Cell \u001b[1;32mIn[35], line 27\u001b[0m\n\u001b[0;32m     23\u001b[0m     X_np \u001b[38;5;241m=\u001b[39m (X_open \u001b[38;5;241m+\u001b[39m X_lnclose \u001b[38;5;241m+\u001b[39m X_high \u001b[38;5;241m+\u001b[39m X_low)\u001b[38;5;241m.\u001b[39mto_numpy()\n\u001b[0;32m     25\u001b[0m     false_correlated \u001b[38;5;241m=\u001b[39m \u001b[38;5;28msum\u001b[39m(\u001b[38;5;28mmap\u001b[39m(\u001b[38;5;28;01mlambda\u001b[39;00m x: \u001b[38;5;28mint\u001b[39m(y_np[x[\u001b[38;5;241m0\u001b[39m]] \u001b[38;5;241m!=\u001b[39m y_np[x[\u001b[38;5;241m1\u001b[39m]]), \u001b[38;5;28mzip\u001b[39m(\u001b[38;5;241m*\u001b[39mnp\u001b[38;5;241m.\u001b[39mwhere(X_np \u001b[38;5;241m>\u001b[39m parts))))\n\u001b[1;32m---> 27\u001b[0m     corruptions\u001b[38;5;241m.\u001b[39mappend( \u001b[43mfalse_correlated\u001b[49m\u001b[43m \u001b[49m\u001b[38;5;241;43m/\u001b[39;49m\u001b[43m \u001b[49m\u001b[43m(\u001b[49m\u001b[43mnp\u001b[49m\u001b[38;5;241;43m.\u001b[39;49m\u001b[43mcount_nonzero\u001b[49m\u001b[43m(\u001b[49m\u001b[43mX_np\u001b[49m\u001b[43m)\u001b[49m\u001b[43m \u001b[49m\u001b[38;5;241;43m-\u001b[39;49m\u001b[43m \u001b[49m\u001b[38;5;28;43mlen\u001b[39;49m\u001b[43m(\u001b[49m\u001b[43my_np\u001b[49m\u001b[43m)\u001b[49m\u001b[43m)\u001b[49m ) \n\u001b[0;32m     28\u001b[0m     \u001b[38;5;28mprint\u001b[39m(\u001b[38;5;124mf\u001b[39m\u001b[38;5;124m\"\u001b[39m\u001b[38;5;124mCorruption: \u001b[39m\u001b[38;5;132;01m{\u001b[39;00m(\u001b[38;5;250m \u001b[39mfalse_correlated\u001b[38;5;250m \u001b[39m\u001b[38;5;241m/\u001b[39m\u001b[38;5;250m \u001b[39m(np\u001b[38;5;241m.\u001b[39mcount_nonzero(X_np)\u001b[38;5;250m \u001b[39m\u001b[38;5;241m-\u001b[39m\u001b[38;5;250m \u001b[39m\u001b[38;5;28mlen\u001b[39m(y_np)))\u001b[38;5;132;01m:\u001b[39;00m\u001b[38;5;124m.2f\u001b[39m\u001b[38;5;132;01m}\u001b[39;00m\u001b[38;5;124m, thr: \u001b[39m\u001b[38;5;132;01m{\u001b[39;00mthreshold\u001b[38;5;132;01m}\u001b[39;00m\u001b[38;5;124m\"\u001b[39m)\n\u001b[0;32m     31\u001b[0m plt\u001b[38;5;241m.\u001b[39mplot(thresholds, corruptions)\n",
      "\u001b[1;31mZeroDivisionError\u001b[0m: division by zero"
     ]
    }
   ],
   "source": [
    "thresholds = [i / 10 for i in range(5, 10)]\n",
    "\n",
    "corruptions = []\n",
    "\n",
    "def threshold_corr(dataset, name_prefix, threshold, window_size):\n",
    "    X_1 = dataset[[f\"{name_prefix}_{i}\" for i in range(window_size-1)]].reset_index(drop=True)\n",
    "    X_1 = X_1.transpose().corr().abs()\n",
    "    X_1[X_1 > threshold] = 1\n",
    "    X_1[X_1 <= threshold] = 0\n",
    "    return X_1\n",
    "\n",
    "y_train_close = y_train.reset_index(drop=True)\n",
    "y_np = y_train_close.to_numpy().squeeze()\n",
    "\n",
    "for threshold in thresholds:\n",
    "    \n",
    "    X_open = threshold_corr(X_train, \"Open_Rel\", threshold, window_size)\n",
    "    X_lnclose = threshold_corr(X_train, \"Close_LnProf\", threshold, window_size)\n",
    "    X_high = threshold_corr(X_train, \"High_Rel\", threshold, window_size)\n",
    "    X_low = threshold_corr(X_train, \"Low_Rel\", threshold, window_size)\n",
    "    parts = 4. - 0.5\n",
    "\n",
    "    X_np = (X_open + X_lnclose + X_high + X_low).to_numpy()\n",
    "\n",
    "    false_correlated = sum(map(lambda x: int(y_np[x[0]] != y_np[x[1]]), zip(*np.where(X_np > parts))))\n",
    "    \n",
    "    corruptions.append( false_correlated / (np.count_nonzero(X_np) - len(y_np)) ) \n",
    "    print(f\"Corruption: {( false_correlated / (np.count_nonzero(X_np) - len(y_np))):.2f}, thr: {threshold}\")\n",
    "\n",
    "   \n",
    "plt.plot(thresholds, corruptions)"
   ]
  },
  {
   "cell_type": "code",
   "execution_count": 451,
   "id": "6da9e698",
   "metadata": {},
   "outputs": [
    {
     "name": "stdout",
     "output_type": "stream",
     "text": [
      "[5,     2] loss: 0.040 | test acc: 0.562 | train acc 1.000"
     ]
    },
    {
     "data": {
      "image/png": "[encoded data removed]",
      "text/plain": [
       "<Figure size 640x480 with 1 Axes>"
      ]
     },
     "metadata": {},
     "output_type": "display_data"
    },
    {
     "name": "stdout",
     "output_type": "stream",
     "text": [
      "Finished Training\n"
     ]
    }
   ],
   "source": [
    "\n",
    "for epoch in range(5):  # loop over the dataset multiple times\n",
    "\n",
    "    running_loss = 0.0\n",
    "    for i, data in enumerate(train_dataloader, 0):\n",
    "        # get the inputs; data is a list of [inputs, labels]\n",
    "        inputs, labels = data\n",
    "\n",
    "        # zero the parameter gradients\n",
    "        optimizer.zero_grad()\n",
    "\n",
    "        # forward + backward + optimize\n",
    "        # outputs = model(inputs.reshape([inputs.shape[0], 2, 14]))\n",
    "        outputs = torch_model(inputs.reshape([inputs.shape[0], CHANNELS, 14]))\n",
    "#         print(outputs.shape, labels)\n",
    "        loss = criterion(outputs, labels)\n",
    "        loss.backward()\n",
    "        optimizer.step()\n",
    "\n",
    "        # print statistics\n",
    "        running_loss += loss.item()\n",
    "        step = len(train_dataloader)\n",
    "        if i % step == step - 1: \n",
    "            \n",
    "            with torch.no_grad():\n",
    "                predicred_true = 0\n",
    "                for i, data in enumerate(train_dataloader, 0):\n",
    "                    # get the inputs; data is a list of [inputs, labels]\n",
    "                    inputs, labels = data\n",
    "                    outputs = torch_model(inputs.reshape([inputs.shape[0], CHANNELS, 14]))\n",
    "                    predicred_true += int(sum(torch.argmax(outputs, dim=1) == labels.flatten()))\n",
    "\n",
    "#                 print(f\"test acc: {predicred_true/ len(test_dataloader.dataset):.3f}\", end=\"\")\n",
    "                train_loss.append(predicred_true/ len(train_dataloader.dataset))\n",
    "#             train_loss.append(running_loss / step)\n",
    "\n",
    "            with torch.no_grad():\n",
    "                predicred_true = 0\n",
    "                for i, data in enumerate(test_dataloader, 0):\n",
    "                    # get the inputs; data is a list of [inputs, labels]\n",
    "                    inputs, labels = data\n",
    "                    outputs = torch_model(inputs.reshape([inputs.shape[0], CHANNELS, 14]))\n",
    "#                     print(\"Output\", outputs)\n",
    "#                     print(\"Output\", torch.argmax(outputs, dim=1))\n",
    "#                     print(\"labels\", labels)\n",
    "                    predicred_true += int(sum(torch.argmax(outputs, dim=1) == labels.flatten()))\n",
    "\n",
    "#                 print(f\"test acc: {predicred_true/ len(test_dataloader.dataset):.3f}\", end=\"\")\n",
    "                test_acc.append(predicred_true/ len(test_dataloader.dataset))\n",
    "            print(f'\\r[{epoch + 1}, {i + 1:5d}] loss: {running_loss / step:.3f} | test acc: {predicred_true/ len(test_dataloader.dataset):.3f} | train acc {train_loss[-1]:.3f}', end='', flush=True)\n",
    "            running_loss = 0.0\n",
    "            \n",
    "            if predicred_true / len(test_dataloader.dataset) > best_acc:\n",
    "                best_model = copy.deepcopy(torch_model)\n",
    "                best_acc = predicred_true/ len(test_dataloader.dataset)\n",
    "                \n",
    "plt.plot(train_loss, label=\"train_acc\")\n",
    "plt.plot(test_acc, label=\"test_acc\")\n",
    "plt.legend()\n",
    "plt.grid(True)\n",
    "plt.show()\n",
    "\n",
    "print('Finished Training')"
   ]
  },
  {
   "cell_type": "code",
   "execution_count": 54,
   "id": "d65116d4",
   "metadata": {},
   "outputs": [
    {
     "name": "stdout",
     "output_type": "stream",
     "text": [
      "[*********************100%***********************]  1 of 1 completed\n",
      "PREP: 1 <function DivStage.<locals>._div_stage at 0x000002468316FBE0>\n",
      "PREP: 1 <function DropStage.<locals>._drop_stage at 0x00000246FFDC44C0>\n",
      "PREP: 1 <function DivStage.<locals>._div_stage at 0x000002468303A4D0>\n",
      "PREP: 1 <function DropStage.<locals>._drop_stage at 0x000002468303A0E0>\n",
      "PREP: 1 <function DivStage.<locals>._div_stage at 0x000002468303A680>\n",
      "PREP: 1 <function DropStage.<locals>._drop_stage at 0x000002468303A7A0>\n",
      "PREP: 1 <function DropStage.<locals>._drop_stage at 0x000002468303A710>\n",
      "PREP: 1 <function DropStage.<locals>._drop_stage at 0x000002468303A200>\n",
      "PREP: 1 <function RSIColStage.<locals>._rsicol_stage at 0x000002468303A950>\n",
      "PREP: 1 <function LnProfStage.<locals>._lnprof_stage at 0x000002468303A290>\n",
      "PREP: 1 <function WindowStage.<locals>._window_stage at 0x000002468303A9E0>\n",
      "PREP: 1 <function TargetStage.<locals>._target_stage at 0x000002468303A8C0>\n",
      "PREP: 1 <function BinarizeStage.<locals>._binarize_stage at 0x000002468303AB90>\n",
      "PREP: 1 <function DropStage.<locals>._drop_stage at 0x000002468303ACB0>\n",
      "PREP: 1 <function TargetStage.<locals>._target_stage at 0x000002468303AB00>\n",
      "PREP: 1 <function DropStage.<locals>._drop_stage at 0x000002468303A320>\n",
      "PREP: 1 <function DropStage.<locals>._drop_stage at 0x000002468303A3B0>\n",
      "PREP: 1 <function DropStage.<locals>._drop_stage at 0x000002468303AC20>\n",
      "PREP: 1 <function DropStage.<locals>._drop_stage at 0x000002468303A830>\n",
      "PREP: 1 <function DropStage.<locals>._drop_stage at 0x000002468303A170>\n",
      "3\n",
      "PREP: 3 <function TempTrainValidTestStage.<locals>._trainvalidtest_stage at 0x000002468303AD40>\n",
      "PREP: 3 <function PopStage.<locals>._pop_stage at 0x000002468303ADD0>\n",
      "PREP: 3 <function PopStage.<locals>._pop_stage at 0x000002468303AE60>\n",
      "['Target']\n",
      "2 (197, 70) (197, 1)\n",
      "['Target']\n",
      "4 (20, 70) (20, 1)\n",
      "['Target']\n",
      "6 (19, 70) (19, 1)\n",
      "PREP: 6 <function TempTargetsSeparateStage.<locals>._targetsseparate_stage at 0x000002468303AEF0>\n",
      "HHHHHHHHHHHHHHHHHHHHHH 6\n"
     ]
    }
   ],
   "source": [
    "tickers = [\"TSLA\"]#, \"AAPL\", \"MSFT\", \"AMZN\", \"GOOGL\"]\n",
    "# CNN model won't be re-learned foreach case separately, so,\n",
    "# it should know the year test data\n",
    "# For \"5y\" test_coef is 0.22\n",
    "window_size = 15\n",
    "\n",
    "def_pipe = HistBinPipeline(tickers, period=\"1y\", test_coef=1/12, window_size=window_size)\n",
    "X_train, y_train, X_valid, y_valid, X_test, y_test = def_pipe.get_data()"
   ]
  },
  {
   "cell_type": "code",
   "execution_count": 55,
   "id": "d218252a",
   "metadata": {},
   "outputs": [
    {
     "data": {
      "text/plain": [
       "(192, 16, 16)"
      ]
     },
     "execution_count": 55,
     "metadata": {},
     "output_type": "execute_result"
    }
   ],
   "source": [
    "X_train = X_train[:len(X_train) // 8 * 8]\n",
    "X_valid = X_valid[:len(X_valid) // 8 * 8]\n",
    "X_test = X_test[:len(X_test) // 8 * 8]\n",
    "\n",
    "y_train = y_train[:len(y_train) // 8 * 8]\n",
    "y_valid = y_valid[:len(y_valid) // 8 * 8]\n",
    "y_test = y_test[:len(y_test) // 8 * 8]\n",
    "\n",
    "len(X_train), len(X_valid), len(X_test)"
   ]
  },
  {
   "cell_type": "code",
   "execution_count": 56,
   "id": "46a46073",
   "metadata": {},
   "outputs": [
    {
     "name": "stdout",
     "output_type": "stream",
     "text": [
      "<class 'pandas.core.frame.DataFrame'>\n",
      "RangeIndex: 192 entries, 0 to 191\n",
      "Data columns (total 70 columns):\n",
      " #   Column           Non-Null Count  Dtype  \n",
      "---  ------           --------------  -----  \n",
      " 0   Open_Rel_0       192 non-null    float64\n",
      " 1   Open_Rel_1       192 non-null    float64\n",
      " 2   Open_Rel_2       192 non-null    float64\n",
      " 3   Open_Rel_3       192 non-null    float64\n",
      " 4   Open_Rel_4       192 non-null    float64\n",
      " 5   Open_Rel_5       192 non-null    float64\n",
      " 6   Open_Rel_6       192 non-null    float64\n",
      " 7   Open_Rel_7       192 non-null    float64\n",
      " 8   Open_Rel_8       192 non-null    float64\n",
      " 9   Open_Rel_9       192 non-null    float64\n",
      " 10  Open_Rel_10      192 non-null    float64\n",
      " 11  Open_Rel_11      192 non-null    float64\n",
      " 12  Open_Rel_12      192 non-null    float64\n",
      " 13  Open_Rel_13      192 non-null    float64\n",
      " 14  High_Rel_0       192 non-null    float64\n",
      " 15  High_Rel_1       192 non-null    float64\n",
      " 16  High_Rel_2       192 non-null    float64\n",
      " 17  High_Rel_3       192 non-null    float64\n",
      " 18  High_Rel_4       192 non-null    float64\n",
      " 19  High_Rel_5       192 non-null    float64\n",
      " 20  High_Rel_6       192 non-null    float64\n",
      " 21  High_Rel_7       192 non-null    float64\n",
      " 22  High_Rel_8       192 non-null    float64\n",
      " 23  High_Rel_9       192 non-null    float64\n",
      " 24  High_Rel_10      192 non-null    float64\n",
      " 25  High_Rel_11      192 non-null    float64\n",
      " 26  High_Rel_12      192 non-null    float64\n",
      " 27  High_Rel_13      192 non-null    float64\n",
      " 28  Low_Rel_0        192 non-null    float64\n",
      " 29  Low_Rel_1        192 non-null    float64\n",
      " 30  Low_Rel_2        192 non-null    float64\n",
      " 31  Low_Rel_3        192 non-null    float64\n",
      " 32  Low_Rel_4        192 non-null    float64\n",
      " 33  Low_Rel_5        192 non-null    float64\n",
      " 34  Low_Rel_6        192 non-null    float64\n",
      " 35  Low_Rel_7        192 non-null    float64\n",
      " 36  Low_Rel_8        192 non-null    float64\n",
      " 37  Low_Rel_9        192 non-null    float64\n",
      " 38  Low_Rel_10       192 non-null    float64\n",
      " 39  Low_Rel_11       192 non-null    float64\n",
      " 40  Low_Rel_12       192 non-null    float64\n",
      " 41  Low_Rel_13       192 non-null    float64\n",
      " 42  RSI_0            192 non-null    float64\n",
      " 43  RSI_1            192 non-null    float64\n",
      " 44  RSI_2            192 non-null    float64\n",
      " 45  RSI_3            192 non-null    float64\n",
      " 46  RSI_4            192 non-null    float64\n",
      " 47  RSI_5            192 non-null    float64\n",
      " 48  RSI_6            192 non-null    float64\n",
      " 49  RSI_7            192 non-null    float64\n",
      " 50  RSI_8            192 non-null    float64\n",
      " 51  RSI_9            192 non-null    float64\n",
      " 52  RSI_10           192 non-null    float64\n",
      " 53  RSI_11           192 non-null    float64\n",
      " 54  RSI_12           192 non-null    float64\n",
      " 55  RSI_13           192 non-null    float64\n",
      " 56  Close_LnProf_0   192 non-null    float64\n",
      " 57  Close_LnProf_1   192 non-null    float64\n",
      " 58  Close_LnProf_2   192 non-null    float64\n",
      " 59  Close_LnProf_3   192 non-null    float64\n",
      " 60  Close_LnProf_4   192 non-null    float64\n",
      " 61  Close_LnProf_5   192 non-null    float64\n",
      " 62  Close_LnProf_6   192 non-null    float64\n",
      " 63  Close_LnProf_7   192 non-null    float64\n",
      " 64  Close_LnProf_8   192 non-null    float64\n",
      " 65  Close_LnProf_9   192 non-null    float64\n",
      " 66  Close_LnProf_10  192 non-null    float64\n",
      " 67  Close_LnProf_11  192 non-null    float64\n",
      " 68  Close_LnProf_12  192 non-null    float64\n",
      " 69  Close_LnProf_13  192 non-null    float64\n",
      "dtypes: float64(70)\n",
      "memory usage: 105.1 KB\n"
     ]
    }
   ],
   "source": [
    "X_train.info()"
   ]
  },
  {
   "cell_type": "code",
   "execution_count": 57,
   "id": "a37b845a",
   "metadata": {},
   "outputs": [
    {
     "data": {
      "text/html": [
       "<div>\n",
       "<style scoped>\n",
       "    .dataframe tbody tr th:only-of-type {\n",
       "        vertical-align: middle;\n",
       "    }\n",
       "\n",
       "    .dataframe tbody tr th {\n",
       "        vertical-align: top;\n",
       "    }\n",
       "\n",
       "    .dataframe thead th {\n",
       "        text-align: right;\n",
       "    }\n",
       "</style>\n",
       "<table border=\"1\" class=\"dataframe\">\n",
       "  <thead>\n",
       "    <tr style=\"text-align: right;\">\n",
       "      <th></th>\n",
       "      <th>RSI_0</th>\n",
       "      <th>RSI_1</th>\n",
       "      <th>RSI_2</th>\n",
       "      <th>RSI_3</th>\n",
       "      <th>RSI_4</th>\n",
       "      <th>RSI_5</th>\n",
       "      <th>RSI_6</th>\n",
       "      <th>RSI_7</th>\n",
       "      <th>RSI_8</th>\n",
       "      <th>RSI_9</th>\n",
       "      <th>RSI_10</th>\n",
       "      <th>RSI_11</th>\n",
       "      <th>RSI_12</th>\n",
       "      <th>RSI_13</th>\n",
       "    </tr>\n",
       "  </thead>\n",
       "  <tbody>\n",
       "    <tr>\n",
       "      <th>0</th>\n",
       "      <td>0.000000</td>\n",
       "      <td>0.470024</td>\n",
       "      <td>0.275822</td>\n",
       "      <td>0.274901</td>\n",
       "      <td>0.193635</td>\n",
       "      <td>0.251239</td>\n",
       "      <td>0.189344</td>\n",
       "      <td>0.309446</td>\n",
       "      <td>0.449665</td>\n",
       "      <td>0.553280</td>\n",
       "      <td>0.550335</td>\n",
       "      <td>0.512003</td>\n",
       "      <td>0.573875</td>\n",
       "      <td>0.447739</td>\n",
       "    </tr>\n",
       "    <tr>\n",
       "      <th>1</th>\n",
       "      <td>0.470024</td>\n",
       "      <td>0.275822</td>\n",
       "      <td>0.274901</td>\n",
       "      <td>0.193635</td>\n",
       "      <td>0.251239</td>\n",
       "      <td>0.189344</td>\n",
       "      <td>0.309446</td>\n",
       "      <td>0.449665</td>\n",
       "      <td>0.553280</td>\n",
       "      <td>0.550335</td>\n",
       "      <td>0.512003</td>\n",
       "      <td>0.573875</td>\n",
       "      <td>0.447739</td>\n",
       "      <td>0.467650</td>\n",
       "    </tr>\n",
       "    <tr>\n",
       "      <th>2</th>\n",
       "      <td>0.275822</td>\n",
       "      <td>0.274901</td>\n",
       "      <td>0.193635</td>\n",
       "      <td>0.251239</td>\n",
       "      <td>0.189344</td>\n",
       "      <td>0.309446</td>\n",
       "      <td>0.449665</td>\n",
       "      <td>0.553280</td>\n",
       "      <td>0.550335</td>\n",
       "      <td>0.512003</td>\n",
       "      <td>0.573875</td>\n",
       "      <td>0.447739</td>\n",
       "      <td>0.467650</td>\n",
       "      <td>0.470961</td>\n",
       "    </tr>\n",
       "    <tr>\n",
       "      <th>3</th>\n",
       "      <td>0.274901</td>\n",
       "      <td>0.193635</td>\n",
       "      <td>0.251239</td>\n",
       "      <td>0.189344</td>\n",
       "      <td>0.309446</td>\n",
       "      <td>0.449665</td>\n",
       "      <td>0.553280</td>\n",
       "      <td>0.550335</td>\n",
       "      <td>0.512003</td>\n",
       "      <td>0.573875</td>\n",
       "      <td>0.447739</td>\n",
       "      <td>0.467650</td>\n",
       "      <td>0.470961</td>\n",
       "      <td>0.487815</td>\n",
       "    </tr>\n",
       "    <tr>\n",
       "      <th>4</th>\n",
       "      <td>0.193635</td>\n",
       "      <td>0.251239</td>\n",
       "      <td>0.189344</td>\n",
       "      <td>0.309446</td>\n",
       "      <td>0.449665</td>\n",
       "      <td>0.553280</td>\n",
       "      <td>0.550335</td>\n",
       "      <td>0.512003</td>\n",
       "      <td>0.573875</td>\n",
       "      <td>0.447739</td>\n",
       "      <td>0.467650</td>\n",
       "      <td>0.470961</td>\n",
       "      <td>0.487815</td>\n",
       "      <td>0.475979</td>\n",
       "    </tr>\n",
       "    <tr>\n",
       "      <th>...</th>\n",
       "      <td>...</td>\n",
       "      <td>...</td>\n",
       "      <td>...</td>\n",
       "      <td>...</td>\n",
       "      <td>...</td>\n",
       "      <td>...</td>\n",
       "      <td>...</td>\n",
       "      <td>...</td>\n",
       "      <td>...</td>\n",
       "      <td>...</td>\n",
       "      <td>...</td>\n",
       "      <td>...</td>\n",
       "      <td>...</td>\n",
       "      <td>...</td>\n",
       "    </tr>\n",
       "    <tr>\n",
       "      <th>187</th>\n",
       "      <td>0.662609</td>\n",
       "      <td>0.716496</td>\n",
       "      <td>0.732226</td>\n",
       "      <td>0.638888</td>\n",
       "      <td>0.662686</td>\n",
       "      <td>0.589667</td>\n",
       "      <td>0.604634</td>\n",
       "      <td>0.609946</td>\n",
       "      <td>0.574303</td>\n",
       "      <td>0.623393</td>\n",
       "      <td>0.609866</td>\n",
       "      <td>0.588797</td>\n",
       "      <td>0.511906</td>\n",
       "      <td>0.548743</td>\n",
       "    </tr>\n",
       "    <tr>\n",
       "      <th>188</th>\n",
       "      <td>0.716496</td>\n",
       "      <td>0.732226</td>\n",
       "      <td>0.638888</td>\n",
       "      <td>0.662686</td>\n",
       "      <td>0.589667</td>\n",
       "      <td>0.604634</td>\n",
       "      <td>0.609946</td>\n",
       "      <td>0.574303</td>\n",
       "      <td>0.623393</td>\n",
       "      <td>0.609866</td>\n",
       "      <td>0.588797</td>\n",
       "      <td>0.511906</td>\n",
       "      <td>0.548743</td>\n",
       "      <td>0.524135</td>\n",
       "    </tr>\n",
       "    <tr>\n",
       "      <th>189</th>\n",
       "      <td>0.732226</td>\n",
       "      <td>0.638888</td>\n",
       "      <td>0.662686</td>\n",
       "      <td>0.589667</td>\n",
       "      <td>0.604634</td>\n",
       "      <td>0.609946</td>\n",
       "      <td>0.574303</td>\n",
       "      <td>0.623393</td>\n",
       "      <td>0.609866</td>\n",
       "      <td>0.588797</td>\n",
       "      <td>0.511906</td>\n",
       "      <td>0.548743</td>\n",
       "      <td>0.524135</td>\n",
       "      <td>0.488013</td>\n",
       "    </tr>\n",
       "    <tr>\n",
       "      <th>190</th>\n",
       "      <td>0.638888</td>\n",
       "      <td>0.662686</td>\n",
       "      <td>0.589667</td>\n",
       "      <td>0.604634</td>\n",
       "      <td>0.609946</td>\n",
       "      <td>0.574303</td>\n",
       "      <td>0.623393</td>\n",
       "      <td>0.609866</td>\n",
       "      <td>0.588797</td>\n",
       "      <td>0.511906</td>\n",
       "      <td>0.548743</td>\n",
       "      <td>0.524135</td>\n",
       "      <td>0.488013</td>\n",
       "      <td>0.456312</td>\n",
       "    </tr>\n",
       "    <tr>\n",
       "      <th>191</th>\n",
       "      <td>0.662686</td>\n",
       "      <td>0.589667</td>\n",
       "      <td>0.604634</td>\n",
       "      <td>0.609946</td>\n",
       "      <td>0.574303</td>\n",
       "      <td>0.623393</td>\n",
       "      <td>0.609866</td>\n",
       "      <td>0.588797</td>\n",
       "      <td>0.511906</td>\n",
       "      <td>0.548743</td>\n",
       "      <td>0.524135</td>\n",
       "      <td>0.488013</td>\n",
       "      <td>0.456312</td>\n",
       "      <td>0.410631</td>\n",
       "    </tr>\n",
       "  </tbody>\n",
       "</table>\n",
       "<p>192 rows × 14 columns</p>\n",
       "</div>"
      ],
      "text/plain": [
       "        RSI_0     RSI_1     RSI_2     RSI_3     RSI_4     RSI_5     RSI_6  \\\n",
       "0    0.000000  0.470024  0.275822  0.274901  0.193635  0.251239  0.189344   \n",
       "1    0.470024  0.275822  0.274901  0.193635  0.251239  0.189344  0.309446   \n",
       "2    0.275822  0.274901  0.193635  0.251239  0.189344  0.309446  0.449665   \n",
       "3    0.274901  0.193635  0.251239  0.189344  0.309446  0.449665  0.553280   \n",
       "4    0.193635  0.251239  0.189344  0.309446  0.449665  0.553280  0.550335   \n",
       "..        ...       ...       ...       ...       ...       ...       ...   \n",
       "187  0.662609  0.716496  0.732226  0.638888  0.662686  0.589667  0.604634   \n",
       "188  0.716496  0.732226  0.638888  0.662686  0.589667  0.604634  0.609946   \n",
       "189  0.732226  0.638888  0.662686  0.589667  0.604634  0.609946  0.574303   \n",
       "190  0.638888  0.662686  0.589667  0.604634  0.609946  0.574303  0.623393   \n",
       "191  0.662686  0.589667  0.604634  0.609946  0.574303  0.623393  0.609866   \n",
       "\n",
       "        RSI_7     RSI_8     RSI_9    RSI_10    RSI_11    RSI_12    RSI_13  \n",
       "0    0.309446  0.449665  0.553280  0.550335  0.512003  0.573875  0.447739  \n",
       "1    0.449665  0.553280  0.550335  0.512003  0.573875  0.447739  0.467650  \n",
       "2    0.553280  0.550335  0.512003  0.573875  0.447739  0.467650  0.470961  \n",
       "3    0.550335  0.512003  0.573875  0.447739  0.467650  0.470961  0.487815  \n",
       "4    0.512003  0.573875  0.447739  0.467650  0.470961  0.487815  0.475979  \n",
       "..        ...       ...       ...       ...       ...       ...       ...  \n",
       "187  0.609946  0.574303  0.623393  0.609866  0.588797  0.511906  0.548743  \n",
       "188  0.574303  0.623393  0.609866  0.588797  0.511906  0.548743  0.524135  \n",
       "189  0.623393  0.609866  0.588797  0.511906  0.548743  0.524135  0.488013  \n",
       "190  0.609866  0.588797  0.511906  0.548743  0.524135  0.488013  0.456312  \n",
       "191  0.588797  0.511906  0.548743  0.524135  0.488013  0.456312  0.410631  \n",
       "\n",
       "[192 rows x 14 columns]"
      ]
     },
     "execution_count": 57,
     "metadata": {},
     "output_type": "execute_result"
    }
   ],
   "source": [
    "X_train[[f\"RSI_{i}\" for i in range(14)]] /= 100\n",
    "X_valid[[f\"RSI_{i}\" for i in range(14)]] /= 100\n",
    "X_test[[f\"RSI_{i}\" for i in range(14)]] /= 100\n",
    "X_train[[f\"RSI_{i}\" for i in range(14)]]"
   ]
  },
  {
   "cell_type": "markdown",
   "id": "b20353b6",
   "metadata": {},
   "source": [
    "## Convolutional NN: Second try"
   ]
  },
  {
   "cell_type": "code",
   "execution_count": 58,
   "id": "4dd5381c",
   "metadata": {},
   "outputs": [],
   "source": [
    "CHANNELS = 5\n",
    "\n",
    "import torch\n",
    "from torch.utils.data import Dataset\n",
    "from torchvision import datasets\n",
    "from torchvision.transforms import ToTensor\n",
    "import matplotlib.pyplot as plt\n",
    "\n",
    "class CustomStockDataset(Dataset):\n",
    "    def __init__(self, X, y):\n",
    "        self.X = np.array(X).astype(np.float32)\n",
    "        self.y = np.array(y).astype(np.longlong).flatten()\n",
    "\n",
    "    def __len__(self):\n",
    "        return len(self.X)\n",
    "\n",
    "    def __getitem__(self, idx):\n",
    "        return self.X[idx], self.y[idx]\n",
    "\n",
    "training_data = CustomStockDataset(X_train, y_train)\n",
    "valid_data = CustomStockDataset(X_valid, y_valid)\n",
    "test_data = CustomStockDataset(X_test, y_test)\n",
    "\n",
    "from torch.utils.data import DataLoader\n",
    "\n",
    "train_dataloader = DataLoader(training_data, batch_size=8, shuffle=False, drop_last=True)\n",
    "valid_dataloader = DataLoader(valid_data, batch_size=8, shuffle=False, drop_last=True)\n",
    "test_dataloader = DataLoader(test_data, batch_size=8, shuffle=False, drop_last=True)"
   ]
  },
  {
   "cell_type": "code",
   "execution_count": 59,
   "id": "a8c4ffba",
   "metadata": {},
   "outputs": [
    {
     "name": "stdout",
     "output_type": "stream",
     "text": [
      "----------------------------------------------------------------\n",
      "        Layer (type)               Output Shape         Param #\n",
      "================================================================\n",
      "            Conv1d-1                [-1, 8, 14]             128\n",
      "            Linear-2                   [-1, 64]           7,232\n",
      "            Linear-3                    [-1, 2]             130\n",
      "================================================================\n",
      "Total params: 7,490\n",
      "Trainable params: 7,490\n",
      "Non-trainable params: 0\n",
      "----------------------------------------------------------------\n",
      "Input size (MB): 0.00\n",
      "Forward/backward pass size (MB): 0.00\n",
      "Params size (MB): 0.03\n",
      "Estimated Total Size (MB): 0.03\n",
      "----------------------------------------------------------------\n"
     ]
    },
    {
     "name": "stderr",
     "output_type": "stream",
     "text": [
      "C:\\Users\\valer\\AppData\\Local\\Programs\\Python\\Python310\\lib\\site-packages\\torch\\nn\\modules\\lazy.py:180: UserWarning: Lazy modules are a new feature under heavy development so changes to the API or functionality can happen at any moment.\n",
      "  warnings.warn('Lazy modules are a new feature under heavy development '\n"
     ]
    }
   ],
   "source": [
    "import torch.nn as nn\n",
    "import torch.nn.functional as F\n",
    "from torchsummary import summary\n",
    "\n",
    "\n",
    "class StockCNNv1(nn.Module):\n",
    "    def __init__(self):\n",
    "        super().__init__()\n",
    "        self.conv1 = nn.Conv1d(5, 8, 3, padding=1)\n",
    "        self.pool = nn.MaxPool1d(2)\n",
    "        self.conv2 = nn.Conv1d(8, 16, 2, padding=1)\n",
    "        self.conv3 = nn.Conv1d(16, 32, 3, padding=1)\n",
    "        self.fc1 = nn.LazyLinear(64)\n",
    "        self.fc2 = nn.LazyLinear(16)\n",
    "        self.fc3 = nn.LazyLinear(2)\n",
    "        # self.softmax = nn.Softmax()\n",
    "\n",
    "    def forward(self, x):\n",
    "        x = F.relu(self.conv1(x))\n",
    "#         x = F.relu(self.conv2(x))\n",
    "#         x = self.pool(F.relu(self.conv3(x)))\n",
    "        x = torch.flatten(x, 1) # flatten all dimensions except batch\n",
    "        x = F.relu(self.fc1(x))\n",
    "#         x = F.relu(self.fc2(x))\n",
    "        x = self.fc3(x)\n",
    "        # x = self.softmax(x)\n",
    "        return x\n",
    "\n",
    "\n",
    "torch_model = StockCNNv1()\n",
    "summary(torch_model, (5, 14))"
   ]
  },
  {
   "cell_type": "code",
   "execution_count": 60,
   "id": "350bb480",
   "metadata": {},
   "outputs": [
    {
     "name": "stdout",
     "output_type": "stream",
     "text": [
      "----------------------------------------------------------------\n",
      "        Layer (type)               Output Shape         Param #\n",
      "================================================================\n",
      "            Conv1d-1              [-1, 128, 14]           2,048\n",
      " AdaptiveAvgPool1d-2               [-1, 128, 1]               0\n",
      " AdaptiveMaxPool1d-3               [-1, 128, 1]               0\n",
      "           Flatten-4                  [-1, 256]               0\n",
      "              ReLU-5                  [-1, 256]               0\n",
      "       BatchNorm1d-6                  [-1, 256]             512\n",
      "            Linear-7                    [-1, 2]             514\n",
      "================================================================\n",
      "Total params: 3,074\n",
      "Trainable params: 3,074\n",
      "Non-trainable params: 0\n",
      "----------------------------------------------------------------\n",
      "Input size (MB): 0.00\n",
      "Forward/backward pass size (MB): 0.02\n",
      "Params size (MB): 0.01\n",
      "Estimated Total Size (MB): 0.03\n",
      "----------------------------------------------------------------\n"
     ]
    }
   ],
   "source": [
    "class forecasting_model(nn.Module):\n",
    "    \n",
    "    def __init__(self, input_features, output_features, print_shapes = False):\n",
    "        super().__init__()\n",
    "        self.conv    = nn.Conv1d(in_channels = input_features, out_channels = 128, kernel_size = 3, padding = 1)\n",
    "        self.pool1   = nn.AdaptiveAvgPool1d(1)\n",
    "        self.pool2   = nn.AdaptiveMaxPool1d(1)\n",
    "        self.flatten = nn.Flatten()\n",
    "        self.bn      = nn.BatchNorm1d(num_features = 2 * 128)\n",
    "        self.relu    = nn.ReLU()\n",
    "        self.fc      = nn.Linear(in_features = 2 * 128, out_features = output_features)\n",
    "        self.print_shapes = print_shapes\n",
    "        \n",
    "    def forward(self, x):\n",
    "        \n",
    "        if self.print_shapes: print(f\"{'Input Batch Shape':<25} {x.shape}\")\n",
    "        \n",
    "        conv_op = self.conv(x)\n",
    "        if self.print_shapes: print(f\"{'Conv Output Shape':<25} {conv_op.shape}\")\n",
    "        \n",
    "        avg_pool = self.pool1(conv_op)\n",
    "        max_pool = self.pool2(conv_op)\n",
    "        final_pool = torch.cat([avg_pool, max_pool], dim = -1)\n",
    "        flattened_op = self.flatten(final_pool)\n",
    "        if self.print_shapes: print(f\"{'Pooled Output Shape':<25} {flattened_op.shape}\")\n",
    "        \n",
    "        final_op = self.fc(self.bn(self.relu(flattened_op)))\n",
    "        if self.print_shapes: print(f\"{'Output Shape':<25} {final_op.shape}\")\n",
    "            \n",
    "        return final_op\n",
    "    \n",
    "torch_model = forecasting_model(CHANNELS, 2, False)\n",
    "summary(torch_model, (CHANNELS, 14))"
   ]
  },
  {
   "cell_type": "code",
   "execution_count": 61,
   "id": "e82fcca6",
   "metadata": {},
   "outputs": [],
   "source": [
    "import torch.optim as optim\n",
    "\n",
    "criterion = nn.CrossEntropyLoss()\n",
    "optimizer = optim.SGD(torch_model.parameters(), lr = 3e-3, momentum=0.9)\n",
    "train_loss = []\n",
    "valid_loss = []\n",
    "test_acc = []\n",
    "\n",
    "best_model = None\n",
    "best_acc = 0"
   ]
  },
  {
   "cell_type": "code",
   "execution_count": 62,
   "id": "6392ce4b",
   "metadata": {},
   "outputs": [
    {
     "data": {
      "text/plain": [
       "(24, 2, 2)"
      ]
     },
     "execution_count": 62,
     "metadata": {},
     "output_type": "execute_result"
    }
   ],
   "source": [
    "len(train_dataloader), len(valid_dataloader), len(test_dataloader)"
   ]
  },
  {
   "cell_type": "code",
   "execution_count": null,
   "id": "1c1f3678",
   "metadata": {},
   "outputs": [],
   "source": [
    "[1234|5]\n",
    "[2345|6]\n",
    "-----+-\n",
    "[3456|7]"
   ]
  },
  {
   "cell_type": "code",
   "execution_count": 63,
   "id": "a9987f1b",
   "metadata": {},
   "outputs": [],
   "source": [
    "import copy"
   ]
  },
  {
   "cell_type": "code",
   "execution_count": 70,
   "id": "d04a11c1",
   "metadata": {},
   "outputs": [
    {
     "name": "stdout",
     "output_type": "stream",
     "text": [
      "[20,     2] loss: 0.047 | test acc: 0.625 | valid acc: 0.438 | train acc 1.000"
     ]
    },
    {
     "data": {
      "image/png": "[encoded data removed]",
      "text/plain": [
       "<Figure size 640x480 with 1 Axes>"
      ]
     },
     "metadata": {},
     "output_type": "display_data"
    },
    {
     "name": "stdout",
     "output_type": "stream",
     "text": [
      "Finished Training\n"
     ]
    }
   ],
   "source": [
    "\n",
    "for epoch in range(20):  # loop over the dataset multiple times\n",
    "\n",
    "    running_loss = 0.0\n",
    "    for i, data in enumerate(train_dataloader, 0):\n",
    "        # get the inputs; data is a list of [inputs, labels]\n",
    "        inputs, labels = data\n",
    "\n",
    "        # zero the parameter gradients\n",
    "        optimizer.zero_grad()\n",
    "\n",
    "        # forward + backward + optimize\n",
    "        # outputs = model(inputs.reshape([inputs.shape[0], 2, 14]))\n",
    "        outputs = torch_model(inputs.reshape([inputs.shape[0], CHANNELS, 14]))\n",
    "#         print(outputs.shape, labels)\n",
    "        loss = criterion(outputs, labels)\n",
    "        loss.backward()\n",
    "        optimizer.step()\n",
    "\n",
    "        # print statistics\n",
    "        running_loss += loss.item()\n",
    "        step = len(train_dataloader)\n",
    "        if i % step == step - 1: \n",
    "            \n",
    "            with torch.no_grad():\n",
    "                predicred_true = 0\n",
    "                for i, data in enumerate(train_dataloader, 0):\n",
    "                    # get the inputs; data is a list of [inputs, labels]\n",
    "                    inputs, labels = data\n",
    "                    outputs = torch_model(inputs.reshape([inputs.shape[0], CHANNELS, 14]))\n",
    "                    predicred_true += int(sum(torch.argmax(outputs, dim=1) == labels.flatten()))\n",
    "\n",
    "#                 print(f\"test acc: {predicred_true/ len(test_dataloader.dataset):.3f}\", end=\"\")\n",
    "                train_loss.append(predicred_true/ len(train_dataloader.dataset))\n",
    "#             train_loss.append(running_loss / step)\n",
    "\n",
    "            with torch.no_grad():\n",
    "                predicred_true = 0\n",
    "                for i, data in enumerate(test_dataloader, 0):\n",
    "                    # get the inputs; data is a list of [inputs, labels]\n",
    "                    inputs, labels = data\n",
    "                    outputs = torch_model(inputs.reshape([inputs.shape[0], CHANNELS, 14]))\n",
    "#                     print(\"Output\", outputs)\n",
    "#                     print(\"Output\", torch.argmax(outputs, dim=1))\n",
    "#                     print(\"labels\", labels)\n",
    "                    predicred_true += int(sum(torch.argmax(outputs, dim=1) == labels.flatten()))\n",
    "\n",
    "#                 print(f\"test acc: {predicred_true/ len(test_dataloader.dataset):.3f}\", end=\"\")\n",
    "                test_acc.append(predicred_true/ len(test_dataloader.dataset))\n",
    "    \n",
    "            predicred_true = 0\n",
    "            with torch.no_grad():\n",
    "                for i, data in enumerate(valid_dataloader, 0):\n",
    "                    # get the inputs; data is a list of [inputs, labels]\n",
    "                    inputs, labels = data\n",
    "                    outputs = torch_model(inputs.reshape([inputs.shape[0], CHANNELS, 14]))\n",
    "#                     print(\"Output\", outputs)\n",
    "#                     print(\"Output\", torch.argmax(outputs, dim=1))\n",
    "#                     print(\"labels\", labels)\n",
    "                    predicred_true += int(sum(torch.argmax(outputs, dim=1) == labels.flatten()))\n",
    "\n",
    "#                 print(f\"test acc: {predicred_true/ len(test_dataloader.dataset):.3f}\", end=\"\")\n",
    "                valid_loss.append(predicred_true/ len(test_dataloader.dataset))\n",
    "\n",
    "            print(f'\\r[{epoch + 1}, {i + 1:5d}] loss: {running_loss / step:.3f} | test acc: {test_acc[-1]:.3f} | valid acc: {valid_loss[-1]:.3f} | train acc {train_loss[-1]:.3f}', end='', flush=True)\n",
    "            running_loss = 0.0\n",
    "            \n",
    "            if predicred_true / len(test_dataloader.dataset) > best_acc:\n",
    "                best_model = copy.deepcopy(torch_model)\n",
    "                best_acc = predicred_true/ len(test_dataloader.dataset)\n",
    "                \n",
    "plt.plot(train_loss, label=\"train_acc\")\n",
    "plt.plot(valid_loss, label=\"valid_acc\")\n",
    "plt.plot(test_acc, label=\"test_acc\")\n",
    "plt.legend()\n",
    "plt.grid(True)\n",
    "plt.show()\n",
    "\n",
    "print('Finished Training')"
   ]
  },
  {
   "cell_type": "code",
   "execution_count": 20,
   "id": "da394786",
   "metadata": {},
   "outputs": [
    {
     "data": {
      "text/plain": [
       "(16, 2)"
      ]
     },
     "execution_count": 20,
     "metadata": {},
     "output_type": "execute_result"
    }
   ],
   "source": [
    "len(test_dataloader.dataset), len(test_dataloader)"
   ]
  },
  {
   "cell_type": "code",
   "execution_count": 71,
   "id": "8bfa3154",
   "metadata": {},
   "outputs": [],
   "source": [
    "class TorchModel:\n",
    "    def __init__(self, model):\n",
    "        self.model = model\n",
    "\n",
    "    def fit(self, x_data, y_data):\n",
    "        return self\n",
    "\n",
    "    def predict(self, dataloader):\n",
    "        y_preds = []\n",
    "        with torch.no_grad():\n",
    "            predicred_true = 0\n",
    "            for i, data in enumerate(dataloader, 0):\n",
    "                # get the inputs; data is a list of [inputs, labels]\n",
    "                inputs, labels = data\n",
    "                outputs = self.model(inputs.reshape([inputs.shape[0], CHANNELS, 14]))\n",
    "                y_preds += torch.argmax(outputs, dim=1).tolist()\n",
    "\n",
    "#                 print(f\"test acc: {predicred_true/ len(test_dataloader.dataset):.3f}\", end=\"\")\n",
    "#             train_loss.append(running_loss / step)\n",
    "\n",
    "        return pd.DataFrame(y_preds)\n",
    "    \n",
    "    def score(self, x_dataloader, y_data):\n",
    "        if len(y_data) != len(x_dataloader.dataset):\n",
    "            raise Exception(\"Different data length\")\n",
    "#         print(np.array(self.predict(x_dataloader)).flatten() == np.array(y_data).flatten())\n",
    "        return sum(np.array(self.predict(x_dataloader)).flatten() == np.array(y_data).flatten()) / len(y_data)"
   ]
  },
  {
   "cell_type": "code",
   "execution_count": null,
   "id": "4932a2cc",
   "metadata": {},
   "outputs": [],
   "source": [
    "[askdv]\n",
    "[skdva]\n",
    "--------\n",
    "[kdvas]"
   ]
  },
  {
   "cell_type": "code",
   "execution_count": 72,
   "id": "95eef4ae",
   "metadata": {},
   "outputs": [
    {
     "name": "stdout",
     "output_type": "stream",
     "text": [
      "Train accuracy 0.91\n",
      "Valid accuracy 0.75\n",
      "Test accuracy  0.75\n"
     ]
    },
    {
     "data": {
      "image/png": "[encoded data removed]",
      "text/plain": [
       "<Figure size 640x480 with 2 Axes>"
      ]
     },
     "metadata": {},
     "output_type": "display_data"
    }
   ],
   "source": [
    "model = TorchModel(best_model)\n",
    "y_train_pred_bin = model.predict(train_dataloader)\n",
    "y_valid_pred_bin = model.predict(valid_dataloader)\n",
    "y_test_pred_bin = model.predict(test_dataloader)\n",
    "\n",
    "# df = def_pipe.get_test_price(y_test_pred_bin)  # ! Prediction_ExpProf will not be corret as we \n",
    "#                                                # ! proposed bin not price\n",
    "\n",
    "# start_capital = 100000\n",
    "# tt = market.BinTraderTest(start_capital, y_test_pred_bin, df[\"Price_True\"])\n",
    "# bt = market.BinTraderTest(start_capital, y_test, df[\"Price_True\"])\n",
    "# traded_capital = tt.trade()\n",
    "# maximal_caital = bt.trade()\n",
    "# print(f\"Model earned {(traded_capital):.2f}$ out of {maximal_caital:.2f}$ starting from {start_capital}$ \")\n",
    "\n",
    "print(f\"Train accuracy {model.score(train_dataloader, y_train):.2f}\")\n",
    "print(f\"Valid accuracy {model.score(valid_dataloader, y_valid):.2f}\")\n",
    "print(f\"Test accuracy  {model.score(test_dataloader, y_test):.2f}\")\n",
    "\n",
    "_ = ConfusionMatrixDisplay.from_predictions(y_train, y_train_pred_bin)"
   ]
  },
  {
   "cell_type": "code",
   "execution_count": 52,
   "id": "d25fc9bd",
   "metadata": {},
   "outputs": [
    {
     "data": {
      "image/png": "[encoded data removed]",
      "text/plain": [
       "<Figure size 640x480 with 2 Axes>"
      ]
     },
     "metadata": {},
     "output_type": "display_data"
    }
   ],
   "source": [
    "_ = ConfusionMatrixDisplay.from_predictions(y_test, y_test_pred_bin)"
   ]
  },
  {
   "cell_type": "code",
   "execution_count": 371,
   "id": "7a19916d",
   "metadata": {},
   "outputs": [
    {
     "data": {
      "text/html": [
       "<div>\n",
       "<style scoped>\n",
       "    .dataframe tbody tr th:only-of-type {\n",
       "        vertical-align: middle;\n",
       "    }\n",
       "\n",
       "    .dataframe tbody tr th {\n",
       "        vertical-align: top;\n",
       "    }\n",
       "\n",
       "    .dataframe thead th {\n",
       "        text-align: right;\n",
       "    }\n",
       "</style>\n",
       "<table border=\"1\" class=\"dataframe\">\n",
       "  <thead>\n",
       "    <tr style=\"text-align: right;\">\n",
       "      <th></th>\n",
       "      <th>0</th>\n",
       "    </tr>\n",
       "  </thead>\n",
       "  <tbody>\n",
       "    <tr>\n",
       "      <th>0</th>\n",
       "      <td>0</td>\n",
       "    </tr>\n",
       "    <tr>\n",
       "      <th>1</th>\n",
       "      <td>0</td>\n",
       "    </tr>\n",
       "    <tr>\n",
       "      <th>2</th>\n",
       "      <td>0</td>\n",
       "    </tr>\n",
       "    <tr>\n",
       "      <th>3</th>\n",
       "      <td>0</td>\n",
       "    </tr>\n",
       "    <tr>\n",
       "      <th>4</th>\n",
       "      <td>0</td>\n",
       "    </tr>\n",
       "    <tr>\n",
       "      <th>...</th>\n",
       "      <td>...</td>\n",
       "    </tr>\n",
       "    <tr>\n",
       "      <th>393</th>\n",
       "      <td>1</td>\n",
       "    </tr>\n",
       "    <tr>\n",
       "      <th>394</th>\n",
       "      <td>1</td>\n",
       "    </tr>\n",
       "    <tr>\n",
       "      <th>395</th>\n",
       "      <td>1</td>\n",
       "    </tr>\n",
       "    <tr>\n",
       "      <th>396</th>\n",
       "      <td>0</td>\n",
       "    </tr>\n",
       "    <tr>\n",
       "      <th>397</th>\n",
       "      <td>0</td>\n",
       "    </tr>\n",
       "  </tbody>\n",
       "</table>\n",
       "<p>398 rows × 1 columns</p>\n",
       "</div>"
      ],
      "text/plain": [
       "     0\n",
       "0    0\n",
       "1    0\n",
       "2    0\n",
       "3    0\n",
       "4    0\n",
       "..  ..\n",
       "393  1\n",
       "394  1\n",
       "395  1\n",
       "396  0\n",
       "397  0\n",
       "\n",
       "[398 rows x 1 columns]"
      ]
     },
     "execution_count": 371,
     "metadata": {},
     "output_type": "execute_result"
    }
   ],
   "source": [
    "model.predict(X_test)"
   ]
  },
  {
   "cell_type": "code",
   "execution_count": 156,
   "id": "c0a1cb4d",
   "metadata": {},
   "outputs": [
    {
     "data": {
      "text/plain": [
       "pandas.core.frame.DataFrame"
      ]
     },
     "execution_count": 156,
     "metadata": {},
     "output_type": "execute_result"
    }
   ],
   "source": [
    "y_test"
   ]
  },
  {
   "cell_type": "code",
   "execution_count": null,
   "id": "a914b8d9",
   "metadata": {},
   "outputs": [],
   "source": []
  },
  {
   "cell_type": "code",
   "execution_count": null,
   "id": "f6926b76",
   "metadata": {},
   "outputs": [],
   "source": []
  },
  {
   "cell_type": "code",
   "execution_count": null,
   "id": "41486676",
   "metadata": {},
   "outputs": [],
   "source": []
  },
  {
   "cell_type": "code",
   "execution_count": 380,
   "id": "31ed501f",
   "metadata": {},
   "outputs": [],
   "source": [
    "byt = market.BinYearTest(tickers, HistBinPipeline, end_date=None, window_size=15)"
   ]
  },
  {
   "cell_type": "code",
   "execution_count": 381,
   "id": "1e73cfa4",
   "metadata": {},
   "outputs": [
    {
     "name": "stdout",
     "output_type": "stream",
     "text": [
      "[*********************100%***********************]  1 of 1 completed\n",
      "[*********************100%***********************]  1 of 1 completed\n"
     ]
    },
    {
     "name": "stderr",
     "output_type": "stream",
     "text": [
      "C:\\Users\\valer\\Desktop\\SPP\\SPP\\model\\../spp\\process.py:351: SettingWithCopyWarning: \n",
      "A value is trying to be set on a copy of a slice from a DataFrame.\n",
      "Try using .loc[row_indexer,col_indexer] = value instead\n",
      "\n",
      "See the caveats in the documentation: https://pandas.pydata.org/pandas-docs/stable/user_guide/indexing.html#returning-a-view-versus-a-copy\n",
      "  df[\"Price_True\"] = self.true_price_keeper[train_test_id].to_numpy()\n",
      "C:\\Users\\valer\\Desktop\\SPP\\SPP\\model\\../spp\\process.py:351: SettingWithCopyWarning: \n",
      "A value is trying to be set on a copy of a slice from a DataFrame.\n",
      "Try using .loc[row_indexer,col_indexer] = value instead\n",
      "\n",
      "See the caveats in the documentation: https://pandas.pydata.org/pandas-docs/stable/user_guide/indexing.html#returning-a-view-versus-a-copy\n",
      "  df[\"Price_True\"] = self.true_price_keeper[train_test_id].to_numpy()\n"
     ]
    },
    {
     "name": "stdout",
     "output_type": "stream",
     "text": [
      "[*********************100%***********************]  1 of 1 completed\n",
      "[*********************100%***********************]  1 of 1 completed\n"
     ]
    },
    {
     "name": "stderr",
     "output_type": "stream",
     "text": [
      "C:\\Users\\valer\\Desktop\\SPP\\SPP\\model\\../spp\\process.py:351: SettingWithCopyWarning: \n",
      "A value is trying to be set on a copy of a slice from a DataFrame.\n",
      "Try using .loc[row_indexer,col_indexer] = value instead\n",
      "\n",
      "See the caveats in the documentation: https://pandas.pydata.org/pandas-docs/stable/user_guide/indexing.html#returning-a-view-versus-a-copy\n",
      "  df[\"Price_True\"] = self.true_price_keeper[train_test_id].to_numpy()\n",
      "C:\\Users\\valer\\Desktop\\SPP\\SPP\\model\\../spp\\process.py:351: SettingWithCopyWarning: \n",
      "A value is trying to be set on a copy of a slice from a DataFrame.\n",
      "Try using .loc[row_indexer,col_indexer] = value instead\n",
      "\n",
      "See the caveats in the documentation: https://pandas.pydata.org/pandas-docs/stable/user_guide/indexing.html#returning-a-view-versus-a-copy\n",
      "  df[\"Price_True\"] = self.true_price_keeper[train_test_id].to_numpy()\n"
     ]
    },
    {
     "name": "stdout",
     "output_type": "stream",
     "text": [
      "[*********************100%***********************]  1 of 1 completed\n",
      "[*********************100%***********************]  1 of 1 completed\n"
     ]
    },
    {
     "name": "stderr",
     "output_type": "stream",
     "text": [
      "C:\\Users\\valer\\Desktop\\SPP\\SPP\\model\\../spp\\process.py:351: SettingWithCopyWarning: \n",
      "A value is trying to be set on a copy of a slice from a DataFrame.\n",
      "Try using .loc[row_indexer,col_indexer] = value instead\n",
      "\n",
      "See the caveats in the documentation: https://pandas.pydata.org/pandas-docs/stable/user_guide/indexing.html#returning-a-view-versus-a-copy\n",
      "  df[\"Price_True\"] = self.true_price_keeper[train_test_id].to_numpy()\n",
      "C:\\Users\\valer\\Desktop\\SPP\\SPP\\model\\../spp\\process.py:351: SettingWithCopyWarning: \n",
      "A value is trying to be set on a copy of a slice from a DataFrame.\n",
      "Try using .loc[row_indexer,col_indexer] = value instead\n",
      "\n",
      "See the caveats in the documentation: https://pandas.pydata.org/pandas-docs/stable/user_guide/indexing.html#returning-a-view-versus-a-copy\n",
      "  df[\"Price_True\"] = self.true_price_keeper[train_test_id].to_numpy()\n"
     ]
    },
    {
     "name": "stdout",
     "output_type": "stream",
     "text": [
      "[*********************100%***********************]  1 of 1 completed\n",
      "[*********************100%***********************]  1 of 1 completed\n"
     ]
    },
    {
     "name": "stderr",
     "output_type": "stream",
     "text": [
      "C:\\Users\\valer\\Desktop\\SPP\\SPP\\model\\../spp\\process.py:351: SettingWithCopyWarning: \n",
      "A value is trying to be set on a copy of a slice from a DataFrame.\n",
      "Try using .loc[row_indexer,col_indexer] = value instead\n",
      "\n",
      "See the caveats in the documentation: https://pandas.pydata.org/pandas-docs/stable/user_guide/indexing.html#returning-a-view-versus-a-copy\n",
      "  df[\"Price_True\"] = self.true_price_keeper[train_test_id].to_numpy()\n",
      "C:\\Users\\valer\\Desktop\\SPP\\SPP\\model\\../spp\\process.py:351: SettingWithCopyWarning: \n",
      "A value is trying to be set on a copy of a slice from a DataFrame.\n",
      "Try using .loc[row_indexer,col_indexer] = value instead\n",
      "\n",
      "See the caveats in the documentation: https://pandas.pydata.org/pandas-docs/stable/user_guide/indexing.html#returning-a-view-versus-a-copy\n",
      "  df[\"Price_True\"] = self.true_price_keeper[train_test_id].to_numpy()\n"
     ]
    },
    {
     "name": "stdout",
     "output_type": "stream",
     "text": [
      "[*********************100%***********************]  1 of 1 completed\n",
      "[*********************100%***********************]  1 of 1 completed\n"
     ]
    },
    {
     "name": "stderr",
     "output_type": "stream",
     "text": [
      "C:\\Users\\valer\\Desktop\\SPP\\SPP\\model\\../spp\\process.py:351: SettingWithCopyWarning: \n",
      "A value is trying to be set on a copy of a slice from a DataFrame.\n",
      "Try using .loc[row_indexer,col_indexer] = value instead\n",
      "\n",
      "See the caveats in the documentation: https://pandas.pydata.org/pandas-docs/stable/user_guide/indexing.html#returning-a-view-versus-a-copy\n",
      "  df[\"Price_True\"] = self.true_price_keeper[train_test_id].to_numpy()\n",
      "C:\\Users\\valer\\Desktop\\SPP\\SPP\\model\\../spp\\process.py:351: SettingWithCopyWarning: \n",
      "A value is trying to be set on a copy of a slice from a DataFrame.\n",
      "Try using .loc[row_indexer,col_indexer] = value instead\n",
      "\n",
      "See the caveats in the documentation: https://pandas.pydata.org/pandas-docs/stable/user_guide/indexing.html#returning-a-view-versus-a-copy\n",
      "  df[\"Price_True\"] = self.true_price_keeper[train_test_id].to_numpy()\n"
     ]
    },
    {
     "name": "stdout",
     "output_type": "stream",
     "text": [
      "[*********************100%***********************]  1 of 1 completed\n",
      "[*********************100%***********************]  1 of 1 completed\n"
     ]
    },
    {
     "name": "stderr",
     "output_type": "stream",
     "text": [
      "C:\\Users\\valer\\Desktop\\SPP\\SPP\\model\\../spp\\process.py:351: SettingWithCopyWarning: \n",
      "A value is trying to be set on a copy of a slice from a DataFrame.\n",
      "Try using .loc[row_indexer,col_indexer] = value instead\n",
      "\n",
      "See the caveats in the documentation: https://pandas.pydata.org/pandas-docs/stable/user_guide/indexing.html#returning-a-view-versus-a-copy\n",
      "  df[\"Price_True\"] = self.true_price_keeper[train_test_id].to_numpy()\n",
      "C:\\Users\\valer\\Desktop\\SPP\\SPP\\model\\../spp\\process.py:351: SettingWithCopyWarning: \n",
      "A value is trying to be set on a copy of a slice from a DataFrame.\n",
      "Try using .loc[row_indexer,col_indexer] = value instead\n",
      "\n",
      "See the caveats in the documentation: https://pandas.pydata.org/pandas-docs/stable/user_guide/indexing.html#returning-a-view-versus-a-copy\n",
      "  df[\"Price_True\"] = self.true_price_keeper[train_test_id].to_numpy()\n"
     ]
    },
    {
     "name": "stdout",
     "output_type": "stream",
     "text": [
      "[*********************100%***********************]  1 of 1 completed\n",
      "[*********************100%***********************]  1 of 1 completed\n"
     ]
    },
    {
     "name": "stderr",
     "output_type": "stream",
     "text": [
      "C:\\Users\\valer\\Desktop\\SPP\\SPP\\model\\../spp\\process.py:351: SettingWithCopyWarning: \n",
      "A value is trying to be set on a copy of a slice from a DataFrame.\n",
      "Try using .loc[row_indexer,col_indexer] = value instead\n",
      "\n",
      "See the caveats in the documentation: https://pandas.pydata.org/pandas-docs/stable/user_guide/indexing.html#returning-a-view-versus-a-copy\n",
      "  df[\"Price_True\"] = self.true_price_keeper[train_test_id].to_numpy()\n",
      "C:\\Users\\valer\\Desktop\\SPP\\SPP\\model\\../spp\\process.py:351: SettingWithCopyWarning: \n",
      "A value is trying to be set on a copy of a slice from a DataFrame.\n",
      "Try using .loc[row_indexer,col_indexer] = value instead\n",
      "\n",
      "See the caveats in the documentation: https://pandas.pydata.org/pandas-docs/stable/user_guide/indexing.html#returning-a-view-versus-a-copy\n",
      "  df[\"Price_True\"] = self.true_price_keeper[train_test_id].to_numpy()\n"
     ]
    },
    {
     "name": "stdout",
     "output_type": "stream",
     "text": [
      "[*********************100%***********************]  1 of 1 completed\n",
      "[*********************100%***********************]  1 of 1 completed\n"
     ]
    },
    {
     "name": "stderr",
     "output_type": "stream",
     "text": [
      "C:\\Users\\valer\\Desktop\\SPP\\SPP\\model\\../spp\\process.py:351: SettingWithCopyWarning: \n",
      "A value is trying to be set on a copy of a slice from a DataFrame.\n",
      "Try using .loc[row_indexer,col_indexer] = value instead\n",
      "\n",
      "See the caveats in the documentation: https://pandas.pydata.org/pandas-docs/stable/user_guide/indexing.html#returning-a-view-versus-a-copy\n",
      "  df[\"Price_True\"] = self.true_price_keeper[train_test_id].to_numpy()\n",
      "C:\\Users\\valer\\Desktop\\SPP\\SPP\\model\\../spp\\process.py:351: SettingWithCopyWarning: \n",
      "A value is trying to be set on a copy of a slice from a DataFrame.\n",
      "Try using .loc[row_indexer,col_indexer] = value instead\n",
      "\n",
      "See the caveats in the documentation: https://pandas.pydata.org/pandas-docs/stable/user_guide/indexing.html#returning-a-view-versus-a-copy\n",
      "  df[\"Price_True\"] = self.true_price_keeper[train_test_id].to_numpy()\n"
     ]
    },
    {
     "name": "stdout",
     "output_type": "stream",
     "text": [
      "[*********************100%***********************]  1 of 1 completed\n",
      "[*********************100%***********************]  1 of 1 completed\n"
     ]
    },
    {
     "name": "stderr",
     "output_type": "stream",
     "text": [
      "C:\\Users\\valer\\Desktop\\SPP\\SPP\\model\\../spp\\process.py:351: SettingWithCopyWarning: \n",
      "A value is trying to be set on a copy of a slice from a DataFrame.\n",
      "Try using .loc[row_indexer,col_indexer] = value instead\n",
      "\n",
      "See the caveats in the documentation: https://pandas.pydata.org/pandas-docs/stable/user_guide/indexing.html#returning-a-view-versus-a-copy\n",
      "  df[\"Price_True\"] = self.true_price_keeper[train_test_id].to_numpy()\n",
      "C:\\Users\\valer\\Desktop\\SPP\\SPP\\model\\../spp\\process.py:351: SettingWithCopyWarning: \n",
      "A value is trying to be set on a copy of a slice from a DataFrame.\n",
      "Try using .loc[row_indexer,col_indexer] = value instead\n",
      "\n",
      "See the caveats in the documentation: https://pandas.pydata.org/pandas-docs/stable/user_guide/indexing.html#returning-a-view-versus-a-copy\n",
      "  df[\"Price_True\"] = self.true_price_keeper[train_test_id].to_numpy()\n"
     ]
    },
    {
     "name": "stdout",
     "output_type": "stream",
     "text": [
      "[*********************100%***********************]  1 of 1 completed\n",
      "[*********************100%***********************]  1 of 1 completed\n"
     ]
    },
    {
     "name": "stderr",
     "output_type": "stream",
     "text": [
      "C:\\Users\\valer\\Desktop\\SPP\\SPP\\model\\../spp\\process.py:351: SettingWithCopyWarning: \n",
      "A value is trying to be set on a copy of a slice from a DataFrame.\n",
      "Try using .loc[row_indexer,col_indexer] = value instead\n",
      "\n",
      "See the caveats in the documentation: https://pandas.pydata.org/pandas-docs/stable/user_guide/indexing.html#returning-a-view-versus-a-copy\n",
      "  df[\"Price_True\"] = self.true_price_keeper[train_test_id].to_numpy()\n",
      "C:\\Users\\valer\\Desktop\\SPP\\SPP\\model\\../spp\\process.py:351: SettingWithCopyWarning: \n",
      "A value is trying to be set on a copy of a slice from a DataFrame.\n",
      "Try using .loc[row_indexer,col_indexer] = value instead\n",
      "\n",
      "See the caveats in the documentation: https://pandas.pydata.org/pandas-docs/stable/user_guide/indexing.html#returning-a-view-versus-a-copy\n",
      "  df[\"Price_True\"] = self.true_price_keeper[train_test_id].to_numpy()\n"
     ]
    },
    {
     "name": "stdout",
     "output_type": "stream",
     "text": [
      "[*********************100%***********************]  1 of 1 completed\n",
      "[*********************100%***********************]  1 of 1 completed\n"
     ]
    },
    {
     "name": "stderr",
     "output_type": "stream",
     "text": [
      "C:\\Users\\valer\\Desktop\\SPP\\SPP\\model\\../spp\\process.py:351: SettingWithCopyWarning: \n",
      "A value is trying to be set on a copy of a slice from a DataFrame.\n",
      "Try using .loc[row_indexer,col_indexer] = value instead\n",
      "\n",
      "See the caveats in the documentation: https://pandas.pydata.org/pandas-docs/stable/user_guide/indexing.html#returning-a-view-versus-a-copy\n",
      "  df[\"Price_True\"] = self.true_price_keeper[train_test_id].to_numpy()\n",
      "C:\\Users\\valer\\Desktop\\SPP\\SPP\\model\\../spp\\process.py:351: SettingWithCopyWarning: \n",
      "A value is trying to be set on a copy of a slice from a DataFrame.\n",
      "Try using .loc[row_indexer,col_indexer] = value instead\n",
      "\n",
      "See the caveats in the documentation: https://pandas.pydata.org/pandas-docs/stable/user_guide/indexing.html#returning-a-view-versus-a-copy\n",
      "  df[\"Price_True\"] = self.true_price_keeper[train_test_id].to_numpy()\n"
     ]
    },
    {
     "name": "stdout",
     "output_type": "stream",
     "text": [
      "[*********************100%***********************]  1 of 1 completed\n",
      "[*********************100%***********************]  1 of 1 completed\n"
     ]
    },
    {
     "name": "stderr",
     "output_type": "stream",
     "text": [
      "C:\\Users\\valer\\Desktop\\SPP\\SPP\\model\\../spp\\process.py:351: SettingWithCopyWarning: \n",
      "A value is trying to be set on a copy of a slice from a DataFrame.\n",
      "Try using .loc[row_indexer,col_indexer] = value instead\n",
      "\n",
      "See the caveats in the documentation: https://pandas.pydata.org/pandas-docs/stable/user_guide/indexing.html#returning-a-view-versus-a-copy\n",
      "  df[\"Price_True\"] = self.true_price_keeper[train_test_id].to_numpy()\n",
      "C:\\Users\\valer\\Desktop\\SPP\\SPP\\model\\../spp\\process.py:351: SettingWithCopyWarning: \n",
      "A value is trying to be set on a copy of a slice from a DataFrame.\n",
      "Try using .loc[row_indexer,col_indexer] = value instead\n",
      "\n",
      "See the caveats in the documentation: https://pandas.pydata.org/pandas-docs/stable/user_guide/indexing.html#returning-a-view-versus-a-copy\n",
      "  df[\"Price_True\"] = self.true_price_keeper[train_test_id].to_numpy()\n"
     ]
    }
   ],
   "source": [
    "year_test_df = byt.trade(model)"
   ]
  },
  {
   "cell_type": "code",
   "execution_count": 382,
   "id": "cfc91221",
   "metadata": {},
   "outputs": [
    {
     "data": {
      "text/html": [
       "<div>\n",
       "<style scoped>\n",
       "    .dataframe tbody tr th:only-of-type {\n",
       "        vertical-align: middle;\n",
       "    }\n",
       "\n",
       "    .dataframe tbody tr th {\n",
       "        vertical-align: top;\n",
       "    }\n",
       "\n",
       "    .dataframe thead th {\n",
       "        text-align: right;\n",
       "    }\n",
       "</style>\n",
       "<table border=\"1\" class=\"dataframe\">\n",
       "  <thead>\n",
       "    <tr style=\"text-align: right;\">\n",
       "      <th></th>\n",
       "      <th>Month</th>\n",
       "      <th>TrainAcc</th>\n",
       "      <th>TestAcc</th>\n",
       "      <th>Income</th>\n",
       "      <th>Potential</th>\n",
       "    </tr>\n",
       "  </thead>\n",
       "  <tbody>\n",
       "    <tr>\n",
       "      <th>0</th>\n",
       "      <td>May_2022</td>\n",
       "      <td>0.516807</td>\n",
       "      <td>0.533333</td>\n",
       "      <td>0.978148</td>\n",
       "      <td>-0.074632</td>\n",
       "    </tr>\n",
       "    <tr>\n",
       "      <th>1</th>\n",
       "      <td>Jun_2022</td>\n",
       "      <td>0.472574</td>\n",
       "      <td>0.562500</td>\n",
       "      <td>0.977978</td>\n",
       "      <td>-0.215529</td>\n",
       "    </tr>\n",
       "    <tr>\n",
       "      <th>2</th>\n",
       "      <td>Jul_2022</td>\n",
       "      <td>0.476793</td>\n",
       "      <td>0.875000</td>\n",
       "      <td>1.289307</td>\n",
       "      <td>1.000000</td>\n",
       "    </tr>\n",
       "    <tr>\n",
       "      <th>3</th>\n",
       "      <td>Aug_2022</td>\n",
       "      <td>0.474576</td>\n",
       "      <td>0.647059</td>\n",
       "      <td>0.921597</td>\n",
       "      <td>-0.699981</td>\n",
       "    </tr>\n",
       "    <tr>\n",
       "      <th>4</th>\n",
       "      <td>Sep_2022</td>\n",
       "      <td>0.443038</td>\n",
       "      <td>0.611111</td>\n",
       "      <td>1.034370</td>\n",
       "      <td>0.225082</td>\n",
       "    </tr>\n",
       "    <tr>\n",
       "      <th>5</th>\n",
       "      <td>Oct_2022</td>\n",
       "      <td>0.489451</td>\n",
       "      <td>0.529412</td>\n",
       "      <td>1.011978</td>\n",
       "      <td>0.065914</td>\n",
       "    </tr>\n",
       "    <tr>\n",
       "      <th>6</th>\n",
       "      <td>Nov_2022</td>\n",
       "      <td>0.461864</td>\n",
       "      <td>0.500000</td>\n",
       "      <td>0.999834</td>\n",
       "      <td>-0.001554</td>\n",
       "    </tr>\n",
       "    <tr>\n",
       "      <th>7</th>\n",
       "      <td>Dec_2022</td>\n",
       "      <td>0.451477</td>\n",
       "      <td>0.411765</td>\n",
       "      <td>0.744636</td>\n",
       "      <td>-3.025827</td>\n",
       "    </tr>\n",
       "    <tr>\n",
       "      <th>8</th>\n",
       "      <td>Jan_2023</td>\n",
       "      <td>0.451477</td>\n",
       "      <td>0.714286</td>\n",
       "      <td>1.134413</td>\n",
       "      <td>0.451173</td>\n",
       "    </tr>\n",
       "    <tr>\n",
       "      <th>9</th>\n",
       "      <td>Feb_2023</td>\n",
       "      <td>0.453390</td>\n",
       "      <td>0.400000</td>\n",
       "      <td>0.917766</td>\n",
       "      <td>-0.345302</td>\n",
       "    </tr>\n",
       "    <tr>\n",
       "      <th>10</th>\n",
       "      <td>Mar_2023</td>\n",
       "      <td>0.444915</td>\n",
       "      <td>0.500000</td>\n",
       "      <td>1.077384</td>\n",
       "      <td>0.572147</td>\n",
       "    </tr>\n",
       "    <tr>\n",
       "      <th>11</th>\n",
       "      <td>Apr_2023</td>\n",
       "      <td>0.427966</td>\n",
       "      <td>0.588235</td>\n",
       "      <td>0.886502</td>\n",
       "      <td>-1.012184</td>\n",
       "    </tr>\n",
       "  </tbody>\n",
       "</table>\n",
       "</div>"
      ],
      "text/plain": [
       "       Month  TrainAcc   TestAcc    Income  Potential\n",
       "0   May_2022  0.516807  0.533333  0.978148  -0.074632\n",
       "1   Jun_2022  0.472574  0.562500  0.977978  -0.215529\n",
       "2   Jul_2022  0.476793  0.875000  1.289307   1.000000\n",
       "3   Aug_2022  0.474576  0.647059  0.921597  -0.699981\n",
       "4   Sep_2022  0.443038  0.611111  1.034370   0.225082\n",
       "5   Oct_2022  0.489451  0.529412  1.011978   0.065914\n",
       "6   Nov_2022  0.461864  0.500000  0.999834  -0.001554\n",
       "7   Dec_2022  0.451477  0.411765  0.744636  -3.025827\n",
       "8   Jan_2023  0.451477  0.714286  1.134413   0.451173\n",
       "9   Feb_2023  0.453390  0.400000  0.917766  -0.345302\n",
       "10  Mar_2023  0.444915  0.500000  1.077384   0.572147\n",
       "11  Apr_2023  0.427966  0.588235  0.886502  -1.012184"
      ]
     },
     "execution_count": 382,
     "metadata": {},
     "output_type": "execute_result"
    }
   ],
   "source": [
    "year_test_df"
   ]
  },
  {
   "cell_type": "code",
   "execution_count": 383,
   "id": "e0fc82e3",
   "metadata": {},
   "outputs": [
    {
     "name": "stdout",
     "output_type": "stream",
     "text": [
      "Year capital multiplier 0.8808527581885512\n"
     ]
    }
   ],
   "source": [
    "from functools import reduce\n",
    "items = list(year_test_df[\"Income\"])\n",
    "reduced_income = reduce(lambda a,b: a*b, items)\n",
    "print(\"Year capital multiplier\", reduced_income)"
   ]
  },
  {
   "cell_type": "code",
   "execution_count": null,
   "id": "bf14fc97",
   "metadata": {},
   "outputs": [],
   "source": []
  },
  {
   "cell_type": "code",
   "execution_count": null,
   "id": "a66d2770",
   "metadata": {},
   "outputs": [],
   "source": []
  },
  {
   "cell_type": "markdown",
   "id": "db1fd631",
   "metadata": {},
   "source": [
    "## Regression data"
   ]
  },
  {
   "cell_type": "code",
   "execution_count": 86,
   "id": "afe36039",
   "metadata": {},
   "outputs": [],
   "source": [
    "from process import *\n",
    "\n",
    "class HistPipeline(DefaultPipeline):        \n",
    "    def _stages(self):\n",
    "        stages=[\n",
    "            # Open processing\n",
    "            DivStage(\"Open\", \"Close\", \"Open_Rel\"),\n",
    "            DropStage([\"Open\"]),\n",
    "            # High processing\n",
    "            DivStage(\"High\", \"Close\", \"High_Rel\"),\n",
    "            DropStage([\"High\"]),\n",
    "            # Low processing\n",
    "            DivStage(\"Low\", \"Close\", \"Low_Rel\"),\n",
    "            DropStage([\"Low\"]),\n",
    "            # AdjClose processing\n",
    "            DropStage([\"Adj Close\"]),\n",
    "            # Volume processing\n",
    "            DropStage([\"Volume\"]),\n",
    "            \n",
    "            # RSI\n",
    "            RSIColStage(\"Close\"),\n",
    "            \n",
    "            LnProfStage(\"Close\"),\n",
    "            WindowStage(self.window_size),\n",
    "            TargetStage(f\"Close_LnProf_{self.window_size-1}\"),\n",
    "\n",
    "#             BinarizeStage(0., \"Target\"),\n",
    "#             DropStage([\"Target\"]),\n",
    "#             TargetStage(\"Target_Bin\"),\n",
    "            \n",
    "            DropStage([f\"Open_Rel_{self.window_size-1}\"]),\n",
    "            DropStage([f\"High_Rel_{self.window_size-1}\"]),\n",
    "            DropStage([f\"Low_Rel_{self.window_size-1}\"]),\n",
    "\n",
    "            DropStage([f\"Close_{i}\" for i in range(self.window_size-2)]),\n",
    "            DropStage([f\"RSI_{self.window_size-1}\"]),\n",
    "            TrainTestStage(test=self.test_coef),\n",
    "            PopStage([f\"Close_{self.window_size-2}\"], self.prev_price_keeper),\n",
    "            PopStage([f\"Close_{self.window_size-1}\"], self.true_price_keeper),\n",
    "            TargetsSeparateStage(),\n",
    "        ]\n",
    "        return stages\n"
   ]
  },
  {
   "cell_type": "code",
   "execution_count": 99,
   "id": "9f3dbe98",
   "metadata": {},
   "outputs": [
    {
     "name": "stdout",
     "output_type": "stream",
     "text": [
      "[*********************100%***********************]  1 of 1 completed\n"
     ]
    },
    {
     "data": {
      "text/html": [
       "<div>\n",
       "<style scoped>\n",
       "    .dataframe tbody tr th:only-of-type {\n",
       "        vertical-align: middle;\n",
       "    }\n",
       "\n",
       "    .dataframe tbody tr th {\n",
       "        vertical-align: top;\n",
       "    }\n",
       "\n",
       "    .dataframe thead th {\n",
       "        text-align: right;\n",
       "    }\n",
       "</style>\n",
       "<table border=\"1\" class=\"dataframe\">\n",
       "  <thead>\n",
       "    <tr style=\"text-align: right;\">\n",
       "      <th></th>\n",
       "      <th>RSI_0</th>\n",
       "      <th>RSI_1</th>\n",
       "      <th>RSI_2</th>\n",
       "      <th>RSI_3</th>\n",
       "      <th>RSI_4</th>\n",
       "      <th>RSI_5</th>\n",
       "      <th>RSI_6</th>\n",
       "      <th>RSI_7</th>\n",
       "      <th>RSI_8</th>\n",
       "      <th>RSI_9</th>\n",
       "      <th>RSI_10</th>\n",
       "      <th>RSI_11</th>\n",
       "      <th>RSI_12</th>\n",
       "      <th>RSI_13</th>\n",
       "    </tr>\n",
       "  </thead>\n",
       "  <tbody>\n",
       "    <tr>\n",
       "      <th>0</th>\n",
       "      <td>1.000000</td>\n",
       "      <td>0.692130</td>\n",
       "      <td>0.724213</td>\n",
       "      <td>0.818532</td>\n",
       "      <td>0.789115</td>\n",
       "      <td>0.730323</td>\n",
       "      <td>0.651570</td>\n",
       "      <td>0.640492</td>\n",
       "      <td>0.720705</td>\n",
       "      <td>0.765374</td>\n",
       "      <td>0.846111</td>\n",
       "      <td>0.729772</td>\n",
       "      <td>0.732000</td>\n",
       "      <td>0.610258</td>\n",
       "    </tr>\n",
       "    <tr>\n",
       "      <th>1</th>\n",
       "      <td>0.692130</td>\n",
       "      <td>0.724213</td>\n",
       "      <td>0.818532</td>\n",
       "      <td>0.789115</td>\n",
       "      <td>0.730323</td>\n",
       "      <td>0.651570</td>\n",
       "      <td>0.640492</td>\n",
       "      <td>0.720705</td>\n",
       "      <td>0.765374</td>\n",
       "      <td>0.846111</td>\n",
       "      <td>0.729772</td>\n",
       "      <td>0.732000</td>\n",
       "      <td>0.610258</td>\n",
       "      <td>0.540632</td>\n",
       "    </tr>\n",
       "    <tr>\n",
       "      <th>2</th>\n",
       "      <td>0.724213</td>\n",
       "      <td>0.818532</td>\n",
       "      <td>0.789115</td>\n",
       "      <td>0.730323</td>\n",
       "      <td>0.651570</td>\n",
       "      <td>0.640492</td>\n",
       "      <td>0.720705</td>\n",
       "      <td>0.765374</td>\n",
       "      <td>0.846111</td>\n",
       "      <td>0.729772</td>\n",
       "      <td>0.732000</td>\n",
       "      <td>0.610258</td>\n",
       "      <td>0.540632</td>\n",
       "      <td>0.563949</td>\n",
       "    </tr>\n",
       "    <tr>\n",
       "      <th>3</th>\n",
       "      <td>0.818532</td>\n",
       "      <td>0.789115</td>\n",
       "      <td>0.730323</td>\n",
       "      <td>0.651570</td>\n",
       "      <td>0.640492</td>\n",
       "      <td>0.720705</td>\n",
       "      <td>0.765374</td>\n",
       "      <td>0.846111</td>\n",
       "      <td>0.729772</td>\n",
       "      <td>0.732000</td>\n",
       "      <td>0.610258</td>\n",
       "      <td>0.540632</td>\n",
       "      <td>0.563949</td>\n",
       "      <td>0.569492</td>\n",
       "    </tr>\n",
       "    <tr>\n",
       "      <th>4</th>\n",
       "      <td>0.789115</td>\n",
       "      <td>0.730323</td>\n",
       "      <td>0.651570</td>\n",
       "      <td>0.640492</td>\n",
       "      <td>0.720705</td>\n",
       "      <td>0.765374</td>\n",
       "      <td>0.846111</td>\n",
       "      <td>0.729772</td>\n",
       "      <td>0.732000</td>\n",
       "      <td>0.610258</td>\n",
       "      <td>0.540632</td>\n",
       "      <td>0.563949</td>\n",
       "      <td>0.569492</td>\n",
       "      <td>0.590440</td>\n",
       "    </tr>\n",
       "    <tr>\n",
       "      <th>...</th>\n",
       "      <td>...</td>\n",
       "      <td>...</td>\n",
       "      <td>...</td>\n",
       "      <td>...</td>\n",
       "      <td>...</td>\n",
       "      <td>...</td>\n",
       "      <td>...</td>\n",
       "      <td>...</td>\n",
       "      <td>...</td>\n",
       "      <td>...</td>\n",
       "      <td>...</td>\n",
       "      <td>...</td>\n",
       "      <td>...</td>\n",
       "      <td>...</td>\n",
       "    </tr>\n",
       "    <tr>\n",
       "      <th>2223</th>\n",
       "      <td>0.454801</td>\n",
       "      <td>0.406752</td>\n",
       "      <td>0.377752</td>\n",
       "      <td>0.431273</td>\n",
       "      <td>0.482967</td>\n",
       "      <td>0.521306</td>\n",
       "      <td>0.559221</td>\n",
       "      <td>0.576096</td>\n",
       "      <td>0.643892</td>\n",
       "      <td>0.648161</td>\n",
       "      <td>0.660803</td>\n",
       "      <td>0.655188</td>\n",
       "      <td>0.718875</td>\n",
       "      <td>0.724099</td>\n",
       "    </tr>\n",
       "    <tr>\n",
       "      <th>2224</th>\n",
       "      <td>0.406752</td>\n",
       "      <td>0.377752</td>\n",
       "      <td>0.431273</td>\n",
       "      <td>0.482967</td>\n",
       "      <td>0.521306</td>\n",
       "      <td>0.559221</td>\n",
       "      <td>0.576096</td>\n",
       "      <td>0.643892</td>\n",
       "      <td>0.648161</td>\n",
       "      <td>0.660803</td>\n",
       "      <td>0.655188</td>\n",
       "      <td>0.718875</td>\n",
       "      <td>0.724099</td>\n",
       "      <td>0.713787</td>\n",
       "    </tr>\n",
       "    <tr>\n",
       "      <th>2225</th>\n",
       "      <td>0.377752</td>\n",
       "      <td>0.431273</td>\n",
       "      <td>0.482967</td>\n",
       "      <td>0.521306</td>\n",
       "      <td>0.559221</td>\n",
       "      <td>0.576096</td>\n",
       "      <td>0.643892</td>\n",
       "      <td>0.648161</td>\n",
       "      <td>0.660803</td>\n",
       "      <td>0.655188</td>\n",
       "      <td>0.718875</td>\n",
       "      <td>0.724099</td>\n",
       "      <td>0.713787</td>\n",
       "      <td>0.683019</td>\n",
       "    </tr>\n",
       "    <tr>\n",
       "      <th>2226</th>\n",
       "      <td>0.431273</td>\n",
       "      <td>0.482967</td>\n",
       "      <td>0.521306</td>\n",
       "      <td>0.559221</td>\n",
       "      <td>0.576096</td>\n",
       "      <td>0.643892</td>\n",
       "      <td>0.648161</td>\n",
       "      <td>0.660803</td>\n",
       "      <td>0.655188</td>\n",
       "      <td>0.718875</td>\n",
       "      <td>0.724099</td>\n",
       "      <td>0.713787</td>\n",
       "      <td>0.683019</td>\n",
       "      <td>0.689173</td>\n",
       "    </tr>\n",
       "    <tr>\n",
       "      <th>2227</th>\n",
       "      <td>0.482967</td>\n",
       "      <td>0.521306</td>\n",
       "      <td>0.559221</td>\n",
       "      <td>0.576096</td>\n",
       "      <td>0.643892</td>\n",
       "      <td>0.648161</td>\n",
       "      <td>0.660803</td>\n",
       "      <td>0.655188</td>\n",
       "      <td>0.718875</td>\n",
       "      <td>0.724099</td>\n",
       "      <td>0.713787</td>\n",
       "      <td>0.683019</td>\n",
       "      <td>0.689173</td>\n",
       "      <td>0.737039</td>\n",
       "    </tr>\n",
       "  </tbody>\n",
       "</table>\n",
       "<p>2228 rows × 14 columns</p>\n",
       "</div>"
      ],
      "text/plain": [
       "         RSI_0     RSI_1     RSI_2     RSI_3     RSI_4     RSI_5     RSI_6  \\\n",
       "0     1.000000  0.692130  0.724213  0.818532  0.789115  0.730323  0.651570   \n",
       "1     0.692130  0.724213  0.818532  0.789115  0.730323  0.651570  0.640492   \n",
       "2     0.724213  0.818532  0.789115  0.730323  0.651570  0.640492  0.720705   \n",
       "3     0.818532  0.789115  0.730323  0.651570  0.640492  0.720705  0.765374   \n",
       "4     0.789115  0.730323  0.651570  0.640492  0.720705  0.765374  0.846111   \n",
       "...        ...       ...       ...       ...       ...       ...       ...   \n",
       "2223  0.454801  0.406752  0.377752  0.431273  0.482967  0.521306  0.559221   \n",
       "2224  0.406752  0.377752  0.431273  0.482967  0.521306  0.559221  0.576096   \n",
       "2225  0.377752  0.431273  0.482967  0.521306  0.559221  0.576096  0.643892   \n",
       "2226  0.431273  0.482967  0.521306  0.559221  0.576096  0.643892  0.648161   \n",
       "2227  0.482967  0.521306  0.559221  0.576096  0.643892  0.648161  0.660803   \n",
       "\n",
       "         RSI_7     RSI_8     RSI_9    RSI_10    RSI_11    RSI_12    RSI_13  \n",
       "0     0.640492  0.720705  0.765374  0.846111  0.729772  0.732000  0.610258  \n",
       "1     0.720705  0.765374  0.846111  0.729772  0.732000  0.610258  0.540632  \n",
       "2     0.765374  0.846111  0.729772  0.732000  0.610258  0.540632  0.563949  \n",
       "3     0.846111  0.729772  0.732000  0.610258  0.540632  0.563949  0.569492  \n",
       "4     0.729772  0.732000  0.610258  0.540632  0.563949  0.569492  0.590440  \n",
       "...        ...       ...       ...       ...       ...       ...       ...  \n",
       "2223  0.576096  0.643892  0.648161  0.660803  0.655188  0.718875  0.724099  \n",
       "2224  0.643892  0.648161  0.660803  0.655188  0.718875  0.724099  0.713787  \n",
       "2225  0.648161  0.660803  0.655188  0.718875  0.724099  0.713787  0.683019  \n",
       "2226  0.660803  0.655188  0.718875  0.724099  0.713787  0.683019  0.689173  \n",
       "2227  0.655188  0.718875  0.724099  0.713787  0.683019  0.689173  0.737039  \n",
       "\n",
       "[2228 rows x 14 columns]"
      ]
     },
     "execution_count": 99,
     "metadata": {},
     "output_type": "execute_result"
    }
   ],
   "source": [
    "tickers = [\"TSLA\"]# \"AAPL\", \"MSFT\", \"AMZN\", \"GOOGL\"]\n",
    "# CNN model won't be re-learned foreach case separately, so,\n",
    "# it should know the year test data\n",
    "# For \"5y\" test_coef is 0.22\n",
    "window_size = 15\n",
    "\n",
    "def_pipe = HistPipeline(tickers, period=\"10y\", test_coef=0.22/2, window_size=window_size)\n",
    "X_train, y_train, X_test, y_test = def_pipe.get_data()\n",
    "\n",
    "X_train[[f\"RSI_{i}\" for i in range(14)]] /= 100\n",
    "X_test[[f\"RSI_{i}\" for i in range(14)]] /= 100\n",
    "X_train[[f\"RSI_{i}\" for i in range(14)]]"
   ]
  },
  {
   "cell_type": "code",
   "execution_count": 100,
   "id": "c9dc47fa",
   "metadata": {},
   "outputs": [
    {
     "data": {
      "text/html": [
       "<div>\n",
       "<style scoped>\n",
       "    .dataframe tbody tr th:only-of-type {\n",
       "        vertical-align: middle;\n",
       "    }\n",
       "\n",
       "    .dataframe tbody tr th {\n",
       "        vertical-align: top;\n",
       "    }\n",
       "\n",
       "    .dataframe thead th {\n",
       "        text-align: right;\n",
       "    }\n",
       "</style>\n",
       "<table border=\"1\" class=\"dataframe\">\n",
       "  <thead>\n",
       "    <tr style=\"text-align: right;\">\n",
       "      <th></th>\n",
       "      <th>Target</th>\n",
       "    </tr>\n",
       "  </thead>\n",
       "  <tbody>\n",
       "    <tr>\n",
       "      <th>0</th>\n",
       "      <td>-0.054334</td>\n",
       "    </tr>\n",
       "    <tr>\n",
       "      <th>1</th>\n",
       "      <td>0.024010</td>\n",
       "    </tr>\n",
       "    <tr>\n",
       "      <th>2</th>\n",
       "      <td>0.005573</td>\n",
       "    </tr>\n",
       "    <tr>\n",
       "      <th>3</th>\n",
       "      <td>0.020549</td>\n",
       "    </tr>\n",
       "    <tr>\n",
       "      <th>4</th>\n",
       "      <td>0.047052</td>\n",
       "    </tr>\n",
       "    <tr>\n",
       "      <th>...</th>\n",
       "      <td>...</td>\n",
       "    </tr>\n",
       "    <tr>\n",
       "      <th>2223</th>\n",
       "      <td>-0.005088</td>\n",
       "    </tr>\n",
       "    <tr>\n",
       "      <th>2224</th>\n",
       "      <td>-0.015095</td>\n",
       "    </tr>\n",
       "    <tr>\n",
       "      <th>2225</th>\n",
       "      <td>0.006466</td>\n",
       "    </tr>\n",
       "    <tr>\n",
       "      <th>2226</th>\n",
       "      <td>0.054596</td>\n",
       "    </tr>\n",
       "    <tr>\n",
       "      <th>2227</th>\n",
       "      <td>-0.048465</td>\n",
       "    </tr>\n",
       "  </tbody>\n",
       "</table>\n",
       "<p>2228 rows × 1 columns</p>\n",
       "</div>"
      ],
      "text/plain": [
       "        Target\n",
       "0    -0.054334\n",
       "1     0.024010\n",
       "2     0.005573\n",
       "3     0.020549\n",
       "4     0.047052\n",
       "...        ...\n",
       "2223 -0.005088\n",
       "2224 -0.015095\n",
       "2225  0.006466\n",
       "2226  0.054596\n",
       "2227 -0.048465\n",
       "\n",
       "[2228 rows x 1 columns]"
      ]
     },
     "execution_count": 100,
     "metadata": {},
     "output_type": "execute_result"
    }
   ],
   "source": [
    "y_train"
   ]
  },
  {
   "cell_type": "code",
   "execution_count": 101,
   "id": "3069214e",
   "metadata": {},
   "outputs": [],
   "source": [
    "CHANNELS = 5\n",
    "\n",
    "import torch\n",
    "from torch.utils.data import Dataset\n",
    "from torchvision import datasets\n",
    "from torchvision.transforms import ToTensor\n",
    "import matplotlib.pyplot as plt\n",
    "\n",
    "class CustomStockDataset(Dataset):\n",
    "    def __init__(self, X, y):\n",
    "        self.X = np.array(X).astype(np.float32)\n",
    "        self.y = np.array(y).astype(np.float32).flatten()\n",
    "\n",
    "    def __len__(self):\n",
    "        return len(self.X)\n",
    "\n",
    "    def __getitem__(self, idx):\n",
    "        return self.X[idx], self.y[idx]\n",
    "\n",
    "training_data = CustomStockDataset(X_train, y_train)\n",
    "test_data = CustomStockDataset(X_test[:31], y_test[:31])\n",
    "\n",
    "from torch.utils.data import DataLoader\n",
    "\n",
    "train_dataloader = DataLoader(training_data, batch_size=8, shuffle=True, drop_last=True)\n",
    "test_dataloader = DataLoader(test_data, batch_size=8, shuffle=True, drop_last=True)"
   ]
  },
  {
   "cell_type": "code",
   "execution_count": 102,
   "id": "88ad14c6",
   "metadata": {},
   "outputs": [
    {
     "data": {
      "text/plain": [
       "((2228, 70), (275, 70))"
      ]
     },
     "execution_count": 102,
     "metadata": {},
     "output_type": "execute_result"
    }
   ],
   "source": [
    "X_train.shape, X_test.shape"
   ]
  },
  {
   "cell_type": "code",
   "execution_count": 103,
   "id": "ff485963",
   "metadata": {},
   "outputs": [
    {
     "name": "stdout",
     "output_type": "stream",
     "text": [
      "----------------------------------------------------------------\n",
      "        Layer (type)               Output Shape         Param #\n",
      "================================================================\n",
      "            Conv1d-1              [-1, 128, 14]           2,048\n",
      " AdaptiveAvgPool1d-2               [-1, 128, 1]               0\n",
      " AdaptiveMaxPool1d-3               [-1, 128, 1]               0\n",
      "           Flatten-4                  [-1, 256]               0\n",
      "              ReLU-5                  [-1, 256]               0\n",
      "       BatchNorm1d-6                  [-1, 256]             512\n",
      "            Linear-7                    [-1, 1]             257\n",
      "================================================================\n",
      "Total params: 2,817\n",
      "Trainable params: 2,817\n",
      "Non-trainable params: 0\n",
      "----------------------------------------------------------------\n",
      "Input size (MB): 0.00\n",
      "Forward/backward pass size (MB): 0.02\n",
      "Params size (MB): 0.01\n",
      "Estimated Total Size (MB): 0.03\n",
      "----------------------------------------------------------------\n"
     ]
    }
   ],
   "source": [
    "import torch.nn as nn\n",
    "import torch.nn.functional as F\n",
    "from torchsummary import summary\n",
    "\n",
    "class forecasting_model(nn.Module):\n",
    "    \n",
    "    def __init__(self, input_features, output_features, print_shapes = False):\n",
    "        super().__init__()\n",
    "        self.conv    = nn.Conv1d(in_channels = input_features, out_channels = 128, kernel_size = 3, padding = 1)\n",
    "        self.pool1   = nn.AdaptiveAvgPool1d(1)\n",
    "        self.pool2   = nn.AdaptiveMaxPool1d(1)\n",
    "        self.flatten = nn.Flatten()\n",
    "        self.bn      = nn.BatchNorm1d(num_features = 2 * 128)\n",
    "        self.relu    = nn.ReLU()\n",
    "        self.fc      = nn.Linear(in_features = 2 * 128, out_features = output_features)\n",
    "        self.print_shapes = print_shapes\n",
    "        \n",
    "    def forward(self, x):\n",
    "        \n",
    "        if self.print_shapes: print(f\"{'Input Batch Shape':<25} {x.shape}\")\n",
    "        \n",
    "        conv_op = self.conv(x)\n",
    "        if self.print_shapes: print(f\"{'Conv Output Shape':<25} {conv_op.shape}\")\n",
    "        \n",
    "        avg_pool = self.pool1(conv_op)\n",
    "        max_pool = self.pool2(conv_op)\n",
    "        final_pool = torch.cat([avg_pool, max_pool], dim = -1)\n",
    "        flattened_op = self.flatten(final_pool)\n",
    "        if self.print_shapes: print(f\"{'Pooled Output Shape':<25} {flattened_op.shape}\")\n",
    "        \n",
    "        final_op = self.fc(self.bn(self.relu(flattened_op)))\n",
    "        if self.print_shapes: print(f\"{'Output Shape':<25} {final_op.shape}\")\n",
    "            \n",
    "        return final_op\n",
    "    \n",
    "torch_model = forecasting_model(CHANNELS, 1, False)\n",
    "summary(torch_model, (CHANNELS, 14))"
   ]
  },
  {
   "cell_type": "code",
   "execution_count": 85,
   "id": "51364b59",
   "metadata": {},
   "outputs": [
    {
     "ename": "AttributeError",
     "evalue": "'tuple' object has no attribute 'size'",
     "output_type": "error",
     "traceback": [
      "\u001b[1;31m---------------------------------------------------------------------------\u001b[0m",
      "\u001b[1;31mAttributeError\u001b[0m                            Traceback (most recent call last)",
      "Cell \u001b[1;32mIn[85], line 19\u001b[0m\n\u001b[0;32m     16\u001b[0m         \u001b[38;5;28;01mreturn\u001b[39;00m predictions[\u001b[38;5;241m-\u001b[39m\u001b[38;5;241m1\u001b[39m]\n\u001b[0;32m     18\u001b[0m torch_model \u001b[38;5;241m=\u001b[39m LSTM(\u001b[38;5;241m70\u001b[39m)\n\u001b[1;32m---> 19\u001b[0m \u001b[43msummary\u001b[49m\u001b[43m(\u001b[49m\u001b[43mtorch_model\u001b[49m\u001b[43m,\u001b[49m\u001b[43m \u001b[49m\u001b[43m(\u001b[49m\u001b[43mCHANNELS\u001b[49m\u001b[43m,\u001b[49m\u001b[43m \u001b[49m\u001b[38;5;241;43m14\u001b[39;49m\u001b[43m)\u001b[49m\u001b[43m)\u001b[49m\n",
      "File \u001b[1;32m~\\AppData\\Local\\Programs\\Python\\Python310\\lib\\site-packages\\torchsummary\\torchsummary.py:72\u001b[0m, in \u001b[0;36msummary\u001b[1;34m(model, input_size, batch_size, device)\u001b[0m\n\u001b[0;32m     68\u001b[0m model\u001b[38;5;241m.\u001b[39mapply(register_hook)\n\u001b[0;32m     70\u001b[0m \u001b[38;5;66;03m# make a forward pass\u001b[39;00m\n\u001b[0;32m     71\u001b[0m \u001b[38;5;66;03m# print(x.shape)\u001b[39;00m\n\u001b[1;32m---> 72\u001b[0m \u001b[43mmodel\u001b[49m\u001b[43m(\u001b[49m\u001b[38;5;241;43m*\u001b[39;49m\u001b[43mx\u001b[49m\u001b[43m)\u001b[49m\n\u001b[0;32m     74\u001b[0m \u001b[38;5;66;03m# remove these hooks\u001b[39;00m\n\u001b[0;32m     75\u001b[0m \u001b[38;5;28;01mfor\u001b[39;00m h \u001b[38;5;129;01min\u001b[39;00m hooks:\n",
      "File \u001b[1;32m~\\AppData\\Local\\Programs\\Python\\Python310\\lib\\site-packages\\torch\\nn\\modules\\module.py:1501\u001b[0m, in \u001b[0;36mModule._call_impl\u001b[1;34m(self, *args, **kwargs)\u001b[0m\n\u001b[0;32m   1496\u001b[0m \u001b[38;5;66;03m# If we don't have any hooks, we want to skip the rest of the logic in\u001b[39;00m\n\u001b[0;32m   1497\u001b[0m \u001b[38;5;66;03m# this function, and just call forward.\u001b[39;00m\n\u001b[0;32m   1498\u001b[0m \u001b[38;5;28;01mif\u001b[39;00m \u001b[38;5;129;01mnot\u001b[39;00m (\u001b[38;5;28mself\u001b[39m\u001b[38;5;241m.\u001b[39m_backward_hooks \u001b[38;5;129;01mor\u001b[39;00m \u001b[38;5;28mself\u001b[39m\u001b[38;5;241m.\u001b[39m_backward_pre_hooks \u001b[38;5;129;01mor\u001b[39;00m \u001b[38;5;28mself\u001b[39m\u001b[38;5;241m.\u001b[39m_forward_hooks \u001b[38;5;129;01mor\u001b[39;00m \u001b[38;5;28mself\u001b[39m\u001b[38;5;241m.\u001b[39m_forward_pre_hooks\n\u001b[0;32m   1499\u001b[0m         \u001b[38;5;129;01mor\u001b[39;00m _global_backward_pre_hooks \u001b[38;5;129;01mor\u001b[39;00m _global_backward_hooks\n\u001b[0;32m   1500\u001b[0m         \u001b[38;5;129;01mor\u001b[39;00m _global_forward_hooks \u001b[38;5;129;01mor\u001b[39;00m _global_forward_pre_hooks):\n\u001b[1;32m-> 1501\u001b[0m     \u001b[38;5;28;01mreturn\u001b[39;00m forward_call(\u001b[38;5;241m*\u001b[39margs, \u001b[38;5;241m*\u001b[39m\u001b[38;5;241m*\u001b[39mkwargs)\n\u001b[0;32m   1502\u001b[0m \u001b[38;5;66;03m# Do not call functions when jit is used\u001b[39;00m\n\u001b[0;32m   1503\u001b[0m full_backward_hooks, non_full_backward_hooks \u001b[38;5;241m=\u001b[39m [], []\n",
      "Cell \u001b[1;32mIn[85], line 14\u001b[0m, in \u001b[0;36mLSTM.forward\u001b[1;34m(self, input_seq)\u001b[0m\n\u001b[0;32m     13\u001b[0m \u001b[38;5;28;01mdef\u001b[39;00m \u001b[38;5;21mforward\u001b[39m(\u001b[38;5;28mself\u001b[39m, input_seq):\n\u001b[1;32m---> 14\u001b[0m     lstm_out, \u001b[38;5;28mself\u001b[39m\u001b[38;5;241m.\u001b[39mhidden_cell \u001b[38;5;241m=\u001b[39m \u001b[38;5;28;43mself\u001b[39;49m\u001b[38;5;241;43m.\u001b[39;49m\u001b[43mlstm\u001b[49m\u001b[43m(\u001b[49m\u001b[43minput_seq\u001b[49m\u001b[38;5;241;43m.\u001b[39;49m\u001b[43mview\u001b[49m\u001b[43m(\u001b[49m\u001b[38;5;28;43mlen\u001b[39;49m\u001b[43m(\u001b[49m\u001b[43minput_seq\u001b[49m\u001b[43m)\u001b[49m\u001b[43m \u001b[49m\u001b[43m,\u001b[49m\u001b[38;5;241;43m1\u001b[39;49m\u001b[43m,\u001b[49m\u001b[43m \u001b[49m\u001b[38;5;241;43m-\u001b[39;49m\u001b[38;5;241;43m1\u001b[39;49m\u001b[43m)\u001b[49m\u001b[43m,\u001b[49m\u001b[43m \u001b[49m\u001b[38;5;28;43mself\u001b[39;49m\u001b[38;5;241;43m.\u001b[39;49m\u001b[43mhidden_cell\u001b[49m\u001b[43m)\u001b[49m\n\u001b[0;32m     15\u001b[0m     predictions \u001b[38;5;241m=\u001b[39m \u001b[38;5;28mself\u001b[39m\u001b[38;5;241m.\u001b[39mlinear(lstm_out\u001b[38;5;241m.\u001b[39mview(\u001b[38;5;28mlen\u001b[39m(input_seq), \u001b[38;5;241m-\u001b[39m\u001b[38;5;241m1\u001b[39m))\n\u001b[0;32m     16\u001b[0m     \u001b[38;5;28;01mreturn\u001b[39;00m predictions[\u001b[38;5;241m-\u001b[39m\u001b[38;5;241m1\u001b[39m]\n",
      "File \u001b[1;32m~\\AppData\\Local\\Programs\\Python\\Python310\\lib\\site-packages\\torch\\nn\\modules\\module.py:1547\u001b[0m, in \u001b[0;36mModule._call_impl\u001b[1;34m(self, *args, **kwargs)\u001b[0m\n\u001b[0;32m   1545\u001b[0m     hook_result \u001b[38;5;241m=\u001b[39m hook(\u001b[38;5;28mself\u001b[39m, args, kwargs, result)\n\u001b[0;32m   1546\u001b[0m \u001b[38;5;28;01melse\u001b[39;00m:\n\u001b[1;32m-> 1547\u001b[0m     hook_result \u001b[38;5;241m=\u001b[39m \u001b[43mhook\u001b[49m\u001b[43m(\u001b[49m\u001b[38;5;28;43mself\u001b[39;49m\u001b[43m,\u001b[49m\u001b[43m \u001b[49m\u001b[43margs\u001b[49m\u001b[43m,\u001b[49m\u001b[43m \u001b[49m\u001b[43mresult\u001b[49m\u001b[43m)\u001b[49m\n\u001b[0;32m   1549\u001b[0m \u001b[38;5;28;01mif\u001b[39;00m hook_result \u001b[38;5;129;01mis\u001b[39;00m \u001b[38;5;129;01mnot\u001b[39;00m \u001b[38;5;28;01mNone\u001b[39;00m:\n\u001b[0;32m   1550\u001b[0m     result \u001b[38;5;241m=\u001b[39m hook_result\n",
      "File \u001b[1;32m~\\AppData\\Local\\Programs\\Python\\Python310\\lib\\site-packages\\torchsummary\\torchsummary.py:22\u001b[0m, in \u001b[0;36msummary.<locals>.register_hook.<locals>.hook\u001b[1;34m(module, input, output)\u001b[0m\n\u001b[0;32m     20\u001b[0m summary[m_key][\u001b[38;5;124m\"\u001b[39m\u001b[38;5;124minput_shape\u001b[39m\u001b[38;5;124m\"\u001b[39m][\u001b[38;5;241m0\u001b[39m] \u001b[38;5;241m=\u001b[39m batch_size\n\u001b[0;32m     21\u001b[0m \u001b[38;5;28;01mif\u001b[39;00m \u001b[38;5;28misinstance\u001b[39m(output, (\u001b[38;5;28mlist\u001b[39m, \u001b[38;5;28mtuple\u001b[39m)):\n\u001b[1;32m---> 22\u001b[0m     summary[m_key][\u001b[38;5;124m\"\u001b[39m\u001b[38;5;124moutput_shape\u001b[39m\u001b[38;5;124m\"\u001b[39m] \u001b[38;5;241m=\u001b[39m [\n\u001b[0;32m     23\u001b[0m         [\u001b[38;5;241m-\u001b[39m\u001b[38;5;241m1\u001b[39m] \u001b[38;5;241m+\u001b[39m \u001b[38;5;28mlist\u001b[39m(o\u001b[38;5;241m.\u001b[39msize())[\u001b[38;5;241m1\u001b[39m:] \u001b[38;5;28;01mfor\u001b[39;00m o \u001b[38;5;129;01min\u001b[39;00m output\n\u001b[0;32m     24\u001b[0m     ]\n\u001b[0;32m     25\u001b[0m \u001b[38;5;28;01melse\u001b[39;00m:\n\u001b[0;32m     26\u001b[0m     summary[m_key][\u001b[38;5;124m\"\u001b[39m\u001b[38;5;124moutput_shape\u001b[39m\u001b[38;5;124m\"\u001b[39m] \u001b[38;5;241m=\u001b[39m \u001b[38;5;28mlist\u001b[39m(output\u001b[38;5;241m.\u001b[39msize())\n",
      "File \u001b[1;32m~\\AppData\\Local\\Programs\\Python\\Python310\\lib\\site-packages\\torchsummary\\torchsummary.py:23\u001b[0m, in \u001b[0;36m<listcomp>\u001b[1;34m(.0)\u001b[0m\n\u001b[0;32m     20\u001b[0m summary[m_key][\u001b[38;5;124m\"\u001b[39m\u001b[38;5;124minput_shape\u001b[39m\u001b[38;5;124m\"\u001b[39m][\u001b[38;5;241m0\u001b[39m] \u001b[38;5;241m=\u001b[39m batch_size\n\u001b[0;32m     21\u001b[0m \u001b[38;5;28;01mif\u001b[39;00m \u001b[38;5;28misinstance\u001b[39m(output, (\u001b[38;5;28mlist\u001b[39m, \u001b[38;5;28mtuple\u001b[39m)):\n\u001b[0;32m     22\u001b[0m     summary[m_key][\u001b[38;5;124m\"\u001b[39m\u001b[38;5;124moutput_shape\u001b[39m\u001b[38;5;124m\"\u001b[39m] \u001b[38;5;241m=\u001b[39m [\n\u001b[1;32m---> 23\u001b[0m         [\u001b[38;5;241m-\u001b[39m\u001b[38;5;241m1\u001b[39m] \u001b[38;5;241m+\u001b[39m \u001b[38;5;28mlist\u001b[39m(\u001b[43mo\u001b[49m\u001b[38;5;241;43m.\u001b[39;49m\u001b[43msize\u001b[49m())[\u001b[38;5;241m1\u001b[39m:] \u001b[38;5;28;01mfor\u001b[39;00m o \u001b[38;5;129;01min\u001b[39;00m output\n\u001b[0;32m     24\u001b[0m     ]\n\u001b[0;32m     25\u001b[0m \u001b[38;5;28;01melse\u001b[39;00m:\n\u001b[0;32m     26\u001b[0m     summary[m_key][\u001b[38;5;124m\"\u001b[39m\u001b[38;5;124moutput_shape\u001b[39m\u001b[38;5;124m\"\u001b[39m] \u001b[38;5;241m=\u001b[39m \u001b[38;5;28mlist\u001b[39m(output\u001b[38;5;241m.\u001b[39msize())\n",
      "\u001b[1;31mAttributeError\u001b[0m: 'tuple' object has no attribute 'size'"
     ]
    }
   ],
   "source": [
    "class LSTM(nn.Module):\n",
    "    def __init__(self, input_size=1, hidden_layer_size=100, output_size=1):\n",
    "        super().__init__()\n",
    "        self.hidden_layer_size = hidden_layer_size\n",
    "\n",
    "        self.lstm = nn.LSTM(input_size, hidden_layer_size)\n",
    "\n",
    "        self.linear = nn.Linear(hidden_layer_size, output_size)\n",
    "\n",
    "        self.hidden_cell = (torch.zeros(1,1,self.hidden_layer_size),\n",
    "                            torch.zeros(1,1,self.hidden_layer_size))\n",
    "\n",
    "    def forward(self, input_seq):\n",
    "        lstm_out, self.hidden_cell = self.lstm(input_seq.view(len(input_seq) ,1, -1), self.hidden_cell)\n",
    "        predictions = self.linear(lstm_out.view(len(input_seq), -1))\n",
    "        return predictions[-1]\n",
    "    \n",
    "torch_model = LSTM(70)\n",
    "summary(torch_model, (CHANNELS, 14))"
   ]
  },
  {
   "cell_type": "code",
   "execution_count": 104,
   "id": "a3941bb9",
   "metadata": {},
   "outputs": [],
   "source": [
    "import torch.optim as optim\n",
    "\n",
    "# criterion = nn.CrossEntropyLoss()\n",
    "# optimizer = optim.SGD(torch_model.parameters(), lr = 3e-3, momentum=0.9)\n",
    "\n",
    "# for regression\n",
    "criterion = nn.MSELoss()\n",
    "optimizer = torch.optim.Adam(torch_model.parameters(), lr=0.001)\n",
    "\n",
    "train_loss = []\n",
    "test_acc = []\n",
    "best_model = None\n",
    "best_acc = 0"
   ]
  },
  {
   "cell_type": "code",
   "execution_count": 105,
   "id": "19b7f04b",
   "metadata": {},
   "outputs": [],
   "source": [
    "import copy"
   ]
  },
  {
   "cell_type": "code",
   "execution_count": 106,
   "id": "c23df669",
   "metadata": {},
   "outputs": [
    {
     "name": "stderr",
     "output_type": "stream",
     "text": [
      "C:\\Users\\valer\\AppData\\Local\\Programs\\Python\\Python310\\lib\\site-packages\\torch\\nn\\modules\\loss.py:536: UserWarning: Using a target size (torch.Size([8])) that is different to the input size (torch.Size([8, 1])). This will likely lead to incorrect results due to broadcasting. Please ensure they have the same size.\n",
      "  return F.mse_loss(input, target, reduction=self.reduction)\n"
     ]
    },
    {
     "name": "stdout",
     "output_type": "stream",
     "text": [
      "[21,     3] loss: 0.001 | test acc: 0.387"
     ]
    },
    {
     "data": {
      "image/png": "[encoded data removed]",
      "text/plain": [
       "<Figure size 640x480 with 1 Axes>"
      ]
     },
     "metadata": {},
     "output_type": "display_data"
    },
    {
     "name": "stdout",
     "output_type": "stream",
     "text": [
      "Finished Training\n"
     ]
    }
   ],
   "source": [
    "for epoch in range(20+1):  # loop over the dataset multiple times\n",
    "\n",
    "    running_loss = 0.0\n",
    "    for i, data in enumerate(train_dataloader, 0):\n",
    "        # get the inputs; data is a list of [inputs, labels]\n",
    "        inputs, labels = data\n",
    "\n",
    "        # zero the parameter gradients\n",
    "        optimizer.zero_grad()\n",
    "\n",
    "        # forward + backward + optimize\n",
    "        # outputs = model(inputs.reshape([inputs.shape[0], 2, 14]))\n",
    "        outputs = torch_model(inputs.reshape([inputs.shape[0], CHANNELS, 14]))\n",
    "#         print(outputs, labels)\n",
    "        loss = criterion(outputs, labels)\n",
    "#         print(loss)\n",
    "        loss.backward()\n",
    "        optimizer.step()\n",
    "\n",
    "        # print statistics\n",
    "        running_loss += loss.item()\n",
    "        step = len(train_dataloader)\n",
    "        if i % step == step - 1: \n",
    "            train_loss.append(running_loss / step)\n",
    "\n",
    "            with torch.no_grad():\n",
    "                predicred_true = 0\n",
    "                for i, data in enumerate(test_dataloader, 0):\n",
    "                    # get the inputs; data is a list of [inputs, labels]\n",
    "                    inputs, labels = data\n",
    "                    outputs = torch_model(inputs.reshape([inputs.shape[0], CHANNELS, 14]))\n",
    "                    labels[labels>=0] = 1\n",
    "                    labels[labels<0] = 0\n",
    "                    labels = labels.long().flatten()\n",
    "                    outputs[outputs>=0] = 1\n",
    "                    outputs[outputs<0] = 0\n",
    "                    outputs = outputs.long().flatten()\n",
    "#                     print(outputs, labels)\n",
    "                    predicred_true += int(sum(outputs == labels))\n",
    "#                     print(predicred_true)\n",
    "\n",
    "#                 print(f\"test acc: {predicred_true/ len(test_dataloader.dataset):.3f}\", end=\"\")\n",
    "                test_acc.append(predicred_true/ len(test_dataloader.dataset))\n",
    "            print(f'\\r[{epoch + 1}, {i + 1:5d}] loss: {running_loss / step:.3f} | test acc: {predicred_true/ len(test_dataloader.dataset):.3f}', end='', flush=True)\n",
    "            running_loss = 0.0\n",
    "            \n",
    "            if predicred_true/ len(test_dataloader.dataset) > best_acc:\n",
    "                best_model = copy.deepcopy(torch_model)\n",
    "                best_acc = predicred_true/ len(test_dataloader.dataset)\n",
    "                \n",
    "plt.plot(train_loss, label=\"train_loss\")\n",
    "plt.plot(test_acc, label=\"test_acc\")\n",
    "plt.legend()\n",
    "plt.grid(True)\n",
    "plt.show()\n",
    "\n",
    "print('Finished Training')"
   ]
  },
  {
   "cell_type": "code",
   "execution_count": 107,
   "id": "e017c56b",
   "metadata": {},
   "outputs": [],
   "source": [
    "class TorchModel:\n",
    "    def __init__(self, model):\n",
    "        self.model = model\n",
    "\n",
    "    def fit(self, x_data, y_data):\n",
    "        return self\n",
    "\n",
    "    def predict(self, data):\n",
    "        y_preds = None\n",
    "        with torch.inference_mode(): \n",
    "            y_preds = self.model(torch.tensor(np.array(data).astype(np.float32).reshape([data.shape[0], CHANNELS, 14]), dtype=torch.float))\n",
    "            y_preds = np.argmax(np.array(y_preds), axis=1)\n",
    "        return pd.DataFrame(y_preds)\n",
    "    \n",
    "    def score(self, x_data, y_data):\n",
    "        if len(y_data) != len(x_data):\n",
    "            raise Exception(\"Different data length\")\n",
    "        return sum(np.array(self.predict(x_data)).flatten() == np.array(y_data).flatten()) / len(y_data)"
   ]
  },
  {
   "cell_type": "code",
   "execution_count": 111,
   "id": "e746795c",
   "metadata": {},
   "outputs": [
    {
     "name": "stderr",
     "output_type": "stream",
     "text": [
      "C:\\Users\\valer\\Desktop\\SPP\\SPP\\model\\../spp\\process.py:351: SettingWithCopyWarning: \n",
      "A value is trying to be set on a copy of a slice from a DataFrame.\n",
      "Try using .loc[row_indexer,col_indexer] = value instead\n",
      "\n",
      "See the caveats in the documentation: https://pandas.pydata.org/pandas-docs/stable/user_guide/indexing.html#returning-a-view-versus-a-copy\n",
      "  df[\"Price_True\"] = self.true_price_keeper[train_test_id].to_numpy()\n"
     ]
    },
    {
     "name": "stdout",
     "output_type": "stream",
     "text": [
      "Model earned 100000.00$ out of 29596.77$ starting from 100000$ \n",
      "Train accuracy 0.48 \n",
      "Test accuracy  0.00\n"
     ]
    },
    {
     "data": {
      "image/png": "[encoded data removed]",
      "text/plain": [
       "<Figure size 640x480 with 2 Axes>"
      ]
     },
     "metadata": {},
     "output_type": "display_data"
    }
   ],
   "source": [
    "model = TorchModel(best_model)\n",
    "y_train_pred_bin = model.predict(X_train)\n",
    "y_test_pred_bin = model.predict(X_test)\n",
    "\n",
    "df = def_pipe.get_test_price(y_test_pred_bin)  # ! Prediction_ExpProf will not be corret as we \n",
    "                                               # ! proposed bin not price\n",
    "\n",
    "start_capital = 100000\n",
    "tt = market.BinTraderTest(start_capital, y_test_pred_bin, df[\"Price_True\"])\n",
    "bt = market.BinTraderTest(start_capital, y_test, df[\"Price_True\"])\n",
    "traded_capital = tt.trade()\n",
    "maximal_caital = bt.trade()\n",
    "print(f\"Model earned {(traded_capital):.2f}$ out of {maximal_caital:.2f}$ starting from {start_capital}$ \")\n",
    "\n",
    "print(f\"Train accuracy {model.score(X_train, y_train):.2f} \\nTest accuracy  {model.score(X_test, y_test):.2f}\")\n",
    "\n",
    "_ = ConfusionMatrixDisplay.from_predictions(y_train, y_train_pred_bin)"
   ]
  },
  {
   "cell_type": "code",
   "execution_count": 108,
   "id": "904c2167",
   "metadata": {},
   "outputs": [
    {
     "data": {
      "text/plain": [
       "Target    0.52289\n",
       "dtype: float64"
      ]
     },
     "execution_count": 108,
     "metadata": {},
     "output_type": "execute_result"
    }
   ],
   "source": [
    "y_train[y_train >= 0] = 1\n",
    "y_train[y_train <0 ] = 0\n",
    "y_train.sum() / len(y_train)"
   ]
  },
  {
   "cell_type": "code",
   "execution_count": null,
   "id": "3c05d1c9",
   "metadata": {},
   "outputs": [],
   "source": []
  }
 ],
 "metadata": {
  "kernelspec": {
   "display_name": "Python 3 (ipykernel)",
   "language": "python",
   "name": "python3"
  },
  "language_info": {
   "codemirror_mode": {
    "name": "ipython",
    "version": 3
   },
   "file_extension": ".py",
   "mimetype": "text/x-python",
   "name": "python",
   "nbconvert_exporter": "python",
   "pygments_lexer": "ipython3",
   "version": "3.10.10"
  }
 },
 "nbformat": 4,
 "nbformat_minor": 5
}
