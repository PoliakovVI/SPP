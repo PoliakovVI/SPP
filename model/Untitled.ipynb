{
 "cells": [
  {
   "cell_type": "code",
   "execution_count": 1,
   "id": "dbad4f48",
   "metadata": {},
   "outputs": [],
   "source": [
    "import pandas as pd\n",
    "import numpy as np\n",
    "import random\n",
    "import datetime\n",
    "import yfinance as yf\n",
    "import dateutil\n",
    "\n",
    "import sys\n",
    "sys.path.append('../spp')\n",
    "\n",
    "import market\n",
    "import process"
   ]
  },
  {
   "cell_type": "code",
   "execution_count": 2,
   "id": "37696fd0",
   "metadata": {},
   "outputs": [],
   "source": [
    "class MovingAverageBin:\n",
    "    def fit(self, x_data, y_data):\n",
    "        return self\n",
    "    def predict(self, data):\n",
    "        prediction = []\n",
    "        for index, row in data.iterrows():\n",
    "            row_sum = 0\n",
    "            for item in row:\n",
    "                row_sum += item\n",
    "            if row_sum / len(row) > row[-1]:\n",
    "                prediction.append(1)\n",
    "            else:\n",
    "                prediction.append(0)\n",
    "        return pd.DataFrame(prediction)\n",
    "    \n",
    "    def score(self, x_data, y_data):\n",
    "        if len(y_data) != len(x_data):\n",
    "            raise Exception(\"Different data length\")\n",
    "        return sum(np.array(self.predict(x_data)).flatten() == np.array(y_data).flatten()) / len(y_data)"
   ]
  },
  {
   "cell_type": "code",
   "execution_count": 3,
   "id": "823342ae",
   "metadata": {},
   "outputs": [],
   "source": [
    "class RandomBin:\n",
    "    def fit(self, x_data, y_data):\n",
    "        return self\n",
    "    def predict(self, data):\n",
    "        prediction = []\n",
    "        for index, row in data.iterrows():\n",
    "            prediction.append(random.randint(0, 1))\n",
    "        return pd.DataFrame(prediction)\n",
    "    \n",
    "    def score(self, x_data, y_data):\n",
    "        if len(y_data) != len(x_data):\n",
    "            raise Exception(\"Different data length\")\n",
    "        return sum(np.array(self.predict(x_data)).flatten() == np.array(y_data).flatten()) / len(y_data)"
   ]
  },
  {
   "cell_type": "code",
   "execution_count": 4,
   "id": "5e01a333",
   "metadata": {},
   "outputs": [],
   "source": [
    "model = MovingAverageBin()"
   ]
  },
  {
   "cell_type": "code",
   "execution_count": 5,
   "id": "c600654f",
   "metadata": {},
   "outputs": [],
   "source": [
    "byt = market.BinYearTest([\"TSLA\"], process.BaselineBinPipeline, end_date=None, window_size=15)"
   ]
  },
  {
   "cell_type": "code",
   "execution_count": 6,
   "id": "4d9d0f24",
   "metadata": {},
   "outputs": [
    {
     "name": "stdout",
     "output_type": "stream",
     "text": [
      "[*********************100%***********************]  1 of 1 completed\n"
     ]
    },
    {
     "name": "stderr",
     "output_type": "stream",
     "text": [
      "C:\\Users\\valer\\Desktop\\SPP\\SPP\\model\\../spp\\process.py:140: SettingWithCopyWarning: \n",
      "A value is trying to be set on a copy of a slice from a DataFrame.\n",
      "Try using .loc[row_indexer,col_indexer] = value instead\n",
      "\n",
      "See the caveats in the documentation: https://pandas.pydata.org/pandas-docs/stable/user_guide/indexing.html#returning-a-view-versus-a-copy\n",
      "  dataframe_list[i][attribute_name+\"_LnProf\"] = lnprofs\n"
     ]
    },
    {
     "name": "stdout",
     "output_type": "stream",
     "text": [
      "[*********************100%***********************]  1 of 1 completed\n"
     ]
    },
    {
     "name": "stderr",
     "output_type": "stream",
     "text": [
      "C:\\Users\\valer\\Desktop\\SPP\\SPP\\model\\../spp\\process.py:140: SettingWithCopyWarning: \n",
      "A value is trying to be set on a copy of a slice from a DataFrame.\n",
      "Try using .loc[row_indexer,col_indexer] = value instead\n",
      "\n",
      "See the caveats in the documentation: https://pandas.pydata.org/pandas-docs/stable/user_guide/indexing.html#returning-a-view-versus-a-copy\n",
      "  dataframe_list[i][attribute_name+\"_LnProf\"] = lnprofs\n",
      "C:\\Users\\valer\\Desktop\\SPP\\SPP\\model\\../spp\\process.py:260: SettingWithCopyWarning: \n",
      "A value is trying to be set on a copy of a slice from a DataFrame.\n",
      "Try using .loc[row_indexer,col_indexer] = value instead\n",
      "\n",
      "See the caveats in the documentation: https://pandas.pydata.org/pandas-docs/stable/user_guide/indexing.html#returning-a-view-versus-a-copy\n",
      "  df[\"Price_True\"] = self.true_price_keeper[train_test_id].to_numpy()\n",
      "C:\\Users\\valer\\Desktop\\SPP\\SPP\\model\\../spp\\process.py:260: SettingWithCopyWarning: \n",
      "A value is trying to be set on a copy of a slice from a DataFrame.\n",
      "Try using .loc[row_indexer,col_indexer] = value instead\n",
      "\n",
      "See the caveats in the documentation: https://pandas.pydata.org/pandas-docs/stable/user_guide/indexing.html#returning-a-view-versus-a-copy\n",
      "  df[\"Price_True\"] = self.true_price_keeper[train_test_id].to_numpy()\n"
     ]
    },
    {
     "name": "stdout",
     "output_type": "stream",
     "text": [
      "[*********************100%***********************]  1 of 1 completed\n"
     ]
    },
    {
     "name": "stderr",
     "output_type": "stream",
     "text": [
      "C:\\Users\\valer\\Desktop\\SPP\\SPP\\model\\../spp\\process.py:140: SettingWithCopyWarning: \n",
      "A value is trying to be set on a copy of a slice from a DataFrame.\n",
      "Try using .loc[row_indexer,col_indexer] = value instead\n",
      "\n",
      "See the caveats in the documentation: https://pandas.pydata.org/pandas-docs/stable/user_guide/indexing.html#returning-a-view-versus-a-copy\n",
      "  dataframe_list[i][attribute_name+\"_LnProf\"] = lnprofs\n"
     ]
    },
    {
     "name": "stdout",
     "output_type": "stream",
     "text": [
      "[*********************100%***********************]  1 of 1 completed\n"
     ]
    },
    {
     "name": "stderr",
     "output_type": "stream",
     "text": [
      "C:\\Users\\valer\\Desktop\\SPP\\SPP\\model\\../spp\\process.py:140: SettingWithCopyWarning: \n",
      "A value is trying to be set on a copy of a slice from a DataFrame.\n",
      "Try using .loc[row_indexer,col_indexer] = value instead\n",
      "\n",
      "See the caveats in the documentation: https://pandas.pydata.org/pandas-docs/stable/user_guide/indexing.html#returning-a-view-versus-a-copy\n",
      "  dataframe_list[i][attribute_name+\"_LnProf\"] = lnprofs\n",
      "C:\\Users\\valer\\Desktop\\SPP\\SPP\\model\\../spp\\process.py:260: SettingWithCopyWarning: \n",
      "A value is trying to be set on a copy of a slice from a DataFrame.\n",
      "Try using .loc[row_indexer,col_indexer] = value instead\n",
      "\n",
      "See the caveats in the documentation: https://pandas.pydata.org/pandas-docs/stable/user_guide/indexing.html#returning-a-view-versus-a-copy\n",
      "  df[\"Price_True\"] = self.true_price_keeper[train_test_id].to_numpy()\n",
      "C:\\Users\\valer\\Desktop\\SPP\\SPP\\model\\../spp\\process.py:260: SettingWithCopyWarning: \n",
      "A value is trying to be set on a copy of a slice from a DataFrame.\n",
      "Try using .loc[row_indexer,col_indexer] = value instead\n",
      "\n",
      "See the caveats in the documentation: https://pandas.pydata.org/pandas-docs/stable/user_guide/indexing.html#returning-a-view-versus-a-copy\n",
      "  df[\"Price_True\"] = self.true_price_keeper[train_test_id].to_numpy()\n"
     ]
    },
    {
     "name": "stdout",
     "output_type": "stream",
     "text": [
      "[*********************100%***********************]  1 of 1 completed\n"
     ]
    },
    {
     "name": "stderr",
     "output_type": "stream",
     "text": [
      "C:\\Users\\valer\\Desktop\\SPP\\SPP\\model\\../spp\\process.py:140: SettingWithCopyWarning: \n",
      "A value is trying to be set on a copy of a slice from a DataFrame.\n",
      "Try using .loc[row_indexer,col_indexer] = value instead\n",
      "\n",
      "See the caveats in the documentation: https://pandas.pydata.org/pandas-docs/stable/user_guide/indexing.html#returning-a-view-versus-a-copy\n",
      "  dataframe_list[i][attribute_name+\"_LnProf\"] = lnprofs\n"
     ]
    },
    {
     "name": "stdout",
     "output_type": "stream",
     "text": [
      "[*********************100%***********************]  1 of 1 completed\n"
     ]
    },
    {
     "name": "stderr",
     "output_type": "stream",
     "text": [
      "C:\\Users\\valer\\Desktop\\SPP\\SPP\\model\\../spp\\process.py:140: SettingWithCopyWarning: \n",
      "A value is trying to be set on a copy of a slice from a DataFrame.\n",
      "Try using .loc[row_indexer,col_indexer] = value instead\n",
      "\n",
      "See the caveats in the documentation: https://pandas.pydata.org/pandas-docs/stable/user_guide/indexing.html#returning-a-view-versus-a-copy\n",
      "  dataframe_list[i][attribute_name+\"_LnProf\"] = lnprofs\n",
      "C:\\Users\\valer\\Desktop\\SPP\\SPP\\model\\../spp\\process.py:260: SettingWithCopyWarning: \n",
      "A value is trying to be set on a copy of a slice from a DataFrame.\n",
      "Try using .loc[row_indexer,col_indexer] = value instead\n",
      "\n",
      "See the caveats in the documentation: https://pandas.pydata.org/pandas-docs/stable/user_guide/indexing.html#returning-a-view-versus-a-copy\n",
      "  df[\"Price_True\"] = self.true_price_keeper[train_test_id].to_numpy()\n",
      "C:\\Users\\valer\\Desktop\\SPP\\SPP\\model\\../spp\\process.py:260: SettingWithCopyWarning: \n",
      "A value is trying to be set on a copy of a slice from a DataFrame.\n",
      "Try using .loc[row_indexer,col_indexer] = value instead\n",
      "\n",
      "See the caveats in the documentation: https://pandas.pydata.org/pandas-docs/stable/user_guide/indexing.html#returning-a-view-versus-a-copy\n",
      "  df[\"Price_True\"] = self.true_price_keeper[train_test_id].to_numpy()\n"
     ]
    },
    {
     "name": "stdout",
     "output_type": "stream",
     "text": [
      "[*********************100%***********************]  1 of 1 completed\n"
     ]
    },
    {
     "name": "stderr",
     "output_type": "stream",
     "text": [
      "C:\\Users\\valer\\Desktop\\SPP\\SPP\\model\\../spp\\process.py:140: SettingWithCopyWarning: \n",
      "A value is trying to be set on a copy of a slice from a DataFrame.\n",
      "Try using .loc[row_indexer,col_indexer] = value instead\n",
      "\n",
      "See the caveats in the documentation: https://pandas.pydata.org/pandas-docs/stable/user_guide/indexing.html#returning-a-view-versus-a-copy\n",
      "  dataframe_list[i][attribute_name+\"_LnProf\"] = lnprofs\n"
     ]
    },
    {
     "name": "stdout",
     "output_type": "stream",
     "text": [
      "[*********************100%***********************]  1 of 1 completed\n"
     ]
    },
    {
     "name": "stderr",
     "output_type": "stream",
     "text": [
      "C:\\Users\\valer\\Desktop\\SPP\\SPP\\model\\../spp\\process.py:140: SettingWithCopyWarning: \n",
      "A value is trying to be set on a copy of a slice from a DataFrame.\n",
      "Try using .loc[row_indexer,col_indexer] = value instead\n",
      "\n",
      "See the caveats in the documentation: https://pandas.pydata.org/pandas-docs/stable/user_guide/indexing.html#returning-a-view-versus-a-copy\n",
      "  dataframe_list[i][attribute_name+\"_LnProf\"] = lnprofs\n",
      "C:\\Users\\valer\\Desktop\\SPP\\SPP\\model\\../spp\\process.py:260: SettingWithCopyWarning: \n",
      "A value is trying to be set on a copy of a slice from a DataFrame.\n",
      "Try using .loc[row_indexer,col_indexer] = value instead\n",
      "\n",
      "See the caveats in the documentation: https://pandas.pydata.org/pandas-docs/stable/user_guide/indexing.html#returning-a-view-versus-a-copy\n",
      "  df[\"Price_True\"] = self.true_price_keeper[train_test_id].to_numpy()\n",
      "C:\\Users\\valer\\Desktop\\SPP\\SPP\\model\\../spp\\process.py:260: SettingWithCopyWarning: \n",
      "A value is trying to be set on a copy of a slice from a DataFrame.\n",
      "Try using .loc[row_indexer,col_indexer] = value instead\n",
      "\n",
      "See the caveats in the documentation: https://pandas.pydata.org/pandas-docs/stable/user_guide/indexing.html#returning-a-view-versus-a-copy\n",
      "  df[\"Price_True\"] = self.true_price_keeper[train_test_id].to_numpy()\n"
     ]
    },
    {
     "name": "stdout",
     "output_type": "stream",
     "text": [
      "[*********************100%***********************]  1 of 1 completed\n"
     ]
    },
    {
     "name": "stderr",
     "output_type": "stream",
     "text": [
      "C:\\Users\\valer\\Desktop\\SPP\\SPP\\model\\../spp\\process.py:140: SettingWithCopyWarning: \n",
      "A value is trying to be set on a copy of a slice from a DataFrame.\n",
      "Try using .loc[row_indexer,col_indexer] = value instead\n",
      "\n",
      "See the caveats in the documentation: https://pandas.pydata.org/pandas-docs/stable/user_guide/indexing.html#returning-a-view-versus-a-copy\n",
      "  dataframe_list[i][attribute_name+\"_LnProf\"] = lnprofs\n"
     ]
    },
    {
     "name": "stdout",
     "output_type": "stream",
     "text": [
      "[*********************100%***********************]  1 of 1 completed\n"
     ]
    },
    {
     "name": "stderr",
     "output_type": "stream",
     "text": [
      "C:\\Users\\valer\\Desktop\\SPP\\SPP\\model\\../spp\\process.py:140: SettingWithCopyWarning: \n",
      "A value is trying to be set on a copy of a slice from a DataFrame.\n",
      "Try using .loc[row_indexer,col_indexer] = value instead\n",
      "\n",
      "See the caveats in the documentation: https://pandas.pydata.org/pandas-docs/stable/user_guide/indexing.html#returning-a-view-versus-a-copy\n",
      "  dataframe_list[i][attribute_name+\"_LnProf\"] = lnprofs\n",
      "C:\\Users\\valer\\Desktop\\SPP\\SPP\\model\\../spp\\process.py:260: SettingWithCopyWarning: \n",
      "A value is trying to be set on a copy of a slice from a DataFrame.\n",
      "Try using .loc[row_indexer,col_indexer] = value instead\n",
      "\n",
      "See the caveats in the documentation: https://pandas.pydata.org/pandas-docs/stable/user_guide/indexing.html#returning-a-view-versus-a-copy\n",
      "  df[\"Price_True\"] = self.true_price_keeper[train_test_id].to_numpy()\n",
      "C:\\Users\\valer\\Desktop\\SPP\\SPP\\model\\../spp\\process.py:260: SettingWithCopyWarning: \n",
      "A value is trying to be set on a copy of a slice from a DataFrame.\n",
      "Try using .loc[row_indexer,col_indexer] = value instead\n",
      "\n",
      "See the caveats in the documentation: https://pandas.pydata.org/pandas-docs/stable/user_guide/indexing.html#returning-a-view-versus-a-copy\n",
      "  df[\"Price_True\"] = self.true_price_keeper[train_test_id].to_numpy()\n"
     ]
    },
    {
     "name": "stdout",
     "output_type": "stream",
     "text": [
      "[*********************100%***********************]  1 of 1 completed\n"
     ]
    },
    {
     "name": "stderr",
     "output_type": "stream",
     "text": [
      "C:\\Users\\valer\\Desktop\\SPP\\SPP\\model\\../spp\\process.py:140: SettingWithCopyWarning: \n",
      "A value is trying to be set on a copy of a slice from a DataFrame.\n",
      "Try using .loc[row_indexer,col_indexer] = value instead\n",
      "\n",
      "See the caveats in the documentation: https://pandas.pydata.org/pandas-docs/stable/user_guide/indexing.html#returning-a-view-versus-a-copy\n",
      "  dataframe_list[i][attribute_name+\"_LnProf\"] = lnprofs\n"
     ]
    },
    {
     "name": "stdout",
     "output_type": "stream",
     "text": [
      "[*********************100%***********************]  1 of 1 completed\n"
     ]
    },
    {
     "name": "stderr",
     "output_type": "stream",
     "text": [
      "C:\\Users\\valer\\Desktop\\SPP\\SPP\\model\\../spp\\process.py:140: SettingWithCopyWarning: \n",
      "A value is trying to be set on a copy of a slice from a DataFrame.\n",
      "Try using .loc[row_indexer,col_indexer] = value instead\n",
      "\n",
      "See the caveats in the documentation: https://pandas.pydata.org/pandas-docs/stable/user_guide/indexing.html#returning-a-view-versus-a-copy\n",
      "  dataframe_list[i][attribute_name+\"_LnProf\"] = lnprofs\n",
      "C:\\Users\\valer\\Desktop\\SPP\\SPP\\model\\../spp\\process.py:260: SettingWithCopyWarning: \n",
      "A value is trying to be set on a copy of a slice from a DataFrame.\n",
      "Try using .loc[row_indexer,col_indexer] = value instead\n",
      "\n",
      "See the caveats in the documentation: https://pandas.pydata.org/pandas-docs/stable/user_guide/indexing.html#returning-a-view-versus-a-copy\n",
      "  df[\"Price_True\"] = self.true_price_keeper[train_test_id].to_numpy()\n",
      "C:\\Users\\valer\\Desktop\\SPP\\SPP\\model\\../spp\\process.py:260: SettingWithCopyWarning: \n",
      "A value is trying to be set on a copy of a slice from a DataFrame.\n",
      "Try using .loc[row_indexer,col_indexer] = value instead\n",
      "\n",
      "See the caveats in the documentation: https://pandas.pydata.org/pandas-docs/stable/user_guide/indexing.html#returning-a-view-versus-a-copy\n",
      "  df[\"Price_True\"] = self.true_price_keeper[train_test_id].to_numpy()\n"
     ]
    },
    {
     "name": "stdout",
     "output_type": "stream",
     "text": [
      "[*********************100%***********************]  1 of 1 completed\n"
     ]
    },
    {
     "name": "stderr",
     "output_type": "stream",
     "text": [
      "C:\\Users\\valer\\Desktop\\SPP\\SPP\\model\\../spp\\process.py:140: SettingWithCopyWarning: \n",
      "A value is trying to be set on a copy of a slice from a DataFrame.\n",
      "Try using .loc[row_indexer,col_indexer] = value instead\n",
      "\n",
      "See the caveats in the documentation: https://pandas.pydata.org/pandas-docs/stable/user_guide/indexing.html#returning-a-view-versus-a-copy\n",
      "  dataframe_list[i][attribute_name+\"_LnProf\"] = lnprofs\n"
     ]
    },
    {
     "name": "stdout",
     "output_type": "stream",
     "text": [
      "[*********************100%***********************]  1 of 1 completed\n"
     ]
    },
    {
     "name": "stderr",
     "output_type": "stream",
     "text": [
      "C:\\Users\\valer\\Desktop\\SPP\\SPP\\model\\../spp\\process.py:140: SettingWithCopyWarning: \n",
      "A value is trying to be set on a copy of a slice from a DataFrame.\n",
      "Try using .loc[row_indexer,col_indexer] = value instead\n",
      "\n",
      "See the caveats in the documentation: https://pandas.pydata.org/pandas-docs/stable/user_guide/indexing.html#returning-a-view-versus-a-copy\n",
      "  dataframe_list[i][attribute_name+\"_LnProf\"] = lnprofs\n",
      "C:\\Users\\valer\\Desktop\\SPP\\SPP\\model\\../spp\\process.py:260: SettingWithCopyWarning: \n",
      "A value is trying to be set on a copy of a slice from a DataFrame.\n",
      "Try using .loc[row_indexer,col_indexer] = value instead\n",
      "\n",
      "See the caveats in the documentation: https://pandas.pydata.org/pandas-docs/stable/user_guide/indexing.html#returning-a-view-versus-a-copy\n",
      "  df[\"Price_True\"] = self.true_price_keeper[train_test_id].to_numpy()\n",
      "C:\\Users\\valer\\Desktop\\SPP\\SPP\\model\\../spp\\process.py:260: SettingWithCopyWarning: \n",
      "A value is trying to be set on a copy of a slice from a DataFrame.\n",
      "Try using .loc[row_indexer,col_indexer] = value instead\n",
      "\n",
      "See the caveats in the documentation: https://pandas.pydata.org/pandas-docs/stable/user_guide/indexing.html#returning-a-view-versus-a-copy\n",
      "  df[\"Price_True\"] = self.true_price_keeper[train_test_id].to_numpy()\n"
     ]
    },
    {
     "name": "stdout",
     "output_type": "stream",
     "text": [
      "[*********************100%***********************]  1 of 1 completed\n"
     ]
    },
    {
     "name": "stderr",
     "output_type": "stream",
     "text": [
      "C:\\Users\\valer\\Desktop\\SPP\\SPP\\model\\../spp\\process.py:140: SettingWithCopyWarning: \n",
      "A value is trying to be set on a copy of a slice from a DataFrame.\n",
      "Try using .loc[row_indexer,col_indexer] = value instead\n",
      "\n",
      "See the caveats in the documentation: https://pandas.pydata.org/pandas-docs/stable/user_guide/indexing.html#returning-a-view-versus-a-copy\n",
      "  dataframe_list[i][attribute_name+\"_LnProf\"] = lnprofs\n"
     ]
    },
    {
     "name": "stdout",
     "output_type": "stream",
     "text": [
      "[*********************100%***********************]  1 of 1 completed\n"
     ]
    },
    {
     "name": "stderr",
     "output_type": "stream",
     "text": [
      "C:\\Users\\valer\\Desktop\\SPP\\SPP\\model\\../spp\\process.py:140: SettingWithCopyWarning: \n",
      "A value is trying to be set on a copy of a slice from a DataFrame.\n",
      "Try using .loc[row_indexer,col_indexer] = value instead\n",
      "\n",
      "See the caveats in the documentation: https://pandas.pydata.org/pandas-docs/stable/user_guide/indexing.html#returning-a-view-versus-a-copy\n",
      "  dataframe_list[i][attribute_name+\"_LnProf\"] = lnprofs\n",
      "C:\\Users\\valer\\Desktop\\SPP\\SPP\\model\\../spp\\process.py:260: SettingWithCopyWarning: \n",
      "A value is trying to be set on a copy of a slice from a DataFrame.\n",
      "Try using .loc[row_indexer,col_indexer] = value instead\n",
      "\n",
      "See the caveats in the documentation: https://pandas.pydata.org/pandas-docs/stable/user_guide/indexing.html#returning-a-view-versus-a-copy\n",
      "  df[\"Price_True\"] = self.true_price_keeper[train_test_id].to_numpy()\n",
      "C:\\Users\\valer\\Desktop\\SPP\\SPP\\model\\../spp\\process.py:260: SettingWithCopyWarning: \n",
      "A value is trying to be set on a copy of a slice from a DataFrame.\n",
      "Try using .loc[row_indexer,col_indexer] = value instead\n",
      "\n",
      "See the caveats in the documentation: https://pandas.pydata.org/pandas-docs/stable/user_guide/indexing.html#returning-a-view-versus-a-copy\n",
      "  df[\"Price_True\"] = self.true_price_keeper[train_test_id].to_numpy()\n"
     ]
    },
    {
     "name": "stdout",
     "output_type": "stream",
     "text": [
      "[*********************100%***********************]  1 of 1 completed\n"
     ]
    },
    {
     "name": "stderr",
     "output_type": "stream",
     "text": [
      "C:\\Users\\valer\\Desktop\\SPP\\SPP\\model\\../spp\\process.py:140: SettingWithCopyWarning: \n",
      "A value is trying to be set on a copy of a slice from a DataFrame.\n",
      "Try using .loc[row_indexer,col_indexer] = value instead\n",
      "\n",
      "See the caveats in the documentation: https://pandas.pydata.org/pandas-docs/stable/user_guide/indexing.html#returning-a-view-versus-a-copy\n",
      "  dataframe_list[i][attribute_name+\"_LnProf\"] = lnprofs\n"
     ]
    },
    {
     "name": "stdout",
     "output_type": "stream",
     "text": [
      "[*********************100%***********************]  1 of 1 completed\n"
     ]
    },
    {
     "name": "stderr",
     "output_type": "stream",
     "text": [
      "C:\\Users\\valer\\Desktop\\SPP\\SPP\\model\\../spp\\process.py:140: SettingWithCopyWarning: \n",
      "A value is trying to be set on a copy of a slice from a DataFrame.\n",
      "Try using .loc[row_indexer,col_indexer] = value instead\n",
      "\n",
      "See the caveats in the documentation: https://pandas.pydata.org/pandas-docs/stable/user_guide/indexing.html#returning-a-view-versus-a-copy\n",
      "  dataframe_list[i][attribute_name+\"_LnProf\"] = lnprofs\n",
      "C:\\Users\\valer\\Desktop\\SPP\\SPP\\model\\../spp\\process.py:260: SettingWithCopyWarning: \n",
      "A value is trying to be set on a copy of a slice from a DataFrame.\n",
      "Try using .loc[row_indexer,col_indexer] = value instead\n",
      "\n",
      "See the caveats in the documentation: https://pandas.pydata.org/pandas-docs/stable/user_guide/indexing.html#returning-a-view-versus-a-copy\n",
      "  df[\"Price_True\"] = self.true_price_keeper[train_test_id].to_numpy()\n",
      "C:\\Users\\valer\\Desktop\\SPP\\SPP\\model\\../spp\\process.py:260: SettingWithCopyWarning: \n",
      "A value is trying to be set on a copy of a slice from a DataFrame.\n",
      "Try using .loc[row_indexer,col_indexer] = value instead\n",
      "\n",
      "See the caveats in the documentation: https://pandas.pydata.org/pandas-docs/stable/user_guide/indexing.html#returning-a-view-versus-a-copy\n",
      "  df[\"Price_True\"] = self.true_price_keeper[train_test_id].to_numpy()\n"
     ]
    },
    {
     "name": "stdout",
     "output_type": "stream",
     "text": [
      "[*********************100%***********************]  1 of 1 completed\n"
     ]
    },
    {
     "name": "stderr",
     "output_type": "stream",
     "text": [
      "C:\\Users\\valer\\Desktop\\SPP\\SPP\\model\\../spp\\process.py:140: SettingWithCopyWarning: \n",
      "A value is trying to be set on a copy of a slice from a DataFrame.\n",
      "Try using .loc[row_indexer,col_indexer] = value instead\n",
      "\n",
      "See the caveats in the documentation: https://pandas.pydata.org/pandas-docs/stable/user_guide/indexing.html#returning-a-view-versus-a-copy\n",
      "  dataframe_list[i][attribute_name+\"_LnProf\"] = lnprofs\n"
     ]
    },
    {
     "name": "stdout",
     "output_type": "stream",
     "text": [
      "[*********************100%***********************]  1 of 1 completed\n"
     ]
    },
    {
     "name": "stderr",
     "output_type": "stream",
     "text": [
      "C:\\Users\\valer\\Desktop\\SPP\\SPP\\model\\../spp\\process.py:140: SettingWithCopyWarning: \n",
      "A value is trying to be set on a copy of a slice from a DataFrame.\n",
      "Try using .loc[row_indexer,col_indexer] = value instead\n",
      "\n",
      "See the caveats in the documentation: https://pandas.pydata.org/pandas-docs/stable/user_guide/indexing.html#returning-a-view-versus-a-copy\n",
      "  dataframe_list[i][attribute_name+\"_LnProf\"] = lnprofs\n",
      "C:\\Users\\valer\\Desktop\\SPP\\SPP\\model\\../spp\\process.py:260: SettingWithCopyWarning: \n",
      "A value is trying to be set on a copy of a slice from a DataFrame.\n",
      "Try using .loc[row_indexer,col_indexer] = value instead\n",
      "\n",
      "See the caveats in the documentation: https://pandas.pydata.org/pandas-docs/stable/user_guide/indexing.html#returning-a-view-versus-a-copy\n",
      "  df[\"Price_True\"] = self.true_price_keeper[train_test_id].to_numpy()\n",
      "C:\\Users\\valer\\Desktop\\SPP\\SPP\\model\\../spp\\process.py:260: SettingWithCopyWarning: \n",
      "A value is trying to be set on a copy of a slice from a DataFrame.\n",
      "Try using .loc[row_indexer,col_indexer] = value instead\n",
      "\n",
      "See the caveats in the documentation: https://pandas.pydata.org/pandas-docs/stable/user_guide/indexing.html#returning-a-view-versus-a-copy\n",
      "  df[\"Price_True\"] = self.true_price_keeper[train_test_id].to_numpy()\n"
     ]
    },
    {
     "name": "stdout",
     "output_type": "stream",
     "text": [
      "[*********************100%***********************]  1 of 1 completed\n"
     ]
    },
    {
     "name": "stderr",
     "output_type": "stream",
     "text": [
      "C:\\Users\\valer\\Desktop\\SPP\\SPP\\model\\../spp\\process.py:140: SettingWithCopyWarning: \n",
      "A value is trying to be set on a copy of a slice from a DataFrame.\n",
      "Try using .loc[row_indexer,col_indexer] = value instead\n",
      "\n",
      "See the caveats in the documentation: https://pandas.pydata.org/pandas-docs/stable/user_guide/indexing.html#returning-a-view-versus-a-copy\n",
      "  dataframe_list[i][attribute_name+\"_LnProf\"] = lnprofs\n"
     ]
    },
    {
     "name": "stdout",
     "output_type": "stream",
     "text": [
      "[*********************100%***********************]  1 of 1 completed\n"
     ]
    },
    {
     "name": "stderr",
     "output_type": "stream",
     "text": [
      "C:\\Users\\valer\\Desktop\\SPP\\SPP\\model\\../spp\\process.py:140: SettingWithCopyWarning: \n",
      "A value is trying to be set on a copy of a slice from a DataFrame.\n",
      "Try using .loc[row_indexer,col_indexer] = value instead\n",
      "\n",
      "See the caveats in the documentation: https://pandas.pydata.org/pandas-docs/stable/user_guide/indexing.html#returning-a-view-versus-a-copy\n",
      "  dataframe_list[i][attribute_name+\"_LnProf\"] = lnprofs\n",
      "C:\\Users\\valer\\Desktop\\SPP\\SPP\\model\\../spp\\process.py:260: SettingWithCopyWarning: \n",
      "A value is trying to be set on a copy of a slice from a DataFrame.\n",
      "Try using .loc[row_indexer,col_indexer] = value instead\n",
      "\n",
      "See the caveats in the documentation: https://pandas.pydata.org/pandas-docs/stable/user_guide/indexing.html#returning-a-view-versus-a-copy\n",
      "  df[\"Price_True\"] = self.true_price_keeper[train_test_id].to_numpy()\n",
      "C:\\Users\\valer\\Desktop\\SPP\\SPP\\model\\../spp\\process.py:260: SettingWithCopyWarning: \n",
      "A value is trying to be set on a copy of a slice from a DataFrame.\n",
      "Try using .loc[row_indexer,col_indexer] = value instead\n",
      "\n",
      "See the caveats in the documentation: https://pandas.pydata.org/pandas-docs/stable/user_guide/indexing.html#returning-a-view-versus-a-copy\n",
      "  df[\"Price_True\"] = self.true_price_keeper[train_test_id].to_numpy()\n"
     ]
    },
    {
     "name": "stdout",
     "output_type": "stream",
     "text": [
      "[*********************100%***********************]  1 of 1 completed\n"
     ]
    },
    {
     "name": "stderr",
     "output_type": "stream",
     "text": [
      "C:\\Users\\valer\\Desktop\\SPP\\SPP\\model\\../spp\\process.py:140: SettingWithCopyWarning: \n",
      "A value is trying to be set on a copy of a slice from a DataFrame.\n",
      "Try using .loc[row_indexer,col_indexer] = value instead\n",
      "\n",
      "See the caveats in the documentation: https://pandas.pydata.org/pandas-docs/stable/user_guide/indexing.html#returning-a-view-versus-a-copy\n",
      "  dataframe_list[i][attribute_name+\"_LnProf\"] = lnprofs\n"
     ]
    },
    {
     "name": "stdout",
     "output_type": "stream",
     "text": [
      "[*********************100%***********************]  1 of 1 completed\n"
     ]
    },
    {
     "name": "stderr",
     "output_type": "stream",
     "text": [
      "C:\\Users\\valer\\Desktop\\SPP\\SPP\\model\\../spp\\process.py:140: SettingWithCopyWarning: \n",
      "A value is trying to be set on a copy of a slice from a DataFrame.\n",
      "Try using .loc[row_indexer,col_indexer] = value instead\n",
      "\n",
      "See the caveats in the documentation: https://pandas.pydata.org/pandas-docs/stable/user_guide/indexing.html#returning-a-view-versus-a-copy\n",
      "  dataframe_list[i][attribute_name+\"_LnProf\"] = lnprofs\n",
      "C:\\Users\\valer\\Desktop\\SPP\\SPP\\model\\../spp\\process.py:260: SettingWithCopyWarning: \n",
      "A value is trying to be set on a copy of a slice from a DataFrame.\n",
      "Try using .loc[row_indexer,col_indexer] = value instead\n",
      "\n",
      "See the caveats in the documentation: https://pandas.pydata.org/pandas-docs/stable/user_guide/indexing.html#returning-a-view-versus-a-copy\n",
      "  df[\"Price_True\"] = self.true_price_keeper[train_test_id].to_numpy()\n",
      "C:\\Users\\valer\\Desktop\\SPP\\SPP\\model\\../spp\\process.py:260: SettingWithCopyWarning: \n",
      "A value is trying to be set on a copy of a slice from a DataFrame.\n",
      "Try using .loc[row_indexer,col_indexer] = value instead\n",
      "\n",
      "See the caveats in the documentation: https://pandas.pydata.org/pandas-docs/stable/user_guide/indexing.html#returning-a-view-versus-a-copy\n",
      "  df[\"Price_True\"] = self.true_price_keeper[train_test_id].to_numpy()\n"
     ]
    }
   ],
   "source": [
    "df = byt.trade(model)"
   ]
  },
  {
   "cell_type": "code",
   "execution_count": 13,
   "id": "aa372771",
   "metadata": {},
   "outputs": [
    {
     "data": {
      "text/html": [
       "<div>\n",
       "<style scoped>\n",
       "    .dataframe tbody tr th:only-of-type {\n",
       "        vertical-align: middle;\n",
       "    }\n",
       "\n",
       "    .dataframe tbody tr th {\n",
       "        vertical-align: top;\n",
       "    }\n",
       "\n",
       "    .dataframe thead th {\n",
       "        text-align: right;\n",
       "    }\n",
       "</style>\n",
       "<table border=\"1\" class=\"dataframe\">\n",
       "  <thead>\n",
       "    <tr style=\"text-align: right;\">\n",
       "      <th></th>\n",
       "      <th>Month</th>\n",
       "      <th>TrainAcc</th>\n",
       "      <th>TestAcc</th>\n",
       "      <th>Income</th>\n",
       "      <th>Potential</th>\n",
       "    </tr>\n",
       "  </thead>\n",
       "  <tbody>\n",
       "    <tr>\n",
       "      <th>0</th>\n",
       "      <td>Apr_2022</td>\n",
       "      <td>0.50</td>\n",
       "      <td>0.72</td>\n",
       "      <td>1.00</td>\n",
       "      <td>-0.06</td>\n",
       "    </tr>\n",
       "    <tr>\n",
       "      <th>1</th>\n",
       "      <td>May_2022</td>\n",
       "      <td>0.50</td>\n",
       "      <td>0.67</td>\n",
       "      <td>1.13</td>\n",
       "      <td>0.44</td>\n",
       "    </tr>\n",
       "    <tr>\n",
       "      <th>2</th>\n",
       "      <td>Jun_2022</td>\n",
       "      <td>0.50</td>\n",
       "      <td>0.38</td>\n",
       "      <td>0.95</td>\n",
       "      <td>-0.45</td>\n",
       "    </tr>\n",
       "    <tr>\n",
       "      <th>3</th>\n",
       "      <td>Jul_2022</td>\n",
       "      <td>0.51</td>\n",
       "      <td>0.19</td>\n",
       "      <td>1.04</td>\n",
       "      <td>0.14</td>\n",
       "    </tr>\n",
       "    <tr>\n",
       "      <th>4</th>\n",
       "      <td>Aug_2022</td>\n",
       "      <td>0.49</td>\n",
       "      <td>0.41</td>\n",
       "      <td>0.96</td>\n",
       "      <td>-0.34</td>\n",
       "    </tr>\n",
       "    <tr>\n",
       "      <th>5</th>\n",
       "      <td>Sep_2022</td>\n",
       "      <td>0.49</td>\n",
       "      <td>0.44</td>\n",
       "      <td>0.98</td>\n",
       "      <td>-0.12</td>\n",
       "    </tr>\n",
       "    <tr>\n",
       "      <th>6</th>\n",
       "      <td>Oct_2022</td>\n",
       "      <td>0.48</td>\n",
       "      <td>0.53</td>\n",
       "      <td>1.17</td>\n",
       "      <td>0.93</td>\n",
       "    </tr>\n",
       "    <tr>\n",
       "      <th>7</th>\n",
       "      <td>Nov_2022</td>\n",
       "      <td>0.49</td>\n",
       "      <td>0.50</td>\n",
       "      <td>1.05</td>\n",
       "      <td>0.49</td>\n",
       "    </tr>\n",
       "    <tr>\n",
       "      <th>8</th>\n",
       "      <td>Dec_2022</td>\n",
       "      <td>0.49</td>\n",
       "      <td>0.41</td>\n",
       "      <td>0.97</td>\n",
       "      <td>-0.34</td>\n",
       "    </tr>\n",
       "    <tr>\n",
       "      <th>9</th>\n",
       "      <td>Jan_2023</td>\n",
       "      <td>0.49</td>\n",
       "      <td>0.57</td>\n",
       "      <td>1.06</td>\n",
       "      <td>0.22</td>\n",
       "    </tr>\n",
       "    <tr>\n",
       "      <th>10</th>\n",
       "      <td>Feb_2023</td>\n",
       "      <td>0.49</td>\n",
       "      <td>0.73</td>\n",
       "      <td>1.14</td>\n",
       "      <td>0.58</td>\n",
       "    </tr>\n",
       "    <tr>\n",
       "      <th>11</th>\n",
       "      <td>Mar_2023</td>\n",
       "      <td>0.51</td>\n",
       "      <td>0.61</td>\n",
       "      <td>1.05</td>\n",
       "      <td>0.35</td>\n",
       "    </tr>\n",
       "  </tbody>\n",
       "</table>\n",
       "</div>"
      ],
      "text/plain": [
       "       Month  TrainAcc  TestAcc  Income  Potential\n",
       "0   Apr_2022      0.50     0.72    1.00      -0.06\n",
       "1   May_2022      0.50     0.67    1.13       0.44\n",
       "2   Jun_2022      0.50     0.38    0.95      -0.45\n",
       "3   Jul_2022      0.51     0.19    1.04       0.14\n",
       "4   Aug_2022      0.49     0.41    0.96      -0.34\n",
       "5   Sep_2022      0.49     0.44    0.98      -0.12\n",
       "6   Oct_2022      0.48     0.53    1.17       0.93\n",
       "7   Nov_2022      0.49     0.50    1.05       0.49\n",
       "8   Dec_2022      0.49     0.41    0.97      -0.34\n",
       "9   Jan_2023      0.49     0.57    1.06       0.22\n",
       "10  Feb_2023      0.49     0.73    1.14       0.58\n",
       "11  Mar_2023      0.51     0.61    1.05       0.35"
      ]
     },
     "execution_count": 13,
     "metadata": {},
     "output_type": "execute_result"
    }
   ],
   "source": [
    "pd.set_option(\"display.precision\", 2)\n",
    "df"
   ]
  },
  {
   "cell_type": "code",
   "execution_count": 9,
   "id": "f3b30241",
   "metadata": {},
   "outputs": [
    {
     "data": {
      "text/plain": [
       "[0.9951321223275719,\n",
       " 1.1294450862328338,\n",
       " 0.9543670043975584,\n",
       " 1.0411093535739526,\n",
       " 0.96227156421458,\n",
       " 0.981050017417038,\n",
       " 1.1689560329884223,\n",
       " 1.0527272994097325,\n",
       " 0.9714731630763458,\n",
       " 1.0648154579237439,\n",
       " 1.138540463139039,\n",
       " 1.0479829678046981]"
      ]
     },
     "execution_count": 9,
     "metadata": {},
     "output_type": "execute_result"
    }
   ],
   "source": [
    "list(df[\"Income\"])"
   ]
  },
  {
   "cell_type": "code",
   "execution_count": 11,
   "id": "1cd203f9",
   "metadata": {},
   "outputs": [
    {
     "data": {
      "text/plain": [
       "1.6012839216622263"
      ]
     },
     "execution_count": 11,
     "metadata": {},
     "output_type": "execute_result"
    }
   ],
   "source": [
    "from functools import reduce\n",
    "items = list(df[\"Income\"])\n",
    "reduced_income = reduce(lambda a,b: a*b, items)\n",
    "reduced_income"
   ]
  },
  {
   "cell_type": "code",
   "execution_count": null,
   "id": "b6bd468c",
   "metadata": {},
   "outputs": [],
   "source": []
  },
  {
   "cell_type": "code",
   "execution_count": null,
   "id": "65d6f3fb",
   "metadata": {},
   "outputs": [],
   "source": []
  },
  {
   "cell_type": "code",
   "execution_count": 8,
   "id": "4b95656d",
   "metadata": {},
   "outputs": [
    {
     "data": {
      "text/plain": [
       "[['May_2022', '2022-05-31'],\n",
       " ['Jun_2022', '2022-06-30'],\n",
       " ['Jul_2022', '2022-07-31'],\n",
       " ['Aug_2022', '2022-08-31'],\n",
       " ['Sep_2022', '2022-09-30'],\n",
       " ['Oct_2022', '2022-10-31'],\n",
       " ['Nov_2022', '2022-11-30'],\n",
       " ['Dec_2022', '2022-12-31'],\n",
       " ['Jan_2023', '2023-01-31'],\n",
       " ['Feb_2023', '2023-02-28'],\n",
       " ['Mar_2023', '2023-03-31'],\n",
       " ['Apr_2023', '2023-04-30']]"
      ]
     },
     "execution_count": 8,
     "metadata": {},
     "output_type": "execute_result"
    }
   ],
   "source": [
    "byt.dates"
   ]
  },
  {
   "cell_type": "code",
   "execution_count": null,
   "id": "4ac0e9b6",
   "metadata": {},
   "outputs": [],
   "source": []
  },
  {
   "cell_type": "code",
   "execution_count": 6,
   "id": "bb0a4cff",
   "metadata": {},
   "outputs": [
    {
     "name": "stdout",
     "output_type": "stream",
     "text": [
      "[*********************100%***********************]  1 of 1 completed\n"
     ]
    },
    {
     "name": "stderr",
     "output_type": "stream",
     "text": [
      "C:\\Users\\valer\\Desktop\\SPP\\SPP\\model\\../spp\\process.py:140: SettingWithCopyWarning: \n",
      "A value is trying to be set on a copy of a slice from a DataFrame.\n",
      "Try using .loc[row_indexer,col_indexer] = value instead\n",
      "\n",
      "See the caveats in the documentation: https://pandas.pydata.org/pandas-docs/stable/user_guide/indexing.html#returning-a-view-versus-a-copy\n",
      "  dataframe_list[i][attribute_name+\"_LnProf\"] = lnprofs\n"
     ]
    },
    {
     "name": "stdout",
     "output_type": "stream",
     "text": [
      "[*********************100%***********************]  1 of 1 completed\n"
     ]
    },
    {
     "name": "stderr",
     "output_type": "stream",
     "text": [
      "C:\\Users\\valer\\Desktop\\SPP\\SPP\\model\\../spp\\process.py:140: SettingWithCopyWarning: \n",
      "A value is trying to be set on a copy of a slice from a DataFrame.\n",
      "Try using .loc[row_indexer,col_indexer] = value instead\n",
      "\n",
      "See the caveats in the documentation: https://pandas.pydata.org/pandas-docs/stable/user_guide/indexing.html#returning-a-view-versus-a-copy\n",
      "  dataframe_list[i][attribute_name+\"_LnProf\"] = lnprofs\n",
      "C:\\Users\\valer\\Desktop\\SPP\\SPP\\model\\../spp\\process.py:260: SettingWithCopyWarning: \n",
      "A value is trying to be set on a copy of a slice from a DataFrame.\n",
      "Try using .loc[row_indexer,col_indexer] = value instead\n",
      "\n",
      "See the caveats in the documentation: https://pandas.pydata.org/pandas-docs/stable/user_guide/indexing.html#returning-a-view-versus-a-copy\n",
      "  df[\"Price_True\"] = self.true_price_keeper[train_test_id].to_numpy()\n",
      "C:\\Users\\valer\\Desktop\\SPP\\SPP\\model\\../spp\\process.py:260: SettingWithCopyWarning: \n",
      "A value is trying to be set on a copy of a slice from a DataFrame.\n",
      "Try using .loc[row_indexer,col_indexer] = value instead\n",
      "\n",
      "See the caveats in the documentation: https://pandas.pydata.org/pandas-docs/stable/user_guide/indexing.html#returning-a-view-versus-a-copy\n",
      "  df[\"Price_True\"] = self.true_price_keeper[train_test_id].to_numpy()\n"
     ]
    },
    {
     "name": "stdout",
     "output_type": "stream",
     "text": [
      "[*********************100%***********************]  1 of 1 completed\n"
     ]
    },
    {
     "name": "stderr",
     "output_type": "stream",
     "text": [
      "C:\\Users\\valer\\Desktop\\SPP\\SPP\\model\\../spp\\process.py:140: SettingWithCopyWarning: \n",
      "A value is trying to be set on a copy of a slice from a DataFrame.\n",
      "Try using .loc[row_indexer,col_indexer] = value instead\n",
      "\n",
      "See the caveats in the documentation: https://pandas.pydata.org/pandas-docs/stable/user_guide/indexing.html#returning-a-view-versus-a-copy\n",
      "  dataframe_list[i][attribute_name+\"_LnProf\"] = lnprofs\n"
     ]
    },
    {
     "name": "stdout",
     "output_type": "stream",
     "text": [
      "[*********************100%***********************]  1 of 1 completed\n"
     ]
    },
    {
     "name": "stderr",
     "output_type": "stream",
     "text": [
      "C:\\Users\\valer\\Desktop\\SPP\\SPP\\model\\../spp\\process.py:140: SettingWithCopyWarning: \n",
      "A value is trying to be set on a copy of a slice from a DataFrame.\n",
      "Try using .loc[row_indexer,col_indexer] = value instead\n",
      "\n",
      "See the caveats in the documentation: https://pandas.pydata.org/pandas-docs/stable/user_guide/indexing.html#returning-a-view-versus-a-copy\n",
      "  dataframe_list[i][attribute_name+\"_LnProf\"] = lnprofs\n",
      "C:\\Users\\valer\\Desktop\\SPP\\SPP\\model\\../spp\\process.py:260: SettingWithCopyWarning: \n",
      "A value is trying to be set on a copy of a slice from a DataFrame.\n",
      "Try using .loc[row_indexer,col_indexer] = value instead\n",
      "\n",
      "See the caveats in the documentation: https://pandas.pydata.org/pandas-docs/stable/user_guide/indexing.html#returning-a-view-versus-a-copy\n",
      "  df[\"Price_True\"] = self.true_price_keeper[train_test_id].to_numpy()\n",
      "C:\\Users\\valer\\Desktop\\SPP\\SPP\\model\\../spp\\process.py:260: SettingWithCopyWarning: \n",
      "A value is trying to be set on a copy of a slice from a DataFrame.\n",
      "Try using .loc[row_indexer,col_indexer] = value instead\n",
      "\n",
      "See the caveats in the documentation: https://pandas.pydata.org/pandas-docs/stable/user_guide/indexing.html#returning-a-view-versus-a-copy\n",
      "  df[\"Price_True\"] = self.true_price_keeper[train_test_id].to_numpy()\n"
     ]
    }
   ],
   "source": [
    "bpt = market.BinPortfolioTest([\"TSLA\", \"AAPL\"], process.BaselineBinPipeline)"
   ]
  },
  {
   "cell_type": "code",
   "execution_count": 19,
   "id": "4c126846",
   "metadata": {},
   "outputs": [],
   "source": [
    "df = bpt.trade(model)"
   ]
  },
  {
   "cell_type": "code",
   "execution_count": 20,
   "id": "92fac56d",
   "metadata": {},
   "outputs": [
    {
     "data": {
      "text/html": [
       "<div>\n",
       "<style scoped>\n",
       "    .dataframe tbody tr th:only-of-type {\n",
       "        vertical-align: middle;\n",
       "    }\n",
       "\n",
       "    .dataframe tbody tr th {\n",
       "        vertical-align: top;\n",
       "    }\n",
       "\n",
       "    .dataframe thead th {\n",
       "        text-align: right;\n",
       "    }\n",
       "</style>\n",
       "<table border=\"1\" class=\"dataframe\">\n",
       "  <thead>\n",
       "    <tr style=\"text-align: right;\">\n",
       "      <th></th>\n",
       "      <th>Case</th>\n",
       "      <th>TrainAcc</th>\n",
       "      <th>TestAcc</th>\n",
       "      <th>Income</th>\n",
       "      <th>Potential</th>\n",
       "    </tr>\n",
       "  </thead>\n",
       "  <tbody>\n",
       "    <tr>\n",
       "      <th>0</th>\n",
       "      <td>AVG</td>\n",
       "      <td>0.521277</td>\n",
       "      <td>0.588235</td>\n",
       "      <td>1.012213</td>\n",
       "      <td>0.209573</td>\n",
       "    </tr>\n",
       "    <tr>\n",
       "      <th>1</th>\n",
       "      <td>TSLA</td>\n",
       "      <td>0.519149</td>\n",
       "      <td>0.588235</td>\n",
       "      <td>1.019623</td>\n",
       "      <td>0.291043</td>\n",
       "    </tr>\n",
       "    <tr>\n",
       "      <th>2</th>\n",
       "      <td>AAPL</td>\n",
       "      <td>0.523404</td>\n",
       "      <td>0.588235</td>\n",
       "      <td>1.004803</td>\n",
       "      <td>0.097762</td>\n",
       "    </tr>\n",
       "  </tbody>\n",
       "</table>\n",
       "</div>"
      ],
      "text/plain": [
       "   Case  TrainAcc   TestAcc    Income  Potential\n",
       "0   AVG  0.521277  0.588235  1.012213   0.209573\n",
       "1  TSLA  0.519149  0.588235  1.019623   0.291043\n",
       "2  AAPL  0.523404  0.588235  1.004803   0.097762"
      ]
     },
     "execution_count": 20,
     "metadata": {},
     "output_type": "execute_result"
    }
   ],
   "source": [
    "df"
   ]
  },
  {
   "cell_type": "code",
   "execution_count": 22,
   "id": "7d8a15df",
   "metadata": {},
   "outputs": [],
   "source": [
    "df = df[df[\"Case\"] == \"AVG\"].rename(columns={\"Case\": \"Month\"})"
   ]
  },
  {
   "cell_type": "code",
   "execution_count": 37,
   "id": "51b3200d",
   "metadata": {},
   "outputs": [
    {
     "data": {
      "text/html": [
       "<div>\n",
       "<style scoped>\n",
       "    .dataframe tbody tr th:only-of-type {\n",
       "        vertical-align: middle;\n",
       "    }\n",
       "\n",
       "    .dataframe tbody tr th {\n",
       "        vertical-align: top;\n",
       "    }\n",
       "\n",
       "    .dataframe thead th {\n",
       "        text-align: right;\n",
       "    }\n",
       "</style>\n",
       "<table border=\"1\" class=\"dataframe\">\n",
       "  <thead>\n",
       "    <tr style=\"text-align: right;\">\n",
       "      <th></th>\n",
       "      <th>Month</th>\n",
       "      <th>TrainAcc</th>\n",
       "      <th>TestAcc</th>\n",
       "      <th>Income</th>\n",
       "      <th>Potential</th>\n",
       "    </tr>\n",
       "  </thead>\n",
       "  <tbody>\n",
       "    <tr>\n",
       "      <th>0</th>\n",
       "      <td>Dec</td>\n",
       "      <td>0.521277</td>\n",
       "      <td>0.588235</td>\n",
       "      <td>1.012213</td>\n",
       "      <td>0.209573</td>\n",
       "    </tr>\n",
       "  </tbody>\n",
       "</table>\n",
       "</div>"
      ],
      "text/plain": [
       "  Month  TrainAcc   TestAcc    Income  Potential\n",
       "0   Dec  0.521277  0.588235  1.012213   0.209573"
      ]
     },
     "execution_count": 37,
     "metadata": {},
     "output_type": "execute_result"
    }
   ],
   "source": [
    "df.at[0,'Month']='Dec'\n",
    "df"
   ]
  },
  {
   "cell_type": "code",
   "execution_count": 34,
   "id": "73a89c5f",
   "metadata": {},
   "outputs": [
    {
     "data": {
      "text/plain": [
       "'AVG'"
      ]
     },
     "execution_count": 34,
     "metadata": {},
     "output_type": "execute_result"
    }
   ],
   "source": [
    "df.loc[0][0]"
   ]
  },
  {
   "cell_type": "code",
   "execution_count": 38,
   "id": "abb4db1a",
   "metadata": {},
   "outputs": [
    {
     "data": {
      "text/html": [
       "<div>\n",
       "<style scoped>\n",
       "    .dataframe tbody tr th:only-of-type {\n",
       "        vertical-align: middle;\n",
       "    }\n",
       "\n",
       "    .dataframe tbody tr th {\n",
       "        vertical-align: top;\n",
       "    }\n",
       "\n",
       "    .dataframe thead th {\n",
       "        text-align: right;\n",
       "    }\n",
       "</style>\n",
       "<table border=\"1\" class=\"dataframe\">\n",
       "  <thead>\n",
       "    <tr style=\"text-align: right;\">\n",
       "      <th></th>\n",
       "      <th>Month</th>\n",
       "      <th>TrainAcc</th>\n",
       "      <th>TestAcc</th>\n",
       "      <th>Income</th>\n",
       "      <th>Potential</th>\n",
       "    </tr>\n",
       "  </thead>\n",
       "  <tbody>\n",
       "    <tr>\n",
       "      <th>0</th>\n",
       "      <td>Dec</td>\n",
       "      <td>0.521277</td>\n",
       "      <td>0.588235</td>\n",
       "      <td>1.012213</td>\n",
       "      <td>0.209573</td>\n",
       "    </tr>\n",
       "  </tbody>\n",
       "</table>\n",
       "</div>"
      ],
      "text/plain": [
       "  Month  TrainAcc   TestAcc    Income  Potential\n",
       "0   Dec  0.521277  0.588235  1.012213   0.209573"
      ]
     },
     "execution_count": 38,
     "metadata": {},
     "output_type": "execute_result"
    }
   ],
   "source": [
    "df"
   ]
  },
  {
   "cell_type": "code",
   "execution_count": 39,
   "id": "65717784",
   "metadata": {},
   "outputs": [
    {
     "data": {
      "text/html": [
       "<div>\n",
       "<style scoped>\n",
       "    .dataframe tbody tr th:only-of-type {\n",
       "        vertical-align: middle;\n",
       "    }\n",
       "\n",
       "    .dataframe tbody tr th {\n",
       "        vertical-align: top;\n",
       "    }\n",
       "\n",
       "    .dataframe thead th {\n",
       "        text-align: right;\n",
       "    }\n",
       "</style>\n",
       "<table border=\"1\" class=\"dataframe\">\n",
       "  <thead>\n",
       "    <tr style=\"text-align: right;\">\n",
       "      <th></th>\n",
       "      <th>Month</th>\n",
       "      <th>TrainAcc</th>\n",
       "      <th>TestAcc</th>\n",
       "      <th>Income</th>\n",
       "      <th>Potential</th>\n",
       "    </tr>\n",
       "  </thead>\n",
       "  <tbody>\n",
       "    <tr>\n",
       "      <th>0</th>\n",
       "      <td>Dec</td>\n",
       "      <td>0.521277</td>\n",
       "      <td>0.588235</td>\n",
       "      <td>1.012213</td>\n",
       "      <td>0.209573</td>\n",
       "    </tr>\n",
       "    <tr>\n",
       "      <th>0</th>\n",
       "      <td>Dec</td>\n",
       "      <td>0.521277</td>\n",
       "      <td>0.588235</td>\n",
       "      <td>1.012213</td>\n",
       "      <td>0.209573</td>\n",
       "    </tr>\n",
       "  </tbody>\n",
       "</table>\n",
       "</div>"
      ],
      "text/plain": [
       "  Month  TrainAcc   TestAcc    Income  Potential\n",
       "0   Dec  0.521277  0.588235  1.012213   0.209573\n",
       "0   Dec  0.521277  0.588235  1.012213   0.209573"
      ]
     },
     "execution_count": 39,
     "metadata": {},
     "output_type": "execute_result"
    }
   ],
   "source": [
    "pd.concat([df, df])"
   ]
  },
  {
   "cell_type": "code",
   "execution_count": null,
   "id": "d4f16076",
   "metadata": {},
   "outputs": [],
   "source": []
  },
  {
   "cell_type": "code",
   "execution_count": null,
   "id": "167a2f8b",
   "metadata": {},
   "outputs": [],
   "source": []
  },
  {
   "cell_type": "code",
   "execution_count": null,
   "id": "f5114716",
   "metadata": {},
   "outputs": [],
   "source": []
  },
  {
   "cell_type": "code",
   "execution_count": 15,
   "id": "208f98bf",
   "metadata": {},
   "outputs": [
    {
     "data": {
      "text/plain": [
       "100000"
      ]
     },
     "execution_count": 15,
     "metadata": {},
     "output_type": "execute_result"
    }
   ],
   "source": [
    "bpt.start_capital"
   ]
  },
  {
   "cell_type": "code",
   "execution_count": 7,
   "id": "bec9772a",
   "metadata": {},
   "outputs": [
    {
     "data": {
      "text/plain": [
       "<__main__.MovingAverageBin at 0x1be1d82bd00>"
      ]
     },
     "execution_count": 7,
     "metadata": {},
     "output_type": "execute_result"
    }
   ],
   "source": [
    "ticker = 'TSLA'\n",
    "model.fit(bpt.dataset[ticker][\"X_train\"], bpt.dataset[ticker][\"y_train\"])"
   ]
  },
  {
   "cell_type": "code",
   "execution_count": 8,
   "id": "80f31a07",
   "metadata": {},
   "outputs": [],
   "source": [
    "y_pred = model.predict(bpt.dataset[ticker][\"X_test\"])"
   ]
  },
  {
   "cell_type": "code",
   "execution_count": 17,
   "id": "1a011021",
   "metadata": {},
   "outputs": [
    {
     "name": "stdout",
     "output_type": "stream",
     "text": [
      "Train accuracy 0.52\n"
     ]
    }
   ],
   "source": [
    "scr = model.score(bpt.dataset[ticker][\"X_train\"], bpt.dataset[ticker][\"y_train\"])\n",
    "print(f\"Train accuracy {scr:.2f}\")"
   ]
  },
  {
   "cell_type": "code",
   "execution_count": 11,
   "id": "2f6874f6",
   "metadata": {},
   "outputs": [
    {
     "data": {
      "text/plain": [
       "10000000000.0"
      ]
     },
     "execution_count": 11,
     "metadata": {},
     "output_type": "execute_result"
    }
   ],
   "source": [
    "1e+10"
   ]
  },
  {
   "cell_type": "code",
   "execution_count": 67,
   "id": "f53ea03a",
   "metadata": {},
   "outputs": [
    {
     "data": {
      "text/plain": [
       "'Dec'"
      ]
     },
     "execution_count": 67,
     "metadata": {},
     "output_type": "execute_result"
    }
   ],
   "source": [
    "import calendar\n",
    "month_number = 12\n",
    "calendar.month_abbr[month_number]"
   ]
  },
  {
   "cell_type": "code",
   "execution_count": 43,
   "id": "74830aa8",
   "metadata": {},
   "outputs": [
    {
     "data": {
      "text/plain": [
       "4"
      ]
     },
     "execution_count": 43,
     "metadata": {},
     "output_type": "execute_result"
    }
   ],
   "source": [
    "int(datetime.datetime.now().date().__str__().split('-')[1])"
   ]
  },
  {
   "cell_type": "code",
   "execution_count": 25,
   "id": "ddcc5271",
   "metadata": {},
   "outputs": [
    {
     "data": {
      "text/plain": [
       "12"
      ]
     },
     "execution_count": 25,
     "metadata": {},
     "output_type": "execute_result"
    }
   ],
   "source": [
    "list(calendar.month_abbr).index('Dec')"
   ]
  },
  {
   "cell_type": "code",
   "execution_count": 34,
   "id": "93d2e394",
   "metadata": {},
   "outputs": [
    {
     "data": {
      "text/plain": [
       "(int, str, NoneType)"
      ]
     },
     "execution_count": 34,
     "metadata": {},
     "output_type": "execute_result"
    }
   ],
   "source": [
    "type(6), type(\"Dec\"), type(None)"
   ]
  },
  {
   "cell_type": "code",
   "execution_count": 38,
   "id": "26c7eaa7",
   "metadata": {},
   "outputs": [
    {
     "data": {
      "text/plain": [
       "False"
      ]
     },
     "execution_count": 38,
     "metadata": {},
     "output_type": "execute_result"
    }
   ],
   "source": [
    "type(None) == "
   ]
  },
  {
   "cell_type": "code",
   "execution_count": 53,
   "id": "8f0c029d",
   "metadata": {},
   "outputs": [
    {
     "name": "stdout",
     "output_type": "stream",
     "text": [
      "[*********************100%***********************]  1 of 1 completed\n"
     ]
    },
    {
     "data": {
      "text/html": [
       "<div>\n",
       "<style scoped>\n",
       "    .dataframe tbody tr th:only-of-type {\n",
       "        vertical-align: middle;\n",
       "    }\n",
       "\n",
       "    .dataframe tbody tr th {\n",
       "        vertical-align: top;\n",
       "    }\n",
       "\n",
       "    .dataframe thead th {\n",
       "        text-align: right;\n",
       "    }\n",
       "</style>\n",
       "<table border=\"1\" class=\"dataframe\">\n",
       "  <thead>\n",
       "    <tr style=\"text-align: right;\">\n",
       "      <th></th>\n",
       "      <th>Open</th>\n",
       "      <th>High</th>\n",
       "      <th>Low</th>\n",
       "      <th>Close</th>\n",
       "      <th>Adj Close</th>\n",
       "      <th>Volume</th>\n",
       "    </tr>\n",
       "    <tr>\n",
       "      <th>Date</th>\n",
       "      <th></th>\n",
       "      <th></th>\n",
       "      <th></th>\n",
       "      <th></th>\n",
       "      <th></th>\n",
       "      <th></th>\n",
       "    </tr>\n",
       "  </thead>\n",
       "  <tbody>\n",
       "    <tr>\n",
       "      <th>2023-02-01</th>\n",
       "      <td>173.889999</td>\n",
       "      <td>183.809998</td>\n",
       "      <td>169.929993</td>\n",
       "      <td>181.410004</td>\n",
       "      <td>181.410004</td>\n",
       "      <td>213806300</td>\n",
       "    </tr>\n",
       "    <tr>\n",
       "      <th>2023-02-02</th>\n",
       "      <td>187.330002</td>\n",
       "      <td>196.750000</td>\n",
       "      <td>182.610001</td>\n",
       "      <td>188.270004</td>\n",
       "      <td>188.270004</td>\n",
       "      <td>217448300</td>\n",
       "    </tr>\n",
       "    <tr>\n",
       "      <th>2023-02-03</th>\n",
       "      <td>183.949997</td>\n",
       "      <td>199.000000</td>\n",
       "      <td>183.690002</td>\n",
       "      <td>189.979996</td>\n",
       "      <td>189.979996</td>\n",
       "      <td>232662000</td>\n",
       "    </tr>\n",
       "    <tr>\n",
       "      <th>2023-02-06</th>\n",
       "      <td>193.009995</td>\n",
       "      <td>198.169998</td>\n",
       "      <td>189.919998</td>\n",
       "      <td>194.759995</td>\n",
       "      <td>194.759995</td>\n",
       "      <td>186188100</td>\n",
       "    </tr>\n",
       "    <tr>\n",
       "      <th>2023-02-07</th>\n",
       "      <td>196.429993</td>\n",
       "      <td>197.500000</td>\n",
       "      <td>189.550003</td>\n",
       "      <td>196.809998</td>\n",
       "      <td>196.809998</td>\n",
       "      <td>186010300</td>\n",
       "    </tr>\n",
       "    <tr>\n",
       "      <th>2023-02-08</th>\n",
       "      <td>196.100006</td>\n",
       "      <td>203.000000</td>\n",
       "      <td>194.309998</td>\n",
       "      <td>201.289993</td>\n",
       "      <td>201.289993</td>\n",
       "      <td>180673600</td>\n",
       "    </tr>\n",
       "    <tr>\n",
       "      <th>2023-02-09</th>\n",
       "      <td>207.779999</td>\n",
       "      <td>214.000000</td>\n",
       "      <td>204.770004</td>\n",
       "      <td>207.320007</td>\n",
       "      <td>207.320007</td>\n",
       "      <td>215431400</td>\n",
       "    </tr>\n",
       "    <tr>\n",
       "      <th>2023-02-10</th>\n",
       "      <td>202.229996</td>\n",
       "      <td>206.199997</td>\n",
       "      <td>192.889999</td>\n",
       "      <td>196.889999</td>\n",
       "      <td>196.889999</td>\n",
       "      <td>204754100</td>\n",
       "    </tr>\n",
       "    <tr>\n",
       "      <th>2023-02-13</th>\n",
       "      <td>194.419998</td>\n",
       "      <td>196.300003</td>\n",
       "      <td>187.610001</td>\n",
       "      <td>194.639999</td>\n",
       "      <td>194.639999</td>\n",
       "      <td>172475500</td>\n",
       "    </tr>\n",
       "    <tr>\n",
       "      <th>2023-02-14</th>\n",
       "      <td>191.940002</td>\n",
       "      <td>209.820007</td>\n",
       "      <td>189.440002</td>\n",
       "      <td>209.250000</td>\n",
       "      <td>209.250000</td>\n",
       "      <td>216455700</td>\n",
       "    </tr>\n",
       "    <tr>\n",
       "      <th>2023-02-15</th>\n",
       "      <td>211.759995</td>\n",
       "      <td>214.660004</td>\n",
       "      <td>206.110001</td>\n",
       "      <td>214.240005</td>\n",
       "      <td>214.240005</td>\n",
       "      <td>181006400</td>\n",
       "    </tr>\n",
       "    <tr>\n",
       "      <th>2023-02-16</th>\n",
       "      <td>210.779999</td>\n",
       "      <td>217.649994</td>\n",
       "      <td>201.839996</td>\n",
       "      <td>202.039993</td>\n",
       "      <td>202.039993</td>\n",
       "      <td>229586500</td>\n",
       "    </tr>\n",
       "    <tr>\n",
       "      <th>2023-02-17</th>\n",
       "      <td>199.990005</td>\n",
       "      <td>208.440002</td>\n",
       "      <td>197.500000</td>\n",
       "      <td>208.309998</td>\n",
       "      <td>208.309998</td>\n",
       "      <td>213738500</td>\n",
       "    </tr>\n",
       "    <tr>\n",
       "      <th>2023-02-21</th>\n",
       "      <td>204.990005</td>\n",
       "      <td>209.710007</td>\n",
       "      <td>197.220001</td>\n",
       "      <td>197.369995</td>\n",
       "      <td>197.369995</td>\n",
       "      <td>180018600</td>\n",
       "    </tr>\n",
       "    <tr>\n",
       "      <th>2023-02-22</th>\n",
       "      <td>197.929993</td>\n",
       "      <td>201.990005</td>\n",
       "      <td>191.779999</td>\n",
       "      <td>200.860001</td>\n",
       "      <td>200.860001</td>\n",
       "      <td>191828500</td>\n",
       "    </tr>\n",
       "    <tr>\n",
       "      <th>2023-02-23</th>\n",
       "      <td>203.910004</td>\n",
       "      <td>205.139999</td>\n",
       "      <td>196.330002</td>\n",
       "      <td>202.070007</td>\n",
       "      <td>202.070007</td>\n",
       "      <td>146360000</td>\n",
       "    </tr>\n",
       "    <tr>\n",
       "      <th>2023-02-24</th>\n",
       "      <td>196.330002</td>\n",
       "      <td>197.669998</td>\n",
       "      <td>192.800003</td>\n",
       "      <td>196.880005</td>\n",
       "      <td>196.880005</td>\n",
       "      <td>142228100</td>\n",
       "    </tr>\n",
       "    <tr>\n",
       "      <th>2023-02-27</th>\n",
       "      <td>202.029999</td>\n",
       "      <td>209.419998</td>\n",
       "      <td>201.259995</td>\n",
       "      <td>207.630005</td>\n",
       "      <td>207.630005</td>\n",
       "      <td>161028300</td>\n",
       "    </tr>\n",
       "  </tbody>\n",
       "</table>\n",
       "</div>"
      ],
      "text/plain": [
       "                  Open        High         Low       Close   Adj Close  \\\n",
       "Date                                                                     \n",
       "2023-02-01  173.889999  183.809998  169.929993  181.410004  181.410004   \n",
       "2023-02-02  187.330002  196.750000  182.610001  188.270004  188.270004   \n",
       "2023-02-03  183.949997  199.000000  183.690002  189.979996  189.979996   \n",
       "2023-02-06  193.009995  198.169998  189.919998  194.759995  194.759995   \n",
       "2023-02-07  196.429993  197.500000  189.550003  196.809998  196.809998   \n",
       "2023-02-08  196.100006  203.000000  194.309998  201.289993  201.289993   \n",
       "2023-02-09  207.779999  214.000000  204.770004  207.320007  207.320007   \n",
       "2023-02-10  202.229996  206.199997  192.889999  196.889999  196.889999   \n",
       "2023-02-13  194.419998  196.300003  187.610001  194.639999  194.639999   \n",
       "2023-02-14  191.940002  209.820007  189.440002  209.250000  209.250000   \n",
       "2023-02-15  211.759995  214.660004  206.110001  214.240005  214.240005   \n",
       "2023-02-16  210.779999  217.649994  201.839996  202.039993  202.039993   \n",
       "2023-02-17  199.990005  208.440002  197.500000  208.309998  208.309998   \n",
       "2023-02-21  204.990005  209.710007  197.220001  197.369995  197.369995   \n",
       "2023-02-22  197.929993  201.990005  191.779999  200.860001  200.860001   \n",
       "2023-02-23  203.910004  205.139999  196.330002  202.070007  202.070007   \n",
       "2023-02-24  196.330002  197.669998  192.800003  196.880005  196.880005   \n",
       "2023-02-27  202.029999  209.419998  201.259995  207.630005  207.630005   \n",
       "\n",
       "               Volume  \n",
       "Date                   \n",
       "2023-02-01  213806300  \n",
       "2023-02-02  217448300  \n",
       "2023-02-03  232662000  \n",
       "2023-02-06  186188100  \n",
       "2023-02-07  186010300  \n",
       "2023-02-08  180673600  \n",
       "2023-02-09  215431400  \n",
       "2023-02-10  204754100  \n",
       "2023-02-13  172475500  \n",
       "2023-02-14  216455700  \n",
       "2023-02-15  181006400  \n",
       "2023-02-16  229586500  \n",
       "2023-02-17  213738500  \n",
       "2023-02-21  180018600  \n",
       "2023-02-22  191828500  \n",
       "2023-02-23  146360000  \n",
       "2023-02-24  142228100  \n",
       "2023-02-27  161028300  "
      ]
     },
     "execution_count": 53,
     "metadata": {},
     "output_type": "execute_result"
    }
   ],
   "source": [
    "yf.download(\"TSLA\", start=\"2023-02-01\", end=\"2023-02-28\")"
   ]
  },
  {
   "cell_type": "code",
   "execution_count": 66,
   "id": "a7ebb655",
   "metadata": {},
   "outputs": [
    {
     "data": {
      "text/plain": [
       "(2, 28)"
      ]
     },
     "execution_count": 66,
     "metadata": {},
     "output_type": "execute_result"
    }
   ],
   "source": [
    "calendar.monthrange(2023, 2)"
   ]
  },
  {
   "cell_type": "code",
   "execution_count": 65,
   "id": "21a5d716",
   "metadata": {},
   "outputs": [
    {
     "data": {
      "text/plain": [
       "('2023-11-01', '2023-10-01')"
      ]
     },
     "execution_count": 65,
     "metadata": {},
     "output_type": "execute_result"
    }
   ],
   "source": [
    "end_date = \"2023-11-01\"\n",
    "\n",
    "end_datetime = datetime.datetime.fromisoformat(end_date)\n",
    "\n",
    "train_end_datetime = end_datetime - dateutil.relativedelta.relativedelta(months=1)\n",
    "\n",
    "end_date, train_end_datetime.strftime(\"%Y-%m-%d\")"
   ]
  },
  {
   "cell_type": "code",
   "execution_count": null,
   "id": "8635273e",
   "metadata": {},
   "outputs": [],
   "source": []
  },
  {
   "cell_type": "code",
   "execution_count": null,
   "id": "b01ac8bb",
   "metadata": {},
   "outputs": [],
   "source": []
  },
  {
   "cell_type": "code",
   "execution_count": null,
   "id": "ee9b8b09",
   "metadata": {},
   "outputs": [],
   "source": []
  },
  {
   "cell_type": "code",
   "execution_count": null,
   "id": "2c374206",
   "metadata": {},
   "outputs": [],
   "source": []
  },
  {
   "cell_type": "code",
   "execution_count": null,
   "id": "f848f4ce",
   "metadata": {},
   "outputs": [],
   "source": []
  }
 ],
 "metadata": {
  "kernelspec": {
   "display_name": "Python 3 (ipykernel)",
   "language": "python",
   "name": "python3"
  },
  "language_info": {
   "codemirror_mode": {
    "name": "ipython",
    "version": 3
   },
   "file_extension": ".py",
   "mimetype": "text/x-python",
   "name": "python",
   "nbconvert_exporter": "python",
   "pygments_lexer": "ipython3",
   "version": "3.10.10"
  }
 },
 "nbformat": 4,
 "nbformat_minor": 5
}
